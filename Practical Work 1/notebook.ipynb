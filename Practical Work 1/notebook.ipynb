{
  "nbformat": 4,
  "nbformat_minor": 0,
  "metadata": {
    "kernelspec": {
      "display_name": "Python 3",
      "language": "python",
      "name": "python3"
    },
    "language_info": {
      "codemirror_mode": {
        "name": "ipython",
        "version": 3
      },
      "file_extension": ".py",
      "mimetype": "text/x-python",
      "name": "python",
      "nbconvert_exporter": "python",
      "pygments_lexer": "ipython3",
      "version": "3.9.0-final"
    },
    "colab": {
      "name": "notebook.ipynb",
      "provenance": [],
      "collapsed_sections": []
    }
  },
  "cells": [
    {
      "cell_type": "markdown",
      "metadata": {
        "id": "VtMk6oKXNHGE"
      },
      "source": [
        "# Trabalho Prático 1 - Aplicação de redes neuronais a um novo dataset\n",
        "Objetivo: Explorar o uso de redes neuronais (keras) e comparação dos resultados com o uso de [AutoKeras](https://autokeras.com/).\n",
        "\n",
        "Tipo de tarefa machine learning: Classificação Binária.\n",
        "\n",
        "Dataset utilizado: [Titanic](https://public.opendatasoft.com/explore/dataset/titanic-passengers)\n",
        "\n",
        "Repositório: [GitHub](https://github.com/spamz23/Applied-Deep-Learning/tree/005e14f8c27e176ac310183a5a2216c8838f2abc/Practical%20Work%201)\n",
        "\n",
        "Trabalho realizado por:\n",
        "* [Diogo Silva](https://github.com/spamz23)\n",
        "* [Bruno Silva](https://github.com/brunosilva5)"
      ]
    },
    {
      "cell_type": "markdown",
      "metadata": {
        "id": "Ir64lObGN1-2"
      },
      "source": [
        "# Instalar dependências"
      ]
    },
    {
      "cell_type": "code",
      "metadata": {
        "id": "K_n9v8SVNPXZ"
      },
      "source": [
        "!pip install -r requirements.txt\n",
        "# Limpar output\n",
        "from IPython.display import clear_output\n",
        "clear_output()"
      ],
      "execution_count": 1201,
      "outputs": []
    },
    {
      "cell_type": "markdown",
      "metadata": {
        "id": "-VIqJzxKyC19"
      },
      "source": [
        "# Resultados Reproduzíveis\n",
        "Para uma comparação justa entre os resultados de 2 técnicas diferentes, é importante que os resultados de ambas as técnicas sejam **reproduzíveis**. Para isto podemos fazer \"seed\" nos geradores de números aleatórios usados no backend da biblioteca `keras`."
      ]
    },
    {
      "cell_type": "code",
      "metadata": {
        "id": "T4qpVl8oxf7O"
      },
      "source": [
        "global_seed = 0 # pode ser qualquer número\n",
        "from numpy.random import seed\n",
        "seed(global_seed)\n",
        "import tensorflow as tf\n",
        "tf.random.set_seed(global_seed)"
      ],
      "execution_count": 1202,
      "outputs": []
    },
    {
      "cell_type": "markdown",
      "metadata": {
        "id": "39Dm-ILMNHGF"
      },
      "source": [
        "## 1. Fazer load dos dados\n",
        "Para fazer load e tratar os dados, será utilizada a biblioteca pandas."
      ]
    },
    {
      "cell_type": "code",
      "metadata": {
        "id": "jJJP3eHENHGH"
      },
      "source": [
        "import pandas as pd\n",
        "\n",
        "index = \"PassengerId\"\n",
        "dataset = pd.read_excel(\"titanic-passengers.xlsx\", index_col=\"PassengerId\")\n"
      ],
      "execution_count": 1203,
      "outputs": []
    },
    {
      "cell_type": "markdown",
      "metadata": {
        "id": "HXkVU-onNHGL"
      },
      "source": [
        "### Primeiro é importante analisar e perceber a estrutura dos dados"
      ]
    },
    {
      "cell_type": "code",
      "metadata": {
        "id": "nfI9sHo9NHGM",
        "outputId": "d487d02d-5125-4cdf-e1eb-23c404634c30",
        "colab": {
          "base_uri": "https://localhost:8080/",
          "height": 420
        }
      },
      "source": [
        "dataset"
      ],
      "execution_count": 1204,
      "outputs": [
        {
          "output_type": "execute_result",
          "data": {
            "text/html": [
              "<div>\n",
              "<style scoped>\n",
              "    .dataframe tbody tr th:only-of-type {\n",
              "        vertical-align: middle;\n",
              "    }\n",
              "\n",
              "    .dataframe tbody tr th {\n",
              "        vertical-align: top;\n",
              "    }\n",
              "\n",
              "    .dataframe thead th {\n",
              "        text-align: right;\n",
              "    }\n",
              "</style>\n",
              "<table border=\"1\" class=\"dataframe\">\n",
              "  <thead>\n",
              "    <tr style=\"text-align: right;\">\n",
              "      <th></th>\n",
              "      <th>Survived</th>\n",
              "      <th>Pclass</th>\n",
              "      <th>Name</th>\n",
              "      <th>Sex</th>\n",
              "      <th>Age</th>\n",
              "      <th>SibSp</th>\n",
              "      <th>Parch</th>\n",
              "      <th>Ticket</th>\n",
              "      <th>Fare</th>\n",
              "      <th>Cabin</th>\n",
              "      <th>Embarked</th>\n",
              "    </tr>\n",
              "    <tr>\n",
              "      <th>PassengerId</th>\n",
              "      <th></th>\n",
              "      <th></th>\n",
              "      <th></th>\n",
              "      <th></th>\n",
              "      <th></th>\n",
              "      <th></th>\n",
              "      <th></th>\n",
              "      <th></th>\n",
              "      <th></th>\n",
              "      <th></th>\n",
              "      <th></th>\n",
              "    </tr>\n",
              "  </thead>\n",
              "  <tbody>\n",
              "    <tr>\n",
              "      <th>431</th>\n",
              "      <td>Yes</td>\n",
              "      <td>1</td>\n",
              "      <td>Bjornstrom-Steffansson, Mr. Mauritz Hakan</td>\n",
              "      <td>male</td>\n",
              "      <td>28.0</td>\n",
              "      <td>0</td>\n",
              "      <td>0</td>\n",
              "      <td>110564</td>\n",
              "      <td>26.5500</td>\n",
              "      <td>C52</td>\n",
              "      <td>S</td>\n",
              "    </tr>\n",
              "    <tr>\n",
              "      <th>664</th>\n",
              "      <td>No</td>\n",
              "      <td>3</td>\n",
              "      <td>Coleff, Mr. Peju</td>\n",
              "      <td>male</td>\n",
              "      <td>36.0</td>\n",
              "      <td>0</td>\n",
              "      <td>0</td>\n",
              "      <td>349210</td>\n",
              "      <td>7.4958</td>\n",
              "      <td>NaN</td>\n",
              "      <td>S</td>\n",
              "    </tr>\n",
              "    <tr>\n",
              "      <th>44</th>\n",
              "      <td>Yes</td>\n",
              "      <td>2</td>\n",
              "      <td>Laroche, Miss. Simonne Marie Anne Andree</td>\n",
              "      <td>female</td>\n",
              "      <td>3.0</td>\n",
              "      <td>1</td>\n",
              "      <td>2</td>\n",
              "      <td>SC/Paris 2123</td>\n",
              "      <td>41.5792</td>\n",
              "      <td>NaN</td>\n",
              "      <td>C</td>\n",
              "    </tr>\n",
              "    <tr>\n",
              "      <th>347</th>\n",
              "      <td>Yes</td>\n",
              "      <td>2</td>\n",
              "      <td>Smith, Miss. Marion Elsie</td>\n",
              "      <td>female</td>\n",
              "      <td>40.0</td>\n",
              "      <td>0</td>\n",
              "      <td>0</td>\n",
              "      <td>31418</td>\n",
              "      <td>13.0000</td>\n",
              "      <td>NaN</td>\n",
              "      <td>S</td>\n",
              "    </tr>\n",
              "    <tr>\n",
              "      <th>891</th>\n",
              "      <td>No</td>\n",
              "      <td>3</td>\n",
              "      <td>Dooley, Mr. Patrick</td>\n",
              "      <td>male</td>\n",
              "      <td>32.0</td>\n",
              "      <td>0</td>\n",
              "      <td>0</td>\n",
              "      <td>370376</td>\n",
              "      <td>7.7500</td>\n",
              "      <td>NaN</td>\n",
              "      <td>Q</td>\n",
              "    </tr>\n",
              "    <tr>\n",
              "      <th>...</th>\n",
              "      <td>...</td>\n",
              "      <td>...</td>\n",
              "      <td>...</td>\n",
              "      <td>...</td>\n",
              "      <td>...</td>\n",
              "      <td>...</td>\n",
              "      <td>...</td>\n",
              "      <td>...</td>\n",
              "      <td>...</td>\n",
              "      <td>...</td>\n",
              "      <td>...</td>\n",
              "    </tr>\n",
              "    <tr>\n",
              "      <th>779</th>\n",
              "      <td>No</td>\n",
              "      <td>3</td>\n",
              "      <td>Kilgannon, Mr. Thomas J</td>\n",
              "      <td>male</td>\n",
              "      <td>NaN</td>\n",
              "      <td>0</td>\n",
              "      <td>0</td>\n",
              "      <td>36865</td>\n",
              "      <td>7.7375</td>\n",
              "      <td>NaN</td>\n",
              "      <td>Q</td>\n",
              "    </tr>\n",
              "    <tr>\n",
              "      <th>435</th>\n",
              "      <td>No</td>\n",
              "      <td>1</td>\n",
              "      <td>Silvey, Mr. William Baird</td>\n",
              "      <td>male</td>\n",
              "      <td>50.0</td>\n",
              "      <td>1</td>\n",
              "      <td>0</td>\n",
              "      <td>13507</td>\n",
              "      <td>55.9000</td>\n",
              "      <td>E44</td>\n",
              "      <td>S</td>\n",
              "    </tr>\n",
              "    <tr>\n",
              "      <th>342</th>\n",
              "      <td>Yes</td>\n",
              "      <td>1</td>\n",
              "      <td>Fortune, Miss. Alice Elizabeth</td>\n",
              "      <td>female</td>\n",
              "      <td>24.0</td>\n",
              "      <td>3</td>\n",
              "      <td>2</td>\n",
              "      <td>19950</td>\n",
              "      <td>263.0000</td>\n",
              "      <td>C23 C25 C27</td>\n",
              "      <td>S</td>\n",
              "    </tr>\n",
              "    <tr>\n",
              "      <th>633</th>\n",
              "      <td>Yes</td>\n",
              "      <td>1</td>\n",
              "      <td>Stahelin-Maeglin, Dr. Max</td>\n",
              "      <td>male</td>\n",
              "      <td>32.0</td>\n",
              "      <td>0</td>\n",
              "      <td>0</td>\n",
              "      <td>13214</td>\n",
              "      <td>30.5000</td>\n",
              "      <td>B50</td>\n",
              "      <td>C</td>\n",
              "    </tr>\n",
              "    <tr>\n",
              "      <th>111</th>\n",
              "      <td>No</td>\n",
              "      <td>1</td>\n",
              "      <td>Porter, Mr. Walter Chamberlain</td>\n",
              "      <td>male</td>\n",
              "      <td>47.0</td>\n",
              "      <td>0</td>\n",
              "      <td>0</td>\n",
              "      <td>110465</td>\n",
              "      <td>52.0000</td>\n",
              "      <td>C110</td>\n",
              "      <td>S</td>\n",
              "    </tr>\n",
              "  </tbody>\n",
              "</table>\n",
              "<p>891 rows × 11 columns</p>\n",
              "</div>"
            ],
            "text/plain": [
              "            Survived  Pclass  ...        Cabin Embarked\n",
              "PassengerId                   ...                      \n",
              "431              Yes       1  ...          C52        S\n",
              "664               No       3  ...          NaN        S\n",
              "44               Yes       2  ...          NaN        C\n",
              "347              Yes       2  ...          NaN        S\n",
              "891               No       3  ...          NaN        Q\n",
              "...              ...     ...  ...          ...      ...\n",
              "779               No       3  ...          NaN        Q\n",
              "435               No       1  ...          E44        S\n",
              "342              Yes       1  ...  C23 C25 C27        S\n",
              "633              Yes       1  ...          B50        C\n",
              "111               No       1  ...         C110        S\n",
              "\n",
              "[891 rows x 11 columns]"
            ]
          },
          "metadata": {
            "tags": []
          },
          "execution_count": 1204
        }
      ]
    },
    {
      "cell_type": "markdown",
      "metadata": {
        "id": "VLRDMIQgNHGS"
      },
      "source": [
        "### Informações obtidas\n",
        "Na tabela acima podemos observar que o dataset de treino é composto por 891 linhas (cada linha corresponde a uma pessoa), e por 11 colunas.\n",
        "Podemos então tirar as seguintes conclusões:\n",
        "1. Existem várias colunas com variáveis categóricas (`Name`, `Sex`, `Ticket`, `Cabin`, `Embarked`). Todas estas terão que ser convertidas para números para se poderem usar na rede neuronal.\n",
        "2. Existem algumas colunas com valores `NaN`, ou seja valores em falta. Todas estas também terão que se preencher, ou então remover do dataset.\n",
        "3. A coluna `Survived`, tem apenas valores binários (`0` e `1`). Esta indica se a pessoa em questão sobreviveu (`1`) ou não (`0`). O objetivo da rede neuronal será prever os valores desta coluna. Esta coluna terá que ser separada das restantes, para que seja utilizada como output.\n"
      ]
    },
    {
      "cell_type": "markdown",
      "metadata": {
        "id": "u-WdLyF7NHGZ"
      },
      "source": [
        "# 2. Tratamento dos dados\n",
        "Tal como referido anteriormente existem \"problemas\" nos dados, que terão de ser resolvidos antes de os aplicar numa rede neuronal."
      ]
    },
    {
      "cell_type": "markdown",
      "metadata": {
        "id": "-EduZHjpTek3"
      },
      "source": [
        "## 2.1 Valores em falta"
      ]
    },
    {
      "cell_type": "markdown",
      "metadata": {
        "id": "bvJ6XFfRcaMI"
      },
      "source": [
        "Para saber quais as colunas que contêm valores `NaN` podemos utilizar o seguinte código:"
      ]
    },
    {
      "cell_type": "code",
      "metadata": {
        "id": "7R0qSnmHcmYL",
        "outputId": "b49619c9-0085-491f-94b0-8ff210e4f367",
        "colab": {
          "base_uri": "https://localhost:8080/"
        }
      },
      "source": [
        "print(f\"Colunas com valores 'NaN': {dataset.columns[dataset.isna().any()].tolist()}\")"
      ],
      "execution_count": 1205,
      "outputs": [
        {
          "output_type": "stream",
          "text": [
            "Colunas com valores 'NaN': ['Age', 'Cabin', 'Embarked']\n"
          ],
          "name": "stdout"
        }
      ]
    },
    {
      "cell_type": "markdown",
      "metadata": {
        "id": "9s3PhEHANHGZ"
      },
      "source": [
        "Podemos observar que existem 3 colunas com valores `NaN`: `Age`, `Cabin` e `Embarked`"
      ]
    },
    {
      "cell_type": "markdown",
      "metadata": {
        "id": "8qHSeQCsTo3h"
      },
      "source": [
        "### 2.1.1 Coluna 'Cabin'"
      ]
    },
    {
      "cell_type": "code",
      "metadata": {
        "id": "hDUoHRhERMtw",
        "outputId": "8d77329a-d494-4f67-8039-30edd872583a",
        "colab": {
          "base_uri": "https://localhost:8080/"
        }
      },
      "source": [
        "missing = dataset[\"Cabin\"].isnull().sum(axis=0)\n",
        "total = dataset.shape[0]\n",
        "\n",
        "print(f\"Percentagem de valores em falta na coluna 'Cabin': {(missing*100)/total:.2f} %\")"
      ],
      "execution_count": 1206,
      "outputs": [
        {
          "output_type": "stream",
          "text": [
            "Percentagem de valores em falta na coluna 'Cabin': 77.10 %\n"
          ],
          "name": "stdout"
        }
      ]
    },
    {
      "cell_type": "markdown",
      "metadata": {
        "id": "YNsOadEPSWjc"
      },
      "source": [
        "Como 77.10 % dos dados, na coluna `Cabin`, estão em falta, iremos proceder à remoção desta coluna, pois a sua inclusão provavelmente não se iria traduzir num ganho de informação na rede neuronal."
      ]
    },
    {
      "cell_type": "code",
      "metadata": {
        "id": "EaunDxtwNHGa"
      },
      "source": [
        "dataset.drop(columns=['Cabin'], inplace=True)"
      ],
      "execution_count": 1207,
      "outputs": []
    },
    {
      "cell_type": "markdown",
      "metadata": {
        "id": "JhcLfAWaTsnW"
      },
      "source": [
        "### 2.1.2 Coluna 'Embarked'"
      ]
    },
    {
      "cell_type": "code",
      "metadata": {
        "id": "k869BwlrNHGp",
        "outputId": "3f2806a7-148b-4fd8-ab65-574bb235858e",
        "colab": {
          "base_uri": "https://localhost:8080/"
        }
      },
      "source": [
        "missing = dataset[\"Embarked\"].isnull().sum(axis=0)\n",
        "total = dataset.shape[0]\n",
        "\n",
        "print(f\"Percentagem de valores em falta na coluna 'Embarked': {(missing*100)/total:.2f} %\")"
      ],
      "execution_count": 1208,
      "outputs": [
        {
          "output_type": "stream",
          "text": [
            "Percentagem de valores em falta na coluna 'Embarked': 0.22 %\n"
          ],
          "name": "stdout"
        }
      ]
    },
    {
      "cell_type": "markdown",
      "metadata": {
        "id": "pJOXYZWgUJy5"
      },
      "source": [
        "Como nesta coluna apenas estão em falta apenas 0.22 % dos dados (o que corresponde a 2 linhas) e trata-se de uma variável categórica, iremos preencher os valores em falta com o valor mais frequente nesta coluna. Para isto iremos utilizar o módulo [SimpleImputer](https://scikit-learn.org/stable/modules/generated/sklearn.impute.SimpleImputer.html#sklearn.impute.SimpleImputer) disponibilizado pela biblioteca [scikit-learn](https://scikit-learn.org/)."
      ]
    },
    {
      "cell_type": "code",
      "metadata": {
        "id": "BYgh4AWnU26p"
      },
      "source": [
        "from sklearn.impute import SimpleImputer\n",
        "import numpy as np\n",
        "# Criar objeto imputer com estratégia 'most_frequent'\n",
        "imp_most_frequent = SimpleImputer(missing_values=np.nan, strategy='most_frequent', verbose=0)\n",
        "# Aplicar na coluna 'Embarked'. Como vamos aplicar apenas a uma coluna, e o método espera um array 2D, é necessário fazer um reshape dos dados\n",
        "dataset[\"Embarked\"] = imp_most_frequent.fit_transform(dataset[\"Embarked\"].values.reshape(-1, 1))"
      ],
      "execution_count": 1209,
      "outputs": []
    },
    {
      "cell_type": "markdown",
      "metadata": {
        "id": "IZaLvf47YVg5"
      },
      "source": [
        "### 2.1.3 Coluna 'Age'"
      ]
    },
    {
      "cell_type": "code",
      "metadata": {
        "id": "-MGEP4HQYkKH",
        "outputId": "5e3f95ac-5545-44f1-9bfe-0c5ba00ea1e7",
        "colab": {
          "base_uri": "https://localhost:8080/"
        }
      },
      "source": [
        "missing = dataset[\"Age\"].isnull().sum(axis=0)\n",
        "total = dataset.shape[0]\n",
        "\n",
        "print(f\"Percentagem de valores em falta na coluna 'Age': {(missing*100)/total:.2f} %\")"
      ],
      "execution_count": 1210,
      "outputs": [
        {
          "output_type": "stream",
          "text": [
            "Percentagem de valores em falta na coluna 'Age': 19.87 %\n"
          ],
          "name": "stdout"
        }
      ]
    },
    {
      "cell_type": "markdown",
      "metadata": {
        "id": "RtrpVE_0YrS9"
      },
      "source": [
        "Nesta coluna estão em falta 19.87 % e trata-se de uma variável numérica, iremos preencher os valores em falta com o valor médio da coluna `Age`. Para isto iremos utilizar o mesmo módulo utilizado na coluna anterior. Existem 2 metodologias possíveis para o preenchimento de variáveis numéricas:\n",
        "1. Utilizar a média dos valores da coluna;\n",
        "2. Utilizar a mediana dos valores da coluna.\n",
        "Para decidir qual a melhor estratégia é necessário observar a curva de distribuição dos dados desta coluna (`Age`)."
      ]
    },
    {
      "cell_type": "code",
      "metadata": {
        "id": "9y0RE2xuak9z",
        "outputId": "000ad270-5391-47da-d9ff-57be6aac58d7",
        "colab": {
          "base_uri": "https://localhost:8080/",
          "height": 281
        }
      },
      "source": [
        "dataset[\"Age\"].plot.kde()"
      ],
      "execution_count": 1211,
      "outputs": [
        {
          "output_type": "execute_result",
          "data": {
            "text/plain": [
              "<matplotlib.axes._subplots.AxesSubplot at 0x7fc20b334940>"
            ]
          },
          "metadata": {
            "tags": []
          },
          "execution_count": 1211
        },
        {
          "output_type": "display_data",
          "data": {
            "image/png": "[encoded data removed]",
            "text/plain": [
              "<Figure size 432x288 with 1 Axes>"
            ]
          },
          "metadata": {
            "tags": [],
            "needs_background": "light"
          }
        }
      ]
    },
    {
      "cell_type": "markdown",
      "metadata": {
        "id": "aQv1FsJibHBc"
      },
      "source": [
        "Como é possível observar na figura acima, os dados não seguem uma distribuição normal. Assim concluímos que será mais vantajoso utilizar a mediana para o preenchimento dos valores em falta."
      ]
    },
    {
      "cell_type": "code",
      "metadata": {
        "id": "ixsI8oXNbcRc"
      },
      "source": [
        "from sklearn.impute import SimpleImputer\n",
        "import numpy as np\n",
        "# Criar objeto imputer com estratégia 'median'\n",
        "imp_median = SimpleImputer(missing_values=np.nan, strategy='median', verbose=0)\n",
        "# Aplicar na coluna 'Age'. Como vamos aplicar apenas a uma coluna, e o método espera um array 2D, é necessário fazer um reshape dos dados\n",
        "dataset[\"Age\"] = imp_median.fit_transform(dataset[\"Age\"].values.reshape(-1, 1))"
      ],
      "execution_count": 1212,
      "outputs": []
    },
    {
      "cell_type": "markdown",
      "metadata": {
        "id": "ll4HNbYkcDh9"
      },
      "source": [
        "## 2.2 Transformar valores categóricos em valores numéricos"
      ]
    },
    {
      "cell_type": "markdown",
      "metadata": {
        "id": "4JsL9pdTcMwG"
      },
      "source": [
        "Para saber quais as colunas que contêm valores não numéricos podemos utilizar o seguinte código:"
      ]
    },
    {
      "cell_type": "code",
      "metadata": {
        "id": "8txtWZfic-uD",
        "outputId": "0b397a76-3de9-40e3-b375-d0f8d80c2950",
        "colab": {
          "base_uri": "https://localhost:8080/"
        }
      },
      "source": [
        "non_numeric_columns = dataset.columns.difference(dataset._get_numeric_data().columns).to_list()\n",
        "print(f\"Colunas não númericas: {non_numeric_columns}\")"
      ],
      "execution_count": 1213,
      "outputs": [
        {
          "output_type": "stream",
          "text": [
            "Colunas não númericas: ['Embarked', 'Name', 'Sex', 'Survived', 'Ticket']\n"
          ],
          "name": "stdout"
        }
      ]
    },
    {
      "cell_type": "markdown",
      "metadata": {
        "id": "n8Gi28npd2Nm"
      },
      "source": [
        "### 2.2.1 Coluna 'Embarked', 'Sex', 'Name', 'Ticket'\n",
        "Em primeiro lugar iremos remover as colunas `Name` e `Ticket`, pois estas são únicas dos passageiros.\n",
        "Para transformar os valores das restantes colunas (`Embarked`, `Sex`) em valores numéricos iremos utilizar o método `get_dummies()` da biblioteca `pandas`. Este método irá criar, para cada coluna, novas `n` colunas, onde `n` é o numero de diferentes classes presentes em cada coluna. Estas novas colunas irão conter valores binários que indicam se uma linha pertence ou não a essa classe. \n",
        "\n",
        "Uma outra alternativa mais simples seria transformar, para cada coluna, cada classe diferente num valor inteiro diferente. Apesar de ser mais simples, esta tranformação poderia introduzir uma falsa sensação de hierarquiedade nos dados, o que poderia levar a rede neuronal a aprender falsas suposições. "
      ]
    },
    {
      "cell_type": "code",
      "metadata": {
        "id": "gvWXyxbShK8b"
      },
      "source": [
        "dataset.drop(columns=[\"Name\", \"Ticket\"], inplace=True)\n",
        "# Fazer OneHotEncoding para todas as colunas não numéricas, excepto a coluna 'Survived'\n",
        "dataset = pd.get_dummies(dataset, columns=[\"Embarked\", \"Sex\"])"
      ],
      "execution_count": 1214,
      "outputs": []
    },
    {
      "cell_type": "markdown",
      "metadata": {
        "id": "6n96-_z-SOvI"
      },
      "source": [
        "### 2.2.2 Coluna 'Survived'\n",
        "As transformações a esta coluna são simples. Esta apenas contêm os valores `Yes` ou `No`. Apenas temos que transformar estes valores para `1` ou `0`, respetivamente."
      ]
    },
    {
      "cell_type": "code",
      "metadata": {
        "id": "pBaxkQ7fSx9f"
      },
      "source": [
        "dataset[\"Survived\"] = dataset['Survived'].map({'Yes': 1, 'No': 0})"
      ],
      "execution_count": 1215,
      "outputs": []
    },
    {
      "cell_type": "markdown",
      "metadata": {
        "id": "e5vLD52VS6pS"
      },
      "source": [
        "## 2.3 Criar novos 'features' a partir de existentes\n",
        "No dataset existe a coluna `SibSp` que indica o número de irmãos/cônjuges, do passageiro, a bordo. Existe também a coluna `Parch` que indica o número de pais/filhos, do passageiro, a bordo.\n",
        "Como estas 2 colunas estão intrinsecamente relacionadas, decidimos uni-las numa só coluna, a que chamamos de `Family_Members`, que indica o número total de familiares a bordo do navio."
      ]
    },
    {
      "cell_type": "code",
      "metadata": {
        "id": "xzV6pHzVUInl"
      },
      "source": [
        "# União das colunas\n",
        "dataset[\"Family_Members\"] = dataset[\"SibSp\"] + dataset[\"Parch\"]\n",
        "# Apagar colunas que já não são necessárias\n",
        "dataset.drop(columns=[\"SibSp\", \"Parch\"], inplace=True)"
      ],
      "execution_count": 1216,
      "outputs": []
    },
    {
      "cell_type": "markdown",
      "metadata": {
        "id": "2urssVSjVwz4"
      },
      "source": [
        "## 2.4 Separação da coluna 'Survived'\n",
        "É também importante separar a coluna `Survived` do resto do dataset. Iremos criar 2 variáveis,  `X`  (irá conter os dados), e `y` (irá conter a coluna `Survived`)"
      ]
    },
    {
      "cell_type": "code",
      "metadata": {
        "id": "IY6MQEkkY-6c"
      },
      "source": [
        "X = dataset[dataset.columns.difference([\"Survived\"])]\n",
        "y = dataset[[\"Survived\"]]"
      ],
      "execution_count": 1217,
      "outputs": []
    },
    {
      "cell_type": "markdown",
      "metadata": {
        "id": "77LhuUhvUlwK"
      },
      "source": [
        "## 2.5 Normalização de dados\n",
        "Para que o modelo tenha uma maior performance, por vezes, é fundamental fazer a normalização dos dados. \n",
        "O objetivo da normalização é alterar os valores das colunas numéricas no conjunto de dados para uma escala comum, sem distorcer as diferenças no intervalos de valores.\n",
        "Neste dataset, como existe uma diferença significativa na escala dos valores, como por exemplo, na coluna `Pclass`, onde os valores variam entre 1 e 3, e as colunas `Age` e `Fare` que variam de `0` a `80` e `0` a `512`, respetivamente, é fundamental normalizar os dados pois os intervalos são muito diferentes."
      ]
    },
    {
      "cell_type": "code",
      "metadata": {
        "id": "SMAsivYlUzXE"
      },
      "source": [
        "from sklearn.preprocessing import StandardScaler\n",
        "\n",
        "# Definir colunas a normalizar\n",
        "cols = [\"Pclass\", \"Age\", \"Family_Members\", \"Fare\"]\n",
        "# Normalizar os dados\n",
        "scaled_columns = StandardScaler().fit_transform(X[cols].values)\n",
        "# Juntar os dados normalizados com os outros\n",
        "X = np.concatenate([X[X.columns.difference(cols)], scaled_columns], axis=1)\n"
      ],
      "execution_count": 1218,
      "outputs": []
    },
    {
      "cell_type": "markdown",
      "metadata": {
        "id": "9T3r7hkhcU-B"
      },
      "source": [
        "## 2.6 Divisão dos dados\n",
        "\n",
        "É fundamental fazer a divisão do dataset em dados de treino e dados de teste, de modo a poder avaliar a verdadeira capacidade de generalização, esta deve conseguir prever corretamente dados que nunca tenha visto.\n",
        "Uma metodologia bastante comum, é usar 80% dos dados para treinar o modelo e os restantes para avaliar a sua qualidade."
      ]
    },
    {
      "cell_type": "code",
      "metadata": {
        "id": "zH3aiLe0YiLZ"
      },
      "source": [
        "from sklearn.model_selection import train_test_split\n",
        "# Dividir dados em treino e teste. \n",
        "# 20% dos dados são usados para teste\n",
        "# random_state = 42, para resultados reproduzíveis\n",
        "X_train, X_test, y_train, y_test = train_test_split(X, y, test_size=0.2, random_state = global_seed)"
      ],
      "execution_count": 1219,
      "outputs": []
    },
    {
      "cell_type": "markdown",
      "metadata": {
        "id": "gvOs8ZyydOP1"
      },
      "source": [
        "# 3. Construir e treinar as Redes Neuronais"
      ]
    },
    {
      "cell_type": "code",
      "metadata": {
        "id": "qSw9-vFqhL4d"
      },
      "source": [
        "# Método para apresentar diferentes métricas de avaliação dos modelos\n",
        "def print_test_results(y_test, y_predict_proba):\n",
        "    # Gerar previsões de classes\n",
        "    y_predict = (y_predict_proba > 0.5).astype(np.int32)\n",
        "    # Comparar previsões com valores reais\n",
        "    print(\"Métricas obtidas nos dados de teste:\")\n",
        "    print(f\"ROC Auc: {sk_metrics.roc_auc_score(y_test, y_predict_proba):.2f}\")\n",
        "    print(f\"Accuracy: {sk_metrics.accuracy_score(y_test, y_predict):.2f}\")\n",
        "    print(f\"F1 Score: {sk_metrics.f1_score(y_test, y_predict):.2f}\")\n",
        "    print(f\"Precision: {sk_metrics.precision_score(y_test, y_predict):.2f}\")"
      ],
      "execution_count": 1220,
      "outputs": []
    },
    {
      "cell_type": "markdown",
      "metadata": {
        "id": "p2ffRCaJYB2h"
      },
      "source": [
        "## 3.1 Construção manual de rede neuronal Keras"
      ]
    },
    {
      "cell_type": "markdown",
      "metadata": {
        "id": "t4UHCfbtRjOo"
      },
      "source": [
        "Para usar os dados no tensorflow devemos converter os dados de numpy para formato nativo do tensorflow."
      ]
    },
    {
      "cell_type": "markdown",
      "metadata": {
        "id": "blgANPLGKyWa"
      },
      "source": [
        "Primeiro iremos construir uma rede simples, e verificar se esta tem algum poder de generalização para os dados não vistos. Depois iremos gradualmente aumentar a complexidade da rede, verificando o seu novo desempenho a cada etapa.\n",
        "Iremos definir alguns métodos que serão usados por todas as redes contruidas.\n",
        "Em baixo iremos definir 2 *callbacks* (métodos que serão chamados a cada *epoch*):\n",
        "\n",
        "\n",
        "*   `EarlyStopping` para prevenir treino excessivo, e reduzir o *overfitting*;\n",
        "\n"
      ]
    },
    {
      "cell_type": "code",
      "metadata": {
        "id": "F7u22htpN1MB"
      },
      "source": [
        "import tensorflow_docs as tfdocs\n",
        "import tensorflow_docs.plots\n",
        "\n",
        "import matplotlib.pyplot as plt\n",
        "import tensorflow as tf\n",
        "\n",
        "\n",
        "def get_callbacks(name):\n",
        "  return [\n",
        "    tf.keras.callbacks.EarlyStopping(monitor='val_auroc', patience=200),\n",
        "  ]"
      ],
      "execution_count": 1242,
      "outputs": []
    },
    {
      "cell_type": "markdown",
      "metadata": {
        "id": "Qser24SRPtUT"
      },
      "source": [
        "De seguida podemos também definir um método `compile_fit` que será reutilizado por todos os modelos. Este método irá compilar e treinar cada modelo."
      ]
    },
    {
      "cell_type": "code",
      "metadata": {
        "id": "oZd_jx9uPkNA"
      },
      "source": [
        "from sklearn.metrics import roc_auc_score\n",
        "\n",
        "def auroc(y_true, y_pred):\n",
        "    return tf.py_function(roc_auc_score, (y_true, y_pred), tf.double)\n",
        "\n",
        "def compile_fit(model, name, max_epochs=10000):\n",
        "  \n",
        "  model.compile(optimizer=tf.keras.optimizers.Adam(),\n",
        "                loss=tf.keras.losses.BinaryCrossentropy(),\n",
        "                metrics=[auroc])\n",
        "  model.summary()\n",
        "\n",
        "  history = model.fit(\n",
        "    X_train,\n",
        "    y_train,\n",
        "    epochs=max_epochs,\n",
        "    validation_split=0.15, # 15% para validação\n",
        "    callbacks=get_callbacks(name),\n",
        "    verbose=0)\n",
        "  return history"
      ],
      "execution_count": 1243,
      "outputs": []
    },
    {
      "cell_type": "code",
      "metadata": {
        "id": "VCkeyJ0ITKEz"
      },
      "source": [
        "# Dicionário para guardar os históricos de treino\n",
        "history={}"
      ],
      "execution_count": 1244,
      "outputs": []
    },
    {
      "cell_type": "markdown",
      "metadata": {
        "id": "2bybI8cNShJq"
      },
      "source": [
        "### Modelo 1\n",
        "Podemos então criar o nosso primeiro modelo com apenas 2 camadas e poucos neurónios."
      ]
    },
    {
      "cell_type": "code",
      "metadata": {
        "id": "XCogh1KMSol9"
      },
      "source": [
        "model_1 = tf.keras.Sequential([\n",
        "    tf.keras.layers.Dense(8, activation='relu', input_shape=(X_train.shape[1],)),\n",
        "    tf.keras.layers.Dense(1, activation = 'sigmoid') # apenas um neurónio para output de 0 ou 1\n",
        "])\n"
      ],
      "execution_count": 1245,
      "outputs": []
    },
    {
      "cell_type": "code",
      "metadata": {
        "id": "RpHBT9YTdWaq",
        "outputId": "5068d1c9-ff0b-4c24-d78d-e50d3d390346",
        "colab": {
          "base_uri": "https://localhost:8080/",
          "height": 510
        }
      },
      "source": [
        "# Adicionar ao dicionário\n",
        "history[\"first_model\"] = compile_fit(model_1, \"first_model\")\n",
        "# Podemos fazer o plot do treino do modelo\n",
        "# Criar plotter\n",
        "plotter = tfdocs.plots.HistoryPlotter(metric = 'auroc', smoothing_std=10)\n",
        "# Fazemos plot do historico de treino\n",
        "plotter.plot(history)\n",
        "plt.ylim([0.5, 1]) # Apenas de 0.5 para cima\n"
      ],
      "execution_count": 1246,
      "outputs": [
        {
          "output_type": "stream",
          "text": [
            "Model: \"sequential\"\n",
            "_________________________________________________________________\n",
            "Layer (type)                 Output Shape              Param #   \n",
            "=================================================================\n",
            "dense_3 (Dense)              (None, 8)                 80        \n",
            "_________________________________________________________________\n",
            "dense_4 (Dense)              (None, 1)                 9         \n",
            "=================================================================\n",
            "Total params: 89\n",
            "Trainable params: 89\n",
            "Non-trainable params: 0\n",
            "_________________________________________________________________\n",
            "WARNING:tensorflow:Callbacks method `on_train_batch_end` is slow compared to the batch time (batch time: 0.0034s vs `on_train_batch_end` time: 1.1976s). Check your callbacks.\n"
          ],
          "name": "stdout"
        },
        {
          "output_type": "execute_result",
          "data": {
            "text/plain": [
              "(0.5, 1.0)"
            ]
          },
          "metadata": {
            "tags": []
          },
          "execution_count": 1246
        },
        {
          "output_type": "display_data",
          "data": {
            "image/png": "[encoded data removed]",
            "text/plain": [
              "<Figure size 432x288 with 1 Axes>"
            ]
          },
          "metadata": {
            "tags": [],
            "needs_background": "light"
          }
        }
      ]
    },
    {
      "cell_type": "markdown",
      "metadata": {
        "id": "QHyDUY6Ta0g3"
      },
      "source": [
        "**Resultados nos dados de teste:**"
      ]
    },
    {
      "cell_type": "code",
      "metadata": {
        "id": "qDqTNT5ea4UZ",
        "outputId": "5c90efa6-5ff5-4ff8-c1e1-6412428afdc8",
        "colab": {
          "base_uri": "https://localhost:8080/"
        }
      },
      "source": [
        "print_test_results(y_test, model_1.predict(X_test))\n"
      ],
      "execution_count": 1226,
      "outputs": [
        {
          "output_type": "stream",
          "text": [
            "Métricas obtidas nos dados de teste:\n",
            "ROC Auc: 0.88\n",
            "Accuracy: 0.83\n",
            "F1 Score: 0.74\n",
            "Precision: 0.75\n"
          ],
          "name": "stdout"
        }
      ]
    },
    {
      "cell_type": "markdown",
      "metadata": {
        "id": "Hlpwllh3Y1Lu"
      },
      "source": [
        "Como podemos observar no gráfico acima, o valor de validação da métrica escolhida (`AUROC`) mantém-se equivalente ao de treino. Podemos tentar melhorar a performance aumentando o número de camadas da rede, o que irá aumentar o número de parâmetros treináveis, aumentado a capacidade de aprendizagem da rede."
      ]
    },
    {
      "cell_type": "markdown",
      "metadata": {
        "id": "On6mRjlebqSa"
      },
      "source": [
        "### Modelo 2\n",
        "Adicionamos mais uma camada, e aumentamos o número de neurónios para `32`."
      ]
    },
    {
      "cell_type": "code",
      "metadata": {
        "id": "6ISRW79lby_c"
      },
      "source": [
        "model_2 = tf.keras.Sequential([\n",
        "    tf.keras.layers.Dense(32, activation='relu', input_shape=(X_train.shape[1],)),\n",
        "    tf.keras.layers.Dense(32, activation='relu'),\n",
        "    tf.keras.layers.Dense(1, activation = 'sigmoid') # apenas um neurónio para output de 0 ou 1\n",
        "])"
      ],
      "execution_count": 1227,
      "outputs": []
    },
    {
      "cell_type": "code",
      "metadata": {
        "id": "r8YqsMpIcIjs",
        "outputId": "d7f26f41-7b1b-49c7-97f4-e7754ae7c4af",
        "colab": {
          "base_uri": "https://localhost:8080/",
          "height": 542
        }
      },
      "source": [
        "# Adicionar ao dicionário\n",
        "history[\"second_model\"] = compile_fit(model_2, \"second_model\")\n",
        "\n",
        "# Fazemos plot do historico de treino\n",
        "plotter.plot(history)\n",
        "plt.ylim([0.7, 1]) # Apenas de 0.7 para cima\n",
        "plt.xlim([5, max(plt.xlim())])"
      ],
      "execution_count": 1228,
      "outputs": [
        {
          "output_type": "stream",
          "text": [
            "Model: \"sequential_1\"\n",
            "_________________________________________________________________\n",
            "Layer (type)                 Output Shape              Param #   \n",
            "=================================================================\n",
            "dense_5 (Dense)              (None, 32)                320       \n",
            "_________________________________________________________________\n",
            "dense_6 (Dense)              (None, 32)                1056      \n",
            "_________________________________________________________________\n",
            "dense_7 (Dense)              (None, 1)                 33        \n",
            "=================================================================\n",
            "Total params: 1,409\n",
            "Trainable params: 1,409\n",
            "Non-trainable params: 0\n",
            "_________________________________________________________________\n",
            "WARNING:tensorflow:Callbacks method `on_train_batch_end` is slow compared to the batch time (batch time: 0.0038s vs `on_train_batch_end` time: 0.0452s). Check your callbacks.\n"
          ],
          "name": "stdout"
        },
        {
          "output_type": "execute_result",
          "data": {
            "text/plain": [
              "(5.0, 200.0)"
            ]
          },
          "metadata": {
            "tags": []
          },
          "execution_count": 1228
        },
        {
          "output_type": "display_data",
          "data": {
            "image/png": "[encoded data removed]",
            "text/plain": [
              "<Figure size 432x288 with 1 Axes>"
            ]
          },
          "metadata": {
            "tags": [],
            "needs_background": "light"
          }
        }
      ]
    },
    {
      "cell_type": "markdown",
      "metadata": {
        "id": "uB94FeUmhAjv"
      },
      "source": [
        "**Resultados nos dados de teste:**"
      ]
    },
    {
      "cell_type": "code",
      "metadata": {
        "id": "1wiGiTxAhBUg",
        "outputId": "33666e22-3b6b-402d-e97b-0025d0544cd5",
        "colab": {
          "base_uri": "https://localhost:8080/"
        }
      },
      "source": [
        "print_test_results(y_test, model_2.predict(X_test))\n"
      ],
      "execution_count": 1229,
      "outputs": [
        {
          "output_type": "stream",
          "text": [
            "Métricas obtidas nos dados de teste:\n",
            "ROC Auc: 0.83\n",
            "Accuracy: 0.77\n",
            "F1 Score: 0.69\n",
            "Precision: 0.63\n"
          ],
          "name": "stdout"
        }
      ]
    },
    {
      "cell_type": "markdown",
      "metadata": {
        "id": "BA27lplwhU6s"
      },
      "source": [
        "Como podemos observar o segundo modelo construído (um modelo mais complexo) começou rapidamente a sofrer de overfit (o valor da métrica de validação rapidamente divergiu do valor de treino). Isto indica-nos que o modelo tem pior capacidade de generalização, o que é possível constatar pelos piores resultados obtidos nos dados de teste.\n",
        "Veremos agora o desempenho de uma rede ainda maior.\n"
      ]
    },
    {
      "cell_type": "markdown",
      "metadata": {
        "id": "zzSmX1N4neIG"
      },
      "source": [
        "### Modelo 3\n",
        "Aumentamos as camadas e o número de neurónios para 64."
      ]
    },
    {
      "cell_type": "code",
      "metadata": {
        "id": "nYKLSdBMnopo"
      },
      "source": [
        "model_3 = tf.keras.Sequential([\n",
        "    tf.keras.layers.Dense(64, activation='relu', input_shape=(X_train.shape[1],)),\n",
        "    tf.keras.layers.Dense(64, activation='relu'),\n",
        "    tf.keras.layers.Dense(64, activation='relu'),\n",
        "    tf.keras.layers.Dense(1, activation = 'sigmoid') # apenas um neurónio para output de 0 ou 1\n",
        "])"
      ],
      "execution_count": 1230,
      "outputs": []
    },
    {
      "cell_type": "code",
      "metadata": {
        "id": "U_W-aBa9ngGt",
        "outputId": "6132fa8d-b545-423a-91bd-4e8c90e3fc7f",
        "colab": {
          "base_uri": "https://localhost:8080/",
          "height": 575
        }
      },
      "source": [
        "# Adicionar ao dicionário\n",
        "history[\"third_model\"] = compile_fit(model_3, \"third_model\")\n",
        "\n",
        "# Fazemos plot do historico de treino\n",
        "plotter.plot(history)\n",
        "plt.ylim([0.7, 1]) # Apenas de 0.7 para cima\n",
        "plt.xlim([5, max(plt.xlim())])"
      ],
      "execution_count": 1231,
      "outputs": [
        {
          "output_type": "stream",
          "text": [
            "Model: \"sequential_2\"\n",
            "_________________________________________________________________\n",
            "Layer (type)                 Output Shape              Param #   \n",
            "=================================================================\n",
            "dense_8 (Dense)              (None, 64)                640       \n",
            "_________________________________________________________________\n",
            "dense_9 (Dense)              (None, 64)                4160      \n",
            "_________________________________________________________________\n",
            "dense_10 (Dense)             (None, 64)                4160      \n",
            "_________________________________________________________________\n",
            "dense_11 (Dense)             (None, 1)                 65        \n",
            "=================================================================\n",
            "Total params: 9,025\n",
            "Trainable params: 9,025\n",
            "Non-trainable params: 0\n",
            "_________________________________________________________________\n",
            "WARNING:tensorflow:Callbacks method `on_train_batch_end` is slow compared to the batch time (batch time: 0.0048s vs `on_train_batch_end` time: 0.0490s). Check your callbacks.\n"
          ],
          "name": "stdout"
        },
        {
          "output_type": "execute_result",
          "data": {
            "text/plain": [
              "(5.0, 200.0)"
            ]
          },
          "metadata": {
            "tags": []
          },
          "execution_count": 1231
        },
        {
          "output_type": "display_data",
          "data": {
            "image/png": "[encoded data removed]",
            "text/plain": [
              "<Figure size 432x288 with 1 Axes>"
            ]
          },
          "metadata": {
            "tags": [],
            "needs_background": "light"
          }
        }
      ]
    },
    {
      "cell_type": "markdown",
      "metadata": {
        "id": "OfdZ0EaCoTkD"
      },
      "source": [
        "**Resultados nos dados de teste:**"
      ]
    },
    {
      "cell_type": "code",
      "metadata": {
        "id": "B0jz0AUboVwN",
        "outputId": "6a123807-22ef-4e04-c5ed-5df9c9d3de7d",
        "colab": {
          "base_uri": "https://localhost:8080/"
        }
      },
      "source": [
        "print_test_results(y_test, model_3.predict(X_test))\n"
      ],
      "execution_count": 1232,
      "outputs": [
        {
          "output_type": "stream",
          "text": [
            "Métricas obtidas nos dados de teste:\n",
            "ROC Auc: 0.81\n",
            "Accuracy: 0.79\n",
            "F1 Score: 0.69\n",
            "Precision: 0.68\n"
          ],
          "name": "stdout"
        }
      ]
    },
    {
      "cell_type": "markdown",
      "metadata": {
        "id": "VSi69qM2nSGJ"
      },
      "source": [
        "**Podemos então agora aplicar estratégias para prevenir o Overfitting:**\n",
        "* Aplicar regularização: Esta estratégia penaliza os parâmetros da rede neuronal com valores altos."
      ]
    },
    {
      "cell_type": "code",
      "metadata": {
        "id": "FfTYkqUfjYhB"
      },
      "source": [
        "# Importar regularizadores\n",
        "from tensorflow.keras import regularizers\n",
        "# Igual ao modelo 3 mas com regularizalão 'l2'\n",
        "model_3_l2 = tf.keras.Sequential([\n",
        "    tf.keras.layers.Dense(64, activation='relu', \n",
        "                          kernel_regularizer=regularizers.l2(0.003), input_shape=(X_train.shape[1],)),\n",
        "    tf.keras.layers.Dense(64, kernel_regularizer=regularizers.l2(0.003), activation='relu'),\n",
        "    tf.keras.layers.Dense(64, kernel_regularizer=regularizers.l2(0.003), activation='relu'),\n",
        "    tf.keras.layers.Dense(1, activation = 'sigmoid') # apenas um neurónio para output de 0 ou 1\n",
        "])"
      ],
      "execution_count": 1233,
      "outputs": []
    },
    {
      "cell_type": "code",
      "metadata": {
        "id": "sIFmbT16lr6o",
        "outputId": "b38c1003-b698-4a6a-bf2b-77e969d6732e",
        "colab": {
          "base_uri": "https://localhost:8080/",
          "height": 575
        }
      },
      "source": [
        "# Adicionar ao dicionário\n",
        "history[\"third_model_l2\"] = compile_fit(model_3_l2, \"third_model_l2\")\n",
        "\n",
        "# Fazemos plot do historico de treino\n",
        "plotter.plot(history)\n",
        "plt.legend(bbox_to_anchor=(1, 1), loc='upper left', ncol=1)\n",
        "plt.ylim([0.7, 1]) # Apenas de 0.7 para cima\n",
        "plt.xlim([5, max(plt.xlim())])"
      ],
      "execution_count": 1234,
      "outputs": [
        {
          "output_type": "stream",
          "text": [
            "Model: \"sequential_3\"\n",
            "_________________________________________________________________\n",
            "Layer (type)                 Output Shape              Param #   \n",
            "=================================================================\n",
            "dense_12 (Dense)             (None, 64)                640       \n",
            "_________________________________________________________________\n",
            "dense_13 (Dense)             (None, 64)                4160      \n",
            "_________________________________________________________________\n",
            "dense_14 (Dense)             (None, 64)                4160      \n",
            "_________________________________________________________________\n",
            "dense_15 (Dense)             (None, 1)                 65        \n",
            "=================================================================\n",
            "Total params: 9,025\n",
            "Trainable params: 9,025\n",
            "Non-trainable params: 0\n",
            "_________________________________________________________________\n",
            "WARNING:tensorflow:Callbacks method `on_train_batch_end` is slow compared to the batch time (batch time: 0.0041s vs `on_train_batch_end` time: 0.0607s). Check your callbacks.\n"
          ],
          "name": "stdout"
        },
        {
          "output_type": "execute_result",
          "data": {
            "text/plain": [
              "(5.0, 200.0)"
            ]
          },
          "metadata": {
            "tags": []
          },
          "execution_count": 1234
        },
        {
          "output_type": "display_data",
          "data": {
            "image/png": "[encoded data removed]",
            "text/plain": [
              "<Figure size 432x288 with 1 Axes>"
            ]
          },
          "metadata": {
            "tags": [],
            "needs_background": "light"
          }
        }
      ]
    },
    {
      "cell_type": "markdown",
      "metadata": {
        "id": "x2gGyIgzxhSM"
      },
      "source": [
        "**Resultados nos dados de teste:**"
      ]
    },
    {
      "cell_type": "code",
      "metadata": {
        "id": "BBVDXQCXxWFA",
        "outputId": "b3986bf6-6be5-4fe4-b9d5-07fc51665c85",
        "colab": {
          "base_uri": "https://localhost:8080/"
        }
      },
      "source": [
        "print_test_results(y_test, model_3_l2.predict(X_test))"
      ],
      "execution_count": 1235,
      "outputs": [
        {
          "output_type": "stream",
          "text": [
            "Métricas obtidas nos dados de teste:\n",
            "ROC Auc: 0.84\n",
            "Accuracy: 0.80\n",
            "F1 Score: 0.71\n",
            "Precision: 0.68\n"
          ],
          "name": "stdout"
        }
      ]
    },
    {
      "cell_type": "markdown",
      "metadata": {
        "id": "A1abYVHMtZQL"
      },
      "source": [
        "* Aplicar Dropout: O `Dropout` é uma das técnicas mais utilizadas para combater o overfitting. Consiste em cortar aleatoriamente ligações entre neurónios."
      ]
    },
    {
      "cell_type": "code",
      "metadata": {
        "id": "-D1qzN3kt2EO"
      },
      "source": [
        "\n",
        "# Igual ao modelo 3 mas com regularização 'l2' e camadas dropout\n",
        "model_3_l2_dropout = tf.keras.Sequential([\n",
        "    tf.keras.layers.Dense(64, activation='relu', \n",
        "                          kernel_regularizer=regularizers.l2(0.001), input_shape=(X_train.shape[1],)),\n",
        "    tf.keras.layers.Dropout(0.5),\n",
        "    tf.keras.layers.Dense(64, kernel_regularizer=regularizers.l2(0.001), activation='relu'),\n",
        "    tf.keras.layers.Dropout(0.5),\n",
        "    tf.keras.layers.Dense(64, kernel_regularizer=regularizers.l2(0.001), activation='relu'),\n",
        "    tf.keras.layers.Dropout(0.5),\n",
        "    tf.keras.layers.Dense(1, activation = 'sigmoid') # apenas um neurónio para output de 0 ou 1\n",
        "])"
      ],
      "execution_count": 1236,
      "outputs": []
    },
    {
      "cell_type": "code",
      "metadata": {
        "id": "b1BT2WLxupN8",
        "outputId": "9230cfe3-9ac5-4152-dc54-d3c9b4f3c123",
        "colab": {
          "base_uri": "https://localhost:8080/",
          "height": 672
        }
      },
      "source": [
        "# Adicionar ao dicionário\n",
        "history[\"third_model_l2_dropout\"] = compile_fit(model_3_l2_dropout, \"third_model_l2_dropout\")\n",
        "\n",
        "# Fazemos plot do historico de treino\n",
        "plotter.plot(history)\n",
        "plt.legend(bbox_to_anchor=(1, 1), loc='upper left', ncol=1)\n",
        "plt.ylim([0.7, 1]) # Apenas de 0.7 para cima\n",
        "plt.xlim([5, max(plt.xlim())])"
      ],
      "execution_count": 1237,
      "outputs": [
        {
          "output_type": "stream",
          "text": [
            "Model: \"sequential_4\"\n",
            "_________________________________________________________________\n",
            "Layer (type)                 Output Shape              Param #   \n",
            "=================================================================\n",
            "dense_16 (Dense)             (None, 64)                640       \n",
            "_________________________________________________________________\n",
            "dropout_1 (Dropout)          (None, 64)                0         \n",
            "_________________________________________________________________\n",
            "dense_17 (Dense)             (None, 64)                4160      \n",
            "_________________________________________________________________\n",
            "dropout_2 (Dropout)          (None, 64)                0         \n",
            "_________________________________________________________________\n",
            "dense_18 (Dense)             (None, 64)                4160      \n",
            "_________________________________________________________________\n",
            "dropout_3 (Dropout)          (None, 64)                0         \n",
            "_________________________________________________________________\n",
            "dense_19 (Dense)             (None, 1)                 65        \n",
            "=================================================================\n",
            "Total params: 9,025\n",
            "Trainable params: 9,025\n",
            "Non-trainable params: 0\n",
            "_________________________________________________________________\n",
            "WARNING:tensorflow:Callbacks method `on_train_batch_end` is slow compared to the batch time (batch time: 0.0042s vs `on_train_batch_end` time: 0.0712s). Check your callbacks.\n"
          ],
          "name": "stdout"
        },
        {
          "output_type": "execute_result",
          "data": {
            "text/plain": [
              "(5.0, 200.0)"
            ]
          },
          "metadata": {
            "tags": []
          },
          "execution_count": 1237
        },
        {
          "output_type": "display_data",
          "data": {
            "image/png": "[encoded data removed]",
            "text/plain": [
              "<Figure size 432x288 with 1 Axes>"
            ]
          },
          "metadata": {
            "tags": [],
            "needs_background": "light"
          }
        }
      ]
    },
    {
      "cell_type": "markdown",
      "metadata": {
        "id": "6df0Kxnxxc4J"
      },
      "source": [
        "**Resultados nos dados de teste:**"
      ]
    },
    {
      "cell_type": "code",
      "metadata": {
        "id": "Vc6FRPq-xcNS",
        "outputId": "a5b5bcf4-83dc-4795-a466-1a5df48a6de6",
        "colab": {
          "base_uri": "https://localhost:8080/"
        }
      },
      "source": [
        "print_test_results(y_test, model_3_l2_dropout.predict(X_test))"
      ],
      "execution_count": 1238,
      "outputs": [
        {
          "output_type": "stream",
          "text": [
            "Métricas obtidas nos dados de teste:\n",
            "ROC Auc: 0.88\n",
            "Accuracy: 0.83\n",
            "F1 Score: 0.75\n",
            "Precision: 0.73\n"
          ],
          "name": "stdout"
        }
      ]
    },
    {
      "cell_type": "markdown",
      "metadata": {
        "id": "1Ub7dq-QyYSH"
      },
      "source": [
        "Como podemos observar no gráfico acima a última rede construída (mais complexa) obteve um desempenho bastante similar à primeira rede (mais simples). Podemos também comprovar isto através da análise dos valores das métricas obtidas nos dados de teste. Ambos apresentaram valores muito próximos.\n",
        "Com base no princípio de [Occam's Razor](https://pt.wikipedia.org/wiki/Navalha_de_Ockham), em caso de dúvida devemos optar pelo modelo mais simples. Este permite resultados bastante semelhantes, com a vantagem de um custo computacional significativamente mais baixo, assim como um menor tempo de treino.\n",
        "\n",
        "| Modelo | ROC Auc | Accuracy | F1 Score | Precision\n",
        "|:---:|:---:|:---:|:---:|:---:|\n",
        "| Modelo 1 | 0.88 | 0.83 | 0.74 | **0.75** | \n",
        "| Modelo 3 (com L2 e Dropout) |  0.88 | 0.83 | **0.75** | 0.73 | "
      ]
    },
    {
      "cell_type": "markdown",
      "metadata": {
        "id": "tNJBU6PfzcV5"
      },
      "source": [
        "## 3.2 Uso do `AutoKeras`\n",
        "A biblioteca `AutoKeras` é uma biblioteca de AutoML (*Automated Machine Learning*), e pretende tornar o uso de *machine learning* acessível a todos. \n",
        "\n",
        "O seu objetivo é abstrair um utilizador da escolha dos vários hyper-parâmetros de uma rede neuronal, bem como da sua arquitetura. Esta biblioteca experimenta `n` redes com configurações diferentes, e escolhe automaticamente a que melhor se adapta aos dados, ou seja a que tiver melhor capacidade de generalização."
      ]
    },
    {
      "cell_type": "code",
      "metadata": {
        "id": "qJYSzrql0Ym1",
        "outputId": "df50f907-7ebb-492c-a412-183e0d5f0db4",
        "colab": {
          "base_uri": "https://localhost:8080/"
        }
      },
      "source": [
        "import autokeras as ak\n",
        "\n",
        "# Construir modelo\n",
        "auto_model = ak.StructuredDataClassifier(\n",
        "    overwrite=True,\n",
        "    seed=global_seed,\n",
        "    max_trials=20) # Experimenta 20 modelos diferentes\n",
        "\n",
        "# Prepapar dados\n",
        "X_train = X_train.astype('float32')\n",
        "y_train = y_train.astype('float32')\n",
        "X_test = X_test.astype('float32')\n",
        "y_test = y_test.astype('float32')\n",
        "# Treinar modelo\n",
        "auto_model.fit(X_train, y_train, epochs=120)\n",
        "# Exportar modelo AutoKeras para modelo Keras\n",
        "auto_model = auto_model.export_model()\n",
        "\n",
        "# Prever probabilidades\n",
        "y_predict_proba = auto_model.predict(X_test)\n",
        "# Apresentar resultados\n",
        "print_test_results(y_test, y_predict_proba)\n",
        "\n"
      ],
      "execution_count": 1239,
      "outputs": [
        {
          "output_type": "stream",
          "text": [
            "Trial 20 Complete [00h 00m 03s]\n",
            "val_accuracy: 0.625\n",
            "\n",
            "Best val_accuracy So Far: 0.8269230723381042\n",
            "Total elapsed time: 00h 02m 37s\n",
            "INFO:tensorflow:Oracle triggered exit\n",
            "Epoch 1/120\n",
            "23/23 [==============================] - 0s 3ms/step - loss: 0.7923 - accuracy: 0.5871\n",
            "Epoch 2/120\n",
            "23/23 [==============================] - 0s 3ms/step - loss: 0.6661 - accuracy: 0.6615\n",
            "Epoch 3/120\n",
            "23/23 [==============================] - 0s 3ms/step - loss: 0.6243 - accuracy: 0.7107\n",
            "Epoch 4/120\n",
            "23/23 [==============================] - 0s 3ms/step - loss: 0.5797 - accuracy: 0.7331\n",
            "Epoch 5/120\n",
            "23/23 [==============================] - 0s 3ms/step - loss: 0.5650 - accuracy: 0.7331\n",
            "Epoch 6/120\n",
            "23/23 [==============================] - 0s 3ms/step - loss: 0.5762 - accuracy: 0.7486\n",
            "Epoch 7/120\n",
            "23/23 [==============================] - 0s 3ms/step - loss: 0.5319 - accuracy: 0.7654\n",
            "Epoch 8/120\n",
            "23/23 [==============================] - 0s 3ms/step - loss: 0.5466 - accuracy: 0.7654\n",
            "Epoch 9/120\n",
            "23/23 [==============================] - 0s 3ms/step - loss: 0.5307 - accuracy: 0.7669\n",
            "Epoch 10/120\n",
            "23/23 [==============================] - 0s 3ms/step - loss: 0.5531 - accuracy: 0.7430\n",
            "Epoch 11/120\n",
            "23/23 [==============================] - 0s 3ms/step - loss: 0.5081 - accuracy: 0.7711\n",
            "Epoch 12/120\n",
            "23/23 [==============================] - 0s 3ms/step - loss: 0.5099 - accuracy: 0.7739\n",
            "Epoch 13/120\n",
            "23/23 [==============================] - 0s 3ms/step - loss: 0.5395 - accuracy: 0.7725\n",
            "Epoch 14/120\n",
            "23/23 [==============================] - 0s 3ms/step - loss: 0.5150 - accuracy: 0.7739\n",
            "Epoch 15/120\n",
            "23/23 [==============================] - 0s 3ms/step - loss: 0.5277 - accuracy: 0.7725\n",
            "Epoch 16/120\n",
            "23/23 [==============================] - 0s 3ms/step - loss: 0.4846 - accuracy: 0.7823\n",
            "Epoch 17/120\n",
            "23/23 [==============================] - 0s 3ms/step - loss: 0.5092 - accuracy: 0.7837\n",
            "Epoch 18/120\n",
            "23/23 [==============================] - 0s 3ms/step - loss: 0.5022 - accuracy: 0.7654\n",
            "Epoch 19/120\n",
            "23/23 [==============================] - 0s 3ms/step - loss: 0.4911 - accuracy: 0.7753\n",
            "Epoch 20/120\n",
            "23/23 [==============================] - 0s 3ms/step - loss: 0.4904 - accuracy: 0.7795\n",
            "Epoch 21/120\n",
            "23/23 [==============================] - 0s 3ms/step - loss: 0.4875 - accuracy: 0.7767\n",
            "Epoch 22/120\n",
            "23/23 [==============================] - 0s 3ms/step - loss: 0.5076 - accuracy: 0.7725\n",
            "Epoch 23/120\n",
            "23/23 [==============================] - 0s 3ms/step - loss: 0.4983 - accuracy: 0.7697\n",
            "Epoch 24/120\n",
            "23/23 [==============================] - 0s 3ms/step - loss: 0.4948 - accuracy: 0.7781\n",
            "Epoch 25/120\n",
            "23/23 [==============================] - 0s 3ms/step - loss: 0.4949 - accuracy: 0.7865\n",
            "Epoch 26/120\n",
            "23/23 [==============================] - 0s 3ms/step - loss: 0.5189 - accuracy: 0.7683\n",
            "Epoch 27/120\n",
            "23/23 [==============================] - 0s 3ms/step - loss: 0.4633 - accuracy: 0.7865\n",
            "Epoch 28/120\n",
            "23/23 [==============================] - 0s 3ms/step - loss: 0.5053 - accuracy: 0.7781\n",
            "Epoch 29/120\n",
            "23/23 [==============================] - 0s 3ms/step - loss: 0.4888 - accuracy: 0.7865\n",
            "Epoch 30/120\n",
            "23/23 [==============================] - 0s 3ms/step - loss: 0.4763 - accuracy: 0.7963\n",
            "Epoch 31/120\n",
            "23/23 [==============================] - 0s 3ms/step - loss: 0.4696 - accuracy: 0.7949\n",
            "Epoch 32/120\n",
            "23/23 [==============================] - 0s 3ms/step - loss: 0.4703 - accuracy: 0.7851\n",
            "Epoch 33/120\n",
            "23/23 [==============================] - 0s 3ms/step - loss: 0.4780 - accuracy: 0.7795\n",
            "Epoch 34/120\n",
            "23/23 [==============================] - 0s 3ms/step - loss: 0.4616 - accuracy: 0.7949\n",
            "Epoch 35/120\n",
            "23/23 [==============================] - 0s 3ms/step - loss: 0.4753 - accuracy: 0.7865\n",
            "Epoch 36/120\n",
            "23/23 [==============================] - 0s 3ms/step - loss: 0.4781 - accuracy: 0.7767\n",
            "Epoch 37/120\n",
            "23/23 [==============================] - 0s 3ms/step - loss: 0.4763 - accuracy: 0.7851\n",
            "Epoch 38/120\n",
            "23/23 [==============================] - 0s 3ms/step - loss: 0.4614 - accuracy: 0.7963\n",
            "Epoch 39/120\n",
            "23/23 [==============================] - 0s 3ms/step - loss: 0.4880 - accuracy: 0.7893\n",
            "Epoch 40/120\n",
            "23/23 [==============================] - 0s 3ms/step - loss: 0.4860 - accuracy: 0.7879\n",
            "Epoch 41/120\n",
            "23/23 [==============================] - 0s 3ms/step - loss: 0.4508 - accuracy: 0.8076\n",
            "Epoch 42/120\n",
            "23/23 [==============================] - 0s 3ms/step - loss: 0.4443 - accuracy: 0.8034\n",
            "Epoch 43/120\n",
            "23/23 [==============================] - 0s 3ms/step - loss: 0.4659 - accuracy: 0.7851\n",
            "Epoch 44/120\n",
            "23/23 [==============================] - 0s 3ms/step - loss: 0.5009 - accuracy: 0.7851\n",
            "Epoch 45/120\n",
            "23/23 [==============================] - 0s 3ms/step - loss: 0.4799 - accuracy: 0.7823\n",
            "Epoch 46/120\n",
            "23/23 [==============================] - 0s 3ms/step - loss: 0.4730 - accuracy: 0.7823\n",
            "Epoch 47/120\n",
            "23/23 [==============================] - 0s 3ms/step - loss: 0.4783 - accuracy: 0.7823\n",
            "Epoch 48/120\n",
            "23/23 [==============================] - 0s 3ms/step - loss: 0.4767 - accuracy: 0.7837\n",
            "Epoch 49/120\n",
            "23/23 [==============================] - 0s 3ms/step - loss: 0.4733 - accuracy: 0.7893\n",
            "Epoch 50/120\n",
            "23/23 [==============================] - 0s 3ms/step - loss: 0.4502 - accuracy: 0.8034\n",
            "Epoch 51/120\n",
            "23/23 [==============================] - 0s 3ms/step - loss: 0.4688 - accuracy: 0.7963\n",
            "Epoch 52/120\n",
            "23/23 [==============================] - 0s 3ms/step - loss: 0.4369 - accuracy: 0.8006\n",
            "Epoch 53/120\n",
            "23/23 [==============================] - 0s 3ms/step - loss: 0.4750 - accuracy: 0.8090\n",
            "Epoch 54/120\n",
            "23/23 [==============================] - 0s 3ms/step - loss: 0.4775 - accuracy: 0.7963\n",
            "Epoch 55/120\n",
            "23/23 [==============================] - 0s 3ms/step - loss: 0.4609 - accuracy: 0.7795\n",
            "Epoch 56/120\n",
            "23/23 [==============================] - 0s 3ms/step - loss: 0.4730 - accuracy: 0.7865\n",
            "Epoch 57/120\n",
            "23/23 [==============================] - 0s 3ms/step - loss: 0.4641 - accuracy: 0.7809\n",
            "Epoch 58/120\n",
            "23/23 [==============================] - 0s 3ms/step - loss: 0.4554 - accuracy: 0.7865\n",
            "Epoch 59/120\n",
            "23/23 [==============================] - 0s 3ms/step - loss: 0.4297 - accuracy: 0.8062\n",
            "Epoch 60/120\n",
            "23/23 [==============================] - 0s 3ms/step - loss: 0.4491 - accuracy: 0.7978\n",
            "Epoch 61/120\n",
            "23/23 [==============================] - 0s 3ms/step - loss: 0.4392 - accuracy: 0.8118\n",
            "Epoch 62/120\n",
            "23/23 [==============================] - 0s 3ms/step - loss: 0.4487 - accuracy: 0.7935\n",
            "Epoch 63/120\n",
            "23/23 [==============================] - 0s 3ms/step - loss: 0.4451 - accuracy: 0.7963\n",
            "Epoch 64/120\n",
            "23/23 [==============================] - 0s 3ms/step - loss: 0.4741 - accuracy: 0.7949\n",
            "Epoch 65/120\n",
            "23/23 [==============================] - 0s 3ms/step - loss: 0.4708 - accuracy: 0.7935\n",
            "Epoch 66/120\n",
            "23/23 [==============================] - 0s 3ms/step - loss: 0.4503 - accuracy: 0.8048\n",
            "Epoch 67/120\n",
            "23/23 [==============================] - 0s 3ms/step - loss: 0.4638 - accuracy: 0.7893\n",
            "Epoch 68/120\n",
            "23/23 [==============================] - 0s 3ms/step - loss: 0.4477 - accuracy: 0.7978\n",
            "Epoch 69/120\n",
            "23/23 [==============================] - 0s 3ms/step - loss: 0.4355 - accuracy: 0.7963\n",
            "Epoch 70/120\n",
            "23/23 [==============================] - 0s 3ms/step - loss: 0.4726 - accuracy: 0.7851\n",
            "Epoch 71/120\n",
            "23/23 [==============================] - 0s 3ms/step - loss: 0.4753 - accuracy: 0.7879\n",
            "Epoch 72/120\n",
            "23/23 [==============================] - 0s 3ms/step - loss: 0.4279 - accuracy: 0.8034\n",
            "Epoch 73/120\n",
            "23/23 [==============================] - 0s 3ms/step - loss: 0.4663 - accuracy: 0.7949\n",
            "Epoch 74/120\n",
            "23/23 [==============================] - 0s 3ms/step - loss: 0.4748 - accuracy: 0.7781\n",
            "Epoch 75/120\n",
            "23/23 [==============================] - 0s 3ms/step - loss: 0.4519 - accuracy: 0.8006\n",
            "Epoch 76/120\n",
            "23/23 [==============================] - 0s 3ms/step - loss: 0.4212 - accuracy: 0.8090\n",
            "Epoch 77/120\n",
            "23/23 [==============================] - 0s 3ms/step - loss: 0.4585 - accuracy: 0.7949\n",
            "Epoch 78/120\n",
            "23/23 [==============================] - 0s 3ms/step - loss: 0.4441 - accuracy: 0.7992\n",
            "Epoch 79/120\n",
            "23/23 [==============================] - 0s 3ms/step - loss: 0.4355 - accuracy: 0.8062\n",
            "Epoch 80/120\n",
            "23/23 [==============================] - 0s 3ms/step - loss: 0.4683 - accuracy: 0.7865\n",
            "Epoch 81/120\n",
            "23/23 [==============================] - 0s 3ms/step - loss: 0.4568 - accuracy: 0.7907\n",
            "Epoch 82/120\n",
            "23/23 [==============================] - 0s 3ms/step - loss: 0.4553 - accuracy: 0.7963\n",
            "Epoch 83/120\n",
            "23/23 [==============================] - 0s 3ms/step - loss: 0.4089 - accuracy: 0.8160\n",
            "Epoch 84/120\n",
            "23/23 [==============================] - 0s 3ms/step - loss: 0.4492 - accuracy: 0.7879\n",
            "Epoch 85/120\n",
            "23/23 [==============================] - 0s 3ms/step - loss: 0.4331 - accuracy: 0.7949\n",
            "Epoch 86/120\n",
            "23/23 [==============================] - 0s 3ms/step - loss: 0.4444 - accuracy: 0.7907\n",
            "Epoch 87/120\n",
            "23/23 [==============================] - 0s 3ms/step - loss: 0.4446 - accuracy: 0.7963\n",
            "Epoch 88/120\n",
            "23/23 [==============================] - 0s 3ms/step - loss: 0.4523 - accuracy: 0.7879\n",
            "Epoch 89/120\n",
            "23/23 [==============================] - 0s 3ms/step - loss: 0.4347 - accuracy: 0.7949\n",
            "Epoch 90/120\n",
            "23/23 [==============================] - 0s 3ms/step - loss: 0.4515 - accuracy: 0.7935\n",
            "Epoch 91/120\n",
            "23/23 [==============================] - 0s 3ms/step - loss: 0.4268 - accuracy: 0.8104\n",
            "Epoch 92/120\n",
            "23/23 [==============================] - 0s 3ms/step - loss: 0.4609 - accuracy: 0.7851\n",
            "Epoch 93/120\n",
            "23/23 [==============================] - 0s 3ms/step - loss: 0.4489 - accuracy: 0.8132\n",
            "Epoch 94/120\n",
            "23/23 [==============================] - 0s 3ms/step - loss: 0.4626 - accuracy: 0.7978\n",
            "Epoch 95/120\n",
            "23/23 [==============================] - 0s 3ms/step - loss: 0.4388 - accuracy: 0.8090\n",
            "Epoch 96/120\n",
            "23/23 [==============================] - 0s 3ms/step - loss: 0.4434 - accuracy: 0.7978\n",
            "Epoch 97/120\n",
            "23/23 [==============================] - 0s 3ms/step - loss: 0.4205 - accuracy: 0.8062\n",
            "Epoch 98/120\n",
            "23/23 [==============================] - 0s 3ms/step - loss: 0.4526 - accuracy: 0.8132\n",
            "Epoch 99/120\n",
            "23/23 [==============================] - 0s 3ms/step - loss: 0.4250 - accuracy: 0.8048\n",
            "Epoch 100/120\n",
            "23/23 [==============================] - 0s 3ms/step - loss: 0.4442 - accuracy: 0.7949\n",
            "Epoch 101/120\n",
            "23/23 [==============================] - 0s 3ms/step - loss: 0.4442 - accuracy: 0.8062\n",
            "Epoch 102/120\n",
            "23/23 [==============================] - 0s 3ms/step - loss: 0.4431 - accuracy: 0.8062\n",
            "Epoch 103/120\n",
            "23/23 [==============================] - 0s 3ms/step - loss: 0.4640 - accuracy: 0.7893\n",
            "Epoch 104/120\n",
            "23/23 [==============================] - 0s 3ms/step - loss: 0.4368 - accuracy: 0.8034\n",
            "Epoch 105/120\n",
            "23/23 [==============================] - 0s 3ms/step - loss: 0.4580 - accuracy: 0.8006\n",
            "Epoch 106/120\n",
            "23/23 [==============================] - 0s 3ms/step - loss: 0.4507 - accuracy: 0.7978\n",
            "Epoch 107/120\n",
            "23/23 [==============================] - 0s 3ms/step - loss: 0.4496 - accuracy: 0.8104\n",
            "Epoch 108/120\n",
            "23/23 [==============================] - 0s 3ms/step - loss: 0.4489 - accuracy: 0.7992\n",
            "Epoch 109/120\n",
            "23/23 [==============================] - 0s 3ms/step - loss: 0.4397 - accuracy: 0.7851\n",
            "Epoch 110/120\n",
            "23/23 [==============================] - 0s 3ms/step - loss: 0.4268 - accuracy: 0.8174\n",
            "Epoch 111/120\n",
            "23/23 [==============================] - 0s 3ms/step - loss: 0.4350 - accuracy: 0.7879\n",
            "Epoch 112/120\n",
            "23/23 [==============================] - 0s 3ms/step - loss: 0.4344 - accuracy: 0.7935\n",
            "Epoch 113/120\n",
            "23/23 [==============================] - 0s 3ms/step - loss: 0.4477 - accuracy: 0.7963\n",
            "Epoch 114/120\n",
            "23/23 [==============================] - 0s 3ms/step - loss: 0.4584 - accuracy: 0.7781\n",
            "Epoch 115/120\n",
            "23/23 [==============================] - 0s 3ms/step - loss: 0.4403 - accuracy: 0.7907\n",
            "Epoch 116/120\n",
            "23/23 [==============================] - 0s 3ms/step - loss: 0.4401 - accuracy: 0.8006\n",
            "Epoch 117/120\n",
            "23/23 [==============================] - 0s 3ms/step - loss: 0.4551 - accuracy: 0.7879\n",
            "Epoch 118/120\n",
            "23/23 [==============================] - 0s 3ms/step - loss: 0.4394 - accuracy: 0.8062\n",
            "Epoch 119/120\n",
            "23/23 [==============================] - 0s 3ms/step - loss: 0.4031 - accuracy: 0.8188\n",
            "Epoch 120/120\n",
            "23/23 [==============================] - 0s 3ms/step - loss: 0.4088 - accuracy: 0.8160\n",
            "INFO:tensorflow:Assets written to: ./structured_data_classifier/best_model/assets\n",
            "WARNING:tensorflow:11 out of the last 11 calls to <function recreate_function.<locals>.restored_function_body at 0x7fc1fbc98bf8> triggered tf.function retracing. Tracing is expensive and the excessive number of tracings could be due to (1) creating @tf.function repeatedly in a loop, (2) passing tensors with different shapes, (3) passing Python objects instead of tensors. For (1), please define your @tf.function outside of the loop. For (2), @tf.function has experimental_relax_shapes=True option that relaxes argument shapes that can avoid unnecessary retracing. For (3), please refer to https://www.tensorflow.org/tutorials/customization/performance#python_or_tensor_args and https://www.tensorflow.org/api_docs/python/tf/function for  more details.\n",
            "WARNING:tensorflow:11 out of the last 11 calls to <function recreate_function.<locals>.restored_function_body at 0x7fc1fe3bdea0> triggered tf.function retracing. Tracing is expensive and the excessive number of tracings could be due to (1) creating @tf.function repeatedly in a loop, (2) passing tensors with different shapes, (3) passing Python objects instead of tensors. For (1), please define your @tf.function outside of the loop. For (2), @tf.function has experimental_relax_shapes=True option that relaxes argument shapes that can avoid unnecessary retracing. For (3), please refer to https://www.tensorflow.org/tutorials/customization/performance#python_or_tensor_args and https://www.tensorflow.org/api_docs/python/tf/function for  more details.\n",
            "WARNING:tensorflow:11 out of the last 11 calls to <function recreate_function.<locals>.restored_function_body at 0x7fc206f60b70> triggered tf.function retracing. Tracing is expensive and the excessive number of tracings could be due to (1) creating @tf.function repeatedly in a loop, (2) passing tensors with different shapes, (3) passing Python objects instead of tensors. For (1), please define your @tf.function outside of the loop. For (2), @tf.function has experimental_relax_shapes=True option that relaxes argument shapes that can avoid unnecessary retracing. For (3), please refer to https://www.tensorflow.org/tutorials/customization/performance#python_or_tensor_args and https://www.tensorflow.org/api_docs/python/tf/function for  more details.\n",
            "WARNING:tensorflow:11 out of the last 11 calls to <function recreate_function.<locals>.restored_function_body at 0x7fc1fbbe10d0> triggered tf.function retracing. Tracing is expensive and the excessive number of tracings could be due to (1) creating @tf.function repeatedly in a loop, (2) passing tensors with different shapes, (3) passing Python objects instead of tensors. For (1), please define your @tf.function outside of the loop. For (2), @tf.function has experimental_relax_shapes=True option that relaxes argument shapes that can avoid unnecessary retracing. For (3), please refer to https://www.tensorflow.org/tutorials/customization/performance#python_or_tensor_args and https://www.tensorflow.org/api_docs/python/tf/function for  more details.\n",
            "WARNING:tensorflow:11 out of the last 11 calls to <function recreate_function.<locals>.restored_function_body at 0x7fc1fed7a2f0> triggered tf.function retracing. Tracing is expensive and the excessive number of tracings could be due to (1) creating @tf.function repeatedly in a loop, (2) passing tensors with different shapes, (3) passing Python objects instead of tensors. For (1), please define your @tf.function outside of the loop. For (2), @tf.function has experimental_relax_shapes=True option that relaxes argument shapes that can avoid unnecessary retracing. For (3), please refer to https://www.tensorflow.org/tutorials/customization/performance#python_or_tensor_args and https://www.tensorflow.org/api_docs/python/tf/function for  more details.\n",
            "WARNING:tensorflow:11 out of the last 11 calls to <function recreate_function.<locals>.restored_function_body at 0x7fc20b81fa60> triggered tf.function retracing. Tracing is expensive and the excessive number of tracings could be due to (1) creating @tf.function repeatedly in a loop, (2) passing tensors with different shapes, (3) passing Python objects instead of tensors. For (1), please define your @tf.function outside of the loop. For (2), @tf.function has experimental_relax_shapes=True option that relaxes argument shapes that can avoid unnecessary retracing. For (3), please refer to https://www.tensorflow.org/tutorials/customization/performance#python_or_tensor_args and https://www.tensorflow.org/api_docs/python/tf/function for  more details.\n",
            "WARNING:tensorflow:11 out of the last 11 calls to <function recreate_function.<locals>.restored_function_body at 0x7fc207571ae8> triggered tf.function retracing. Tracing is expensive and the excessive number of tracings could be due to (1) creating @tf.function repeatedly in a loop, (2) passing tensors with different shapes, (3) passing Python objects instead of tensors. For (1), please define your @tf.function outside of the loop. For (2), @tf.function has experimental_relax_shapes=True option that relaxes argument shapes that can avoid unnecessary retracing. For (3), please refer to https://www.tensorflow.org/tutorials/customization/performance#python_or_tensor_args and https://www.tensorflow.org/api_docs/python/tf/function for  more details.\n",
            "Métricas obtidas nos dados de teste:\n",
            "ROC Auc: 0.86\n",
            "Accuracy: 0.84\n",
            "F1 Score: 0.75\n",
            "Precision: 0.81\n"
          ],
          "name": "stdout"
        }
      ]
    },
    {
      "cell_type": "markdown",
      "metadata": {
        "id": "hlV-lyN-XXVt"
      },
      "source": [
        "### Comparação de resultados\n",
        "Na seguinte tabela podemos observar as diferentes métricas obtidas por ambos os modelos:\n",
        "\n",
        "| Modelo | ROC Auc | Accuracy | F1 Score | Precision\n",
        "|:---:|:---:|:---:|:---:|:---:|\n",
        "| Modelo 1 |  0.88 | 0.83 | 0.74 | 0.75 |\n",
        "| Modelo `AutoKeras` |  0.86 | 0.84 | 0.75 | 0.81 | \n",
        "\n",
        "Como é possível observar, ambos os modelos apresentaram resultados bastantes semelhantes.\n",
        "\n",
        "No também pode ser também interessante observar ambas as arquiteturas das duas redes criadas.\n"
      ]
    },
    {
      "cell_type": "markdown",
      "metadata": {
        "id": "K4tU7hrjYPTC"
      },
      "source": [
        "\n",
        "**Estrutura Primeiro modelo:**"
      ]
    },
    {
      "cell_type": "code",
      "metadata": {
        "id": "CPLbDLS_YhGP",
        "outputId": "04fd3ad6-26bb-463f-bf51-83b614c9e3aa",
        "colab": {
          "base_uri": "https://localhost:8080/"
        }
      },
      "source": [
        "# Resumir primeiro modelo\n",
        "model_1.summary()"
      ],
      "execution_count": 1240,
      "outputs": [
        {
          "output_type": "stream",
          "text": [
            "Model: \"sequential\"\n",
            "_________________________________________________________________\n",
            "Layer (type)                 Output Shape              Param #   \n",
            "=================================================================\n",
            "dense_3 (Dense)              (None, 8)                 80        \n",
            "_________________________________________________________________\n",
            "dense_4 (Dense)              (None, 1)                 9         \n",
            "=================================================================\n",
            "Total params: 89\n",
            "Trainable params: 89\n",
            "Non-trainable params: 0\n",
            "_________________________________________________________________\n"
          ],
          "name": "stdout"
        }
      ]
    },
    {
      "cell_type": "markdown",
      "metadata": {
        "id": "ZX1hgQ6_Ymi5"
      },
      "source": [
        "**Estrutura Modelo `AutoKeras`:**"
      ]
    },
    {
      "cell_type": "code",
      "metadata": {
        "id": "nKrnqJELYsgw",
        "outputId": "c08d3811-adf8-4f48-de50-ce3f45852400",
        "colab": {
          "base_uri": "https://localhost:8080/"
        }
      },
      "source": [
        "# Resumir modelo `AutoKeras`\n",
        "auto_model.summary()"
      ],
      "execution_count": 1241,
      "outputs": [
        {
          "output_type": "stream",
          "text": [
            "Model: \"functional_1\"\n",
            "_________________________________________________________________\n",
            "Layer (type)                 Output Shape              Param #   \n",
            "=================================================================\n",
            "input_1 (InputLayer)         [(None, 9)]               0         \n",
            "_________________________________________________________________\n",
            "multi_category_encoding (Mul (None, 9)                 0         \n",
            "_________________________________________________________________\n",
            "dense (Dense)                (None, 512)               5120      \n",
            "_________________________________________________________________\n",
            "batch_normalization (BatchNo (None, 512)               2048      \n",
            "_________________________________________________________________\n",
            "re_lu (ReLU)                 (None, 512)               0         \n",
            "_________________________________________________________________\n",
            "dropout (Dropout)            (None, 512)               0         \n",
            "_________________________________________________________________\n",
            "dense_1 (Dense)              (None, 16)                8208      \n",
            "_________________________________________________________________\n",
            "batch_normalization_1 (Batch (None, 16)                64        \n",
            "_________________________________________________________________\n",
            "re_lu_1 (ReLU)               (None, 16)                0         \n",
            "_________________________________________________________________\n",
            "dropout_1 (Dropout)          (None, 16)                0         \n",
            "_________________________________________________________________\n",
            "dropout_2 (Dropout)          (None, 16)                0         \n",
            "_________________________________________________________________\n",
            "dense_2 (Dense)              (None, 1)                 17        \n",
            "_________________________________________________________________\n",
            "classification_head_1 (Activ (None, 1)                 0         \n",
            "=================================================================\n",
            "Total params: 15,457\n",
            "Trainable params: 14,401\n",
            "Non-trainable params: 1,056\n",
            "_________________________________________________________________\n"
          ],
          "name": "stdout"
        }
      ]
    },
    {
      "cell_type": "markdown",
      "metadata": {
        "id": "XJDa0MkWoeKf"
      },
      "source": [
        "**Diferenças encontradas:**\n",
        "\n",
        "Como podemos observar a rede neuronal construída pela biblioteca `AutoKeras` apresenta um nível de complexidade muito superior à rede neuronal construída manualmente. Enquanto a primeira rede apresenta 89 parâmetros treináveis, a segunda conta com 14.401 parâmetros treináveis.\n",
        "\n",
        "Portanto, tal como se verificou anteriormente, no presente contexto não se justificaria a escolha da segunda rede neuronal. \n",
        "A adoção de uma rede neuronal construída manualmente oferece ainda a vantagem de um maior controlo sobre todo o processo. No entanto é de notar que foram experimentados apenas `20` modelos diferentes pelo `AutoKeras`. Um aumento no número de experiências realizadas poderia traduzir-se na construção de um melhor modelo. O uso do `AutoKeras` é também uma ferramenta aconselhável a iniciantes de *machine learning*, pois abstrai o utilizador dos complicados conceitos matemáticos intrínsecos deste tópico.\n"
      ]
    }
  ]
}
