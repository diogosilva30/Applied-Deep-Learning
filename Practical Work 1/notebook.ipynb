{
 "nbformat": 4,
 "nbformat_minor": 0,
 "metadata": {
  "kernelspec": {
   "display_name": "Python 3",
   "language": "python",
   "name": "python3"
  },
  "language_info": {
   "codemirror_mode": {
    "name": "ipython",
    "version": 3
   },
   "file_extension": ".py",
   "mimetype": "text/x-python",
   "name": "python",
   "nbconvert_exporter": "python",
   "pygments_lexer": "ipython3",
   "version": "3.9.0"
  },
  "colab": {
   "name": "Untitled.ipynb",
   "provenance": [],
   "collapsed_sections": []
  }
 },
 "cells": [
  {
   "cell_type": "markdown",
   "metadata": {
    "colab_type": "text",
    "id": "view-in-github"
   },
   "source": [
    "<a href=\"https://colab.research.google.com/github/spamz23/Applied-Deep-Learning/blob/main/Project1.ipynb\" target=\"_parent\"><img src=\"https://colab.research.google.com/assets/colab-badge.svg\" alt=\"Open In Colab\"/></a>"
   ]
  },
  {
   "cell_type": "markdown",
   "metadata": {
    "id": "VtMk6oKXNHGE"
   },
   "source": [
    "# Trabalho Prático 1 - Aplicação de redes neuronais a um novo dataset\n",
    "Dataset utilizado: [Titanic](https://public.opendatasoft.com/explore/dataset/titanic-passengers)\n",
    "\n",
    "Trabalho realizado por:\n",
    "* [Diogo Silva](https://github.com/spamz23)\n",
    "* [Bruno Silva](https://github.com/brunosilva5)"
   ]
  },
  {
   "cell_type": "markdown",
   "metadata": {
    "id": "Ir64lObGN1-2"
   },
   "source": [
    "# Instalar dependências"
   ]
  },
  {
   "cell_type": "code",
   "metadata": {
    "id": "K_n9v8SVNPXZ",
    "executionInfo": {
     "status": "ok",
     "timestamp": 1604196299686,
     "user_tz": 0,
     "elapsed": 8439,
     "user": {
      "displayName": "Diogo Silva",
      "photoUrl": "",
      "userId": "15659208670800302245"
     }
    }
   },
   "source": [
    "!pip install -r requirements.txt\n",
    "# Limpar output\n",
    "from IPython.display import clear_output\n",
    "clear_output()"
   ],
   "execution_count": 20,
   "outputs": []
  },
  {
   "cell_type": "markdown",
   "metadata": {
    "id": "39Dm-ILMNHGF"
   },
   "source": [
    "## 1. Fazer load dos dados\n",
    "Para fazer load e tratar os dados, será utilizada a biblioteca pandas."
   ]
  },
  {
   "cell_type": "code",
   "metadata": {
    "id": "jJJP3eHENHGH",
    "executionInfo": {
     "status": "ok",
     "timestamp": 1604196299688,
     "user_tz": 0,
     "elapsed": 8428,
     "user": {
      "displayName": "Diogo Silva",
      "photoUrl": "",
      "userId": "15659208670800302245"
     }
    }
   },
   "source": [
    "import pandas as pd\n",
    "\n",
    "index = \"PassengerId\"\n",
    "dataset = pd.read_excel(\"titanic-passengers.xlsx\", index_col=\"PassengerId\")\n"
   ],
   "execution_count": 21,
   "outputs": []
  },
  {
   "cell_type": "markdown",
   "metadata": {
    "id": "HXkVU-onNHGL"
   },
   "source": [
    "### Primeiro é importante analisar e perceber a estrutura dos dados"
   ]
  },
  {
   "cell_type": "code",
   "metadata": {
    "id": "nfI9sHo9NHGM",
    "executionInfo": {
     "status": "ok",
     "timestamp": 1604196299690,
     "user_tz": 0,
     "elapsed": 8421,
     "user": {
      "displayName": "Diogo Silva",
      "photoUrl": "",
      "userId": "15659208670800302245"
     }
    },
    "outputId": "67bd3463-c94a-40d3-a06f-fab853fafc55",
    "colab": {
     "base_uri": "https://localhost:8080/",
     "height": 420
    }
   },
   "source": [
    "dataset"
   ],
   "execution_count": 22,
   "outputs": [
    {
     "output_type": "execute_result",
     "data": {
      "text/html": [
       "<div>\n",
       "<style scoped>\n",
       "    .dataframe tbody tr th:only-of-type {\n",
       "        vertical-align: middle;\n",
       "    }\n",
       "\n",
       "    .dataframe tbody tr th {\n",
       "        vertical-align: top;\n",
       "    }\n",
       "\n",
       "    .dataframe thead th {\n",
       "        text-align: right;\n",
       "    }\n",
       "</style>\n",
       "<table border=\"1\" class=\"dataframe\">\n",
       "  <thead>\n",
       "    <tr style=\"text-align: right;\">\n",
       "      <th></th>\n",
       "      <th>Survived</th>\n",
       "      <th>Pclass</th>\n",
       "      <th>Name</th>\n",
       "      <th>Sex</th>\n",
       "      <th>Age</th>\n",
       "      <th>SibSp</th>\n",
       "      <th>Parch</th>\n",
       "      <th>Ticket</th>\n",
       "      <th>Fare</th>\n",
       "      <th>Cabin</th>\n",
       "      <th>Embarked</th>\n",
       "    </tr>\n",
       "    <tr>\n",
       "      <th>PassengerId</th>\n",
       "      <th></th>\n",
       "      <th></th>\n",
       "      <th></th>\n",
       "      <th></th>\n",
       "      <th></th>\n",
       "      <th></th>\n",
       "      <th></th>\n",
       "      <th></th>\n",
       "      <th></th>\n",
       "      <th></th>\n",
       "      <th></th>\n",
       "    </tr>\n",
       "  </thead>\n",
       "  <tbody>\n",
       "    <tr>\n",
       "      <th>431</th>\n",
       "      <td>Yes</td>\n",
       "      <td>1</td>\n",
       "      <td>Bjornstrom-Steffansson, Mr. Mauritz Hakan</td>\n",
       "      <td>male</td>\n",
       "      <td>28.0</td>\n",
       "      <td>0</td>\n",
       "      <td>0</td>\n",
       "      <td>110564</td>\n",
       "      <td>26.5500</td>\n",
       "      <td>C52</td>\n",
       "      <td>S</td>\n",
       "    </tr>\n",
       "    <tr>\n",
       "      <th>664</th>\n",
       "      <td>No</td>\n",
       "      <td>3</td>\n",
       "      <td>Coleff, Mr. Peju</td>\n",
       "      <td>male</td>\n",
       "      <td>36.0</td>\n",
       "      <td>0</td>\n",
       "      <td>0</td>\n",
       "      <td>349210</td>\n",
       "      <td>7.4958</td>\n",
       "      <td>NaN</td>\n",
       "      <td>S</td>\n",
       "    </tr>\n",
       "    <tr>\n",
       "      <th>44</th>\n",
       "      <td>Yes</td>\n",
       "      <td>2</td>\n",
       "      <td>Laroche, Miss. Simonne Marie Anne Andree</td>\n",
       "      <td>female</td>\n",
       "      <td>3.0</td>\n",
       "      <td>1</td>\n",
       "      <td>2</td>\n",
       "      <td>SC/Paris 2123</td>\n",
       "      <td>41.5792</td>\n",
       "      <td>NaN</td>\n",
       "      <td>C</td>\n",
       "    </tr>\n",
       "    <tr>\n",
       "      <th>347</th>\n",
       "      <td>Yes</td>\n",
       "      <td>2</td>\n",
       "      <td>Smith, Miss. Marion Elsie</td>\n",
       "      <td>female</td>\n",
       "      <td>40.0</td>\n",
       "      <td>0</td>\n",
       "      <td>0</td>\n",
       "      <td>31418</td>\n",
       "      <td>13.0000</td>\n",
       "      <td>NaN</td>\n",
       "      <td>S</td>\n",
       "    </tr>\n",
       "    <tr>\n",
       "      <th>891</th>\n",
       "      <td>No</td>\n",
       "      <td>3</td>\n",
       "      <td>Dooley, Mr. Patrick</td>\n",
       "      <td>male</td>\n",
       "      <td>32.0</td>\n",
       "      <td>0</td>\n",
       "      <td>0</td>\n",
       "      <td>370376</td>\n",
       "      <td>7.7500</td>\n",
       "      <td>NaN</td>\n",
       "      <td>Q</td>\n",
       "    </tr>\n",
       "    <tr>\n",
       "      <th>...</th>\n",
       "      <td>...</td>\n",
       "      <td>...</td>\n",
       "      <td>...</td>\n",
       "      <td>...</td>\n",
       "      <td>...</td>\n",
       "      <td>...</td>\n",
       "      <td>...</td>\n",
       "      <td>...</td>\n",
       "      <td>...</td>\n",
       "      <td>...</td>\n",
       "      <td>...</td>\n",
       "    </tr>\n",
       "    <tr>\n",
       "      <th>779</th>\n",
       "      <td>No</td>\n",
       "      <td>3</td>\n",
       "      <td>Kilgannon, Mr. Thomas J</td>\n",
       "      <td>male</td>\n",
       "      <td>NaN</td>\n",
       "      <td>0</td>\n",
       "      <td>0</td>\n",
       "      <td>36865</td>\n",
       "      <td>7.7375</td>\n",
       "      <td>NaN</td>\n",
       "      <td>Q</td>\n",
       "    </tr>\n",
       "    <tr>\n",
       "      <th>435</th>\n",
       "      <td>No</td>\n",
       "      <td>1</td>\n",
       "      <td>Silvey, Mr. William Baird</td>\n",
       "      <td>male</td>\n",
       "      <td>50.0</td>\n",
       "      <td>1</td>\n",
       "      <td>0</td>\n",
       "      <td>13507</td>\n",
       "      <td>55.9000</td>\n",
       "      <td>E44</td>\n",
       "      <td>S</td>\n",
       "    </tr>\n",
       "    <tr>\n",
       "      <th>342</th>\n",
       "      <td>Yes</td>\n",
       "      <td>1</td>\n",
       "      <td>Fortune, Miss. Alice Elizabeth</td>\n",
       "      <td>female</td>\n",
       "      <td>24.0</td>\n",
       "      <td>3</td>\n",
       "      <td>2</td>\n",
       "      <td>19950</td>\n",
       "      <td>263.0000</td>\n",
       "      <td>C23 C25 C27</td>\n",
       "      <td>S</td>\n",
       "    </tr>\n",
       "    <tr>\n",
       "      <th>633</th>\n",
       "      <td>Yes</td>\n",
       "      <td>1</td>\n",
       "      <td>Stahelin-Maeglin, Dr. Max</td>\n",
       "      <td>male</td>\n",
       "      <td>32.0</td>\n",
       "      <td>0</td>\n",
       "      <td>0</td>\n",
       "      <td>13214</td>\n",
       "      <td>30.5000</td>\n",
       "      <td>B50</td>\n",
       "      <td>C</td>\n",
       "    </tr>\n",
       "    <tr>\n",
       "      <th>111</th>\n",
       "      <td>No</td>\n",
       "      <td>1</td>\n",
       "      <td>Porter, Mr. Walter Chamberlain</td>\n",
       "      <td>male</td>\n",
       "      <td>47.0</td>\n",
       "      <td>0</td>\n",
       "      <td>0</td>\n",
       "      <td>110465</td>\n",
       "      <td>52.0000</td>\n",
       "      <td>C110</td>\n",
       "      <td>S</td>\n",
       "    </tr>\n",
       "  </tbody>\n",
       "</table>\n",
       "<p>891 rows × 11 columns</p>\n",
       "</div>"
      ],
      "text/plain": [
       "            Survived  Pclass  ...        Cabin Embarked\n",
       "PassengerId                   ...                      \n",
       "431              Yes       1  ...          C52        S\n",
       "664               No       3  ...          NaN        S\n",
       "44               Yes       2  ...          NaN        C\n",
       "347              Yes       2  ...          NaN        S\n",
       "891               No       3  ...          NaN        Q\n",
       "...              ...     ...  ...          ...      ...\n",
       "779               No       3  ...          NaN        Q\n",
       "435               No       1  ...          E44        S\n",
       "342              Yes       1  ...  C23 C25 C27        S\n",
       "633              Yes       1  ...          B50        C\n",
       "111               No       1  ...         C110        S\n",
       "\n",
       "[891 rows x 11 columns]"
      ]
     },
     "metadata": {
      "tags": []
     },
     "execution_count": 22
    }
   ]
  },
  {
   "cell_type": "markdown",
   "metadata": {
    "id": "VLRDMIQgNHGS"
   },
   "source": [
    "### Informações obtidas\n",
    "Na tabela acima podemos observar que o dataset de treino é composto por 891 linhas (cada linha corresponde a uma pessoa), e por 11 colunas.\n",
    "Podemos então tirar as seguintes conclusões:\n",
    "1. Existem várias colunas com variáveis categóricas (`Name`, `Sex`, `Ticket`, `Cabin`, `Embarked`). Todas estas terão que ser convertidas para números para se poderem usar na rede neuronal.\n",
    "2. Existem algumas colunas com valores `NaN`, ou seja valores em falta. Todas estas também terão que se preencher, ou então remover do dataset.\n",
    "3. A coluna `Survived`, tem apenas valores binários (`0` e `1`). Esta indica se a pessoa em questão sobreviveu (`1`) ou não (`0`). O objetivo da rede neuronal será prever os valores desta coluna. Esta coluna terá que ser separada das restantes, para que seja utilizada como output.\n"
   ]
  },
  {
   "cell_type": "markdown",
   "metadata": {
    "id": "u-WdLyF7NHGZ"
   },
   "source": [
    "# 2. Tratamento dos dados\n",
    "Tal como referido anteriormente existem \"problemas\" nos dados, que terão de ser resolvidos antes de os aplicar numa rede neuronal."
   ]
  },
  {
   "cell_type": "markdown",
   "metadata": {
    "id": "-EduZHjpTek3"
   },
   "source": [
    "## 2.1 Valores em falta"
   ]
  },
  {
   "cell_type": "markdown",
   "metadata": {
    "id": "bvJ6XFfRcaMI"
   },
   "source": [
    "Para saber quais as colunas que contêm valores `NaN` podemos utilizar o seguinte código:"
   ]
  },
  {
   "cell_type": "code",
   "metadata": {
    "id": "7R0qSnmHcmYL",
    "executionInfo": {
     "status": "ok",
     "timestamp": 1604196299690,
     "user_tz": 0,
     "elapsed": 8409,
     "user": {
      "displayName": "Diogo Silva",
      "photoUrl": "",
      "userId": "15659208670800302245"
     }
    },
    "outputId": "75a257ff-1d64-415c-9066-fc2cfb9d89ce",
    "colab": {
     "base_uri": "https://localhost:8080/"
    }
   },
   "source": [
    "print(f\"Colunas com valores 'NaN': {dataset.columns[dataset.isna().any()].tolist()}\")"
   ],
   "execution_count": 23,
   "outputs": [
    {
     "output_type": "stream",
     "text": [
      "Colunas com valores 'NaN': ['Age', 'Cabin', 'Embarked']\n"
     ],
     "name": "stdout"
    }
   ]
  },
  {
   "cell_type": "markdown",
   "metadata": {
    "id": "9s3PhEHANHGZ"
   },
   "source": [
    "Podemos observar que existem 3 colunas com valores `NaN`: `Age`, `Cabin` e `Embarked`"
   ]
  },
  {
   "cell_type": "markdown",
   "metadata": {
    "id": "8qHSeQCsTo3h"
   },
   "source": [
    "### 2.1.1 Coluna 'Cabin'"
   ]
  },
  {
   "cell_type": "code",
   "metadata": {
    "id": "hDUoHRhERMtw",
    "executionInfo": {
     "status": "ok",
     "timestamp": 1604196299691,
     "user_tz": 0,
     "elapsed": 8401,
     "user": {
      "displayName": "Diogo Silva",
      "photoUrl": "",
      "userId": "15659208670800302245"
     }
    },
    "outputId": "6d4bc347-40d1-458b-9eae-b8879ae94f86",
    "colab": {
     "base_uri": "https://localhost:8080/"
    }
   },
   "source": [
    "missing = dataset[\"Cabin\"].isnull().sum(axis=0)\n",
    "total = dataset.shape[0]\n",
    "\n",
    "print(f\"Percentagem de valores em falta na coluna 'Cabin': {(missing*100)/total:.2f} %\")"
   ],
   "execution_count": 24,
   "outputs": [
    {
     "output_type": "stream",
     "text": [
      "Percentagem de valores em falta na coluna 'Cabin': 77.10 %\n"
     ],
     "name": "stdout"
    }
   ]
  },
  {
   "cell_type": "markdown",
   "metadata": {
    "id": "YNsOadEPSWjc"
   },
   "source": [
    "Como 77.10 % dos dados, na coluna `Cabin`, estão em falta, iremos proceder à remoção desta coluna, pois a sua inclusão provavelmente não se iria traduzir num ganho de informação na rede neuronal."
   ]
  },
  {
   "cell_type": "code",
   "metadata": {
    "id": "EaunDxtwNHGa",
    "executionInfo": {
     "status": "ok",
     "timestamp": 1604196299692,
     "user_tz": 0,
     "elapsed": 8394,
     "user": {
      "displayName": "Diogo Silva",
      "photoUrl": "",
      "userId": "15659208670800302245"
     }
    }
   },
   "source": [
    "dataset.drop(columns=['Cabin'], inplace=True)"
   ],
   "execution_count": 25,
   "outputs": []
  },
  {
   "cell_type": "markdown",
   "metadata": {
    "id": "JhcLfAWaTsnW"
   },
   "source": [
    "### 2.1.2 Coluna 'Embarked'"
   ]
  },
  {
   "cell_type": "code",
   "metadata": {
    "id": "k869BwlrNHGp",
    "executionInfo": {
     "status": "ok",
     "timestamp": 1604196299693,
     "user_tz": 0,
     "elapsed": 8388,
     "user": {
      "displayName": "Diogo Silva",
      "photoUrl": "",
      "userId": "15659208670800302245"
     }
    },
    "outputId": "f60763a1-6980-4dbe-d924-2517c9093c0a",
    "colab": {
     "base_uri": "https://localhost:8080/"
    }
   },
   "source": [
    "missing = dataset[\"Embarked\"].isnull().sum(axis=0)\n",
    "total = dataset.shape[0]\n",
    "\n",
    "print(f\"Percentagem de valores em falta na coluna 'Embarked': {(missing*100)/total:.2f} %\")"
   ],
   "execution_count": 26,
   "outputs": [
    {
     "output_type": "stream",
     "text": [
      "Percentagem de valores em falta na coluna 'Embarked': 0.22 %\n"
     ],
     "name": "stdout"
    }
   ]
  },
  {
   "cell_type": "markdown",
   "metadata": {
    "id": "pJOXYZWgUJy5"
   },
   "source": [
    "Como nesta coluna apenas estão em falta apenas 0.22 % dos dados (o que corresponde a 2 linhas) e trata-se de uma variável categórica, iremos preencher os valores em falta com o valor mais frequente nesta coluna. Para isto iremos utilizar o módulo [SimpleImputer](https://scikit-learn.org/stable/modules/generated/sklearn.impute.SimpleImputer.html#sklearn.impute.SimpleImputer) disponibilizado pela biblioteca [scikit-learn](https://scikit-learn.org/)."
   ]
  },
  {
   "cell_type": "code",
   "metadata": {
    "id": "BYgh4AWnU26p",
    "executionInfo": {
     "status": "ok",
     "timestamp": 1604196299695,
     "user_tz": 0,
     "elapsed": 8380,
     "user": {
      "displayName": "Diogo Silva",
      "photoUrl": "",
      "userId": "15659208670800302245"
     }
    }
   },
   "source": [
    "from sklearn.impute import SimpleImputer\n",
    "import numpy as np\n",
    "# Criar objeto imputer com estratégia 'most_frequent'\n",
    "imp_most_frequent = SimpleImputer(missing_values=np.nan, strategy='most_frequent', verbose=0)\n",
    "# Aplicar na coluna 'Embarked'. Como vamos aplicar apenas a uma coluna, e o método espera um array 2D, é necessário fazer um reshape dos dados\n",
    "dataset[\"Embarked\"] = imp_most_frequent.fit_transform(dataset[\"Embarked\"].values.reshape(-1, 1))"
   ],
   "execution_count": 27,
   "outputs": []
  },
  {
   "cell_type": "markdown",
   "metadata": {
    "id": "IZaLvf47YVg5"
   },
   "source": [
    "### 2.1.3 Coluna 'Age'"
   ]
  },
  {
   "cell_type": "code",
   "metadata": {
    "id": "-MGEP4HQYkKH",
    "executionInfo": {
     "status": "ok",
     "timestamp": 1604196299696,
     "user_tz": 0,
     "elapsed": 8375,
     "user": {
      "displayName": "Diogo Silva",
      "photoUrl": "",
      "userId": "15659208670800302245"
     }
    },
    "outputId": "bc1cd333-fbd9-479a-cba1-fa471bd20031",
    "colab": {
     "base_uri": "https://localhost:8080/"
    }
   },
   "source": [
    "missing = dataset[\"Age\"].isnull().sum(axis=0)\n",
    "total = dataset.shape[0]\n",
    "\n",
    "print(f\"Percentagem de valores em falta na coluna 'Age': {(missing*100)/total:.2f} %\")"
   ],
   "execution_count": 28,
   "outputs": [
    {
     "output_type": "stream",
     "text": [
      "Percentagem de valores em falta na coluna 'Age': 19.87 %\n"
     ],
     "name": "stdout"
    }
   ]
  },
  {
   "cell_type": "markdown",
   "metadata": {
    "id": "RtrpVE_0YrS9"
   },
   "source": [
    "Nesta coluna estão em falta 19.87 % e trata-se de uma variável numérica, iremos preencher os valores em falta com o valor médio da coluna `Age`. Para isto iremos utilizar o mesmo módulo utilizado na coluna anterior. Existem 2 metodologias possíveis para o preenchimento de variáveis numéricas:\n",
    "1. Utilizar a média dos valores da coluna;\n",
    "2. Utilizar a mediana dos valores da coluna.\n",
    "Para decidir qual a melhor estratégia é necessário observar a curva de distribuição dos dados desta coluna (`Age`)."
   ]
  },
  {
   "cell_type": "code",
   "metadata": {
    "id": "9y0RE2xuak9z",
    "executionInfo": {
     "status": "ok",
     "timestamp": 1604196300080,
     "user_tz": 0,
     "elapsed": 8751,
     "user": {
      "displayName": "Diogo Silva",
      "photoUrl": "",
      "userId": "15659208670800302245"
     }
    },
    "outputId": "cb261ce0-e448-4bfd-91aa-f7b4ad9b73d0",
    "colab": {
     "base_uri": "https://localhost:8080/",
     "height": 0
    }
   },
   "source": [
    "dataset[\"Age\"].plot.kde()"
   ],
   "execution_count": 29,
   "outputs": [
    {
     "output_type": "execute_result",
     "data": {
      "text/plain": [
       "<matplotlib.axes._subplots.AxesSubplot at 0x7f6eea1f5898>"
      ]
     },
     "metadata": {
      "tags": []
     },
     "execution_count": 29
    },
    {
     "output_type": "display_data",
     "data": {
      "image/png": "[encoded data removed]",
      "text/plain": [
       "<Figure size 432x288 with 1 Axes>"
      ]
     },
     "metadata": {
      "tags": [],
      "needs_background": "light"
     }
    }
   ]
  },
  {
   "cell_type": "markdown",
   "metadata": {
    "id": "aQv1FsJibHBc"
   },
   "source": [
    "Como é possível observar na figura acima, os dados não seguem uma distribuição normal. Assim concluímos que será mais vantajoso utilizar a mediana para o preenchimento dos valores em falta."
   ]
  },
  {
   "cell_type": "code",
   "metadata": {
    "id": "ixsI8oXNbcRc",
    "executionInfo": {
     "status": "ok",
     "timestamp": 1604196300081,
     "user_tz": 0,
     "elapsed": 8743,
     "user": {
      "displayName": "Diogo Silva",
      "photoUrl": "",
      "userId": "15659208670800302245"
     }
    }
   },
   "source": [
    "from sklearn.impute import SimpleImputer\n",
    "import numpy as np\n",
    "# Criar objeto imputer com estratégia 'median'\n",
    "imp_median = SimpleImputer(missing_values=np.nan, strategy='median', verbose=0)\n",
    "# Aplicar na coluna 'Age'. Como vamos aplicar apenas a uma coluna, e o método espera um array 2D, é necessário fazer um reshape dos dados\n",
    "dataset[\"Age\"] = imp_median.fit_transform(dataset[\"Age\"].values.reshape(-1, 1))"
   ],
   "execution_count": 30,
   "outputs": []
  },
  {
   "cell_type": "markdown",
   "metadata": {
    "id": "ll4HNbYkcDh9"
   },
   "source": [
    "## 2.2 Transformar valores categóricos em valores numéricos"
   ]
  },
  {
   "cell_type": "markdown",
   "metadata": {
    "id": "4JsL9pdTcMwG"
   },
   "source": [
    "Para saber quais as colunas que contêm valores não numéricos podemos utilizar o seguinte código:"
   ]
  },
  {
   "cell_type": "code",
   "metadata": {
    "id": "8txtWZfic-uD",
    "executionInfo": {
     "status": "ok",
     "timestamp": 1604196300082,
     "user_tz": 0,
     "elapsed": 8736,
     "user": {
      "displayName": "Diogo Silva",
      "photoUrl": "",
      "userId": "15659208670800302245"
     }
    },
    "outputId": "b0b95ee6-f6fa-4bed-b7e3-fd72c34c7166",
    "colab": {
     "base_uri": "https://localhost:8080/"
    }
   },
   "source": [
    "non_numeric_columns = dataset.columns.difference(dataset._get_numeric_data().columns).to_list()\n",
    "print(f\"Colunas não númericas: {non_numeric_columns}\")"
   ],
   "execution_count": 31,
   "outputs": [
    {
     "output_type": "stream",
     "text": [
      "Colunas não númericas: ['Embarked', 'Name', 'Sex', 'Survived', 'Ticket']\n"
     ],
     "name": "stdout"
    }
   ]
  },
  {
   "cell_type": "markdown",
   "metadata": {
    "id": "n8Gi28npd2Nm"
   },
   "source": [
    "### 2.2.1 Coluna 'Embarked', 'Sex', 'Name', 'Ticket'\n",
    "Em primeiro lugar iremos remover as colunas `Name` e `Ticket`, pois estas são únicas dos passageiros.\n",
    "Para transformar os valores das restantes colunas (`Embarked`, `Sex`) em valores numéricos iremos utilizar o método `get_dummies()` da biblioteca `pandas`. Este método irá criar, para cada coluna, novas `n` colunas, onde `n` é o numero de diferentes classes presentes em cada coluna. Estas novas colunas irão conter valores binários que indicam se uma linha pertence ou não a essa classe. \n",
    "\n",
    "Uma outra alternativa mais simples seria transformar, para cada coluna, cada classe diferente num valor inteiro diferente. Apesar de ser mais simples, esta tranformação poderia introduzir uma falsa sensação de hierarquiedade nos dados, o que poderia levar a rede neuronal a aprender falsas suposições. "
   ]
  },
  {
   "cell_type": "code",
   "metadata": {
    "id": "gvWXyxbShK8b",
    "executionInfo": {
     "status": "ok",
     "timestamp": 1604196300083,
     "user_tz": 0,
     "elapsed": 8729,
     "user": {
      "displayName": "Diogo Silva",
      "photoUrl": "",
      "userId": "15659208670800302245"
     }
    }
   },
   "source": [
    "dataset.drop(columns=[\"Name\", \"Ticket\"], inplace=True)\n",
    "# Fazer OneHotEncoding para todas as colunas não numéricas, excepto a coluna 'Survived'\n",
    "dataset = pd.get_dummies(dataset, columns=[\"Embarked\", \"Sex\"])"
   ],
   "execution_count": 32,
   "outputs": []
  },
  {
   "cell_type": "markdown",
   "metadata": {
    "id": "6n96-_z-SOvI"
   },
   "source": [
    "### 2.2.2 Coluna 'Survived'\n",
    "As transformações a esta coluna são simples. Esta apenas contêm os valores `Yes` ou `No`. Apenas temos que transformar estes valores para `1` ou `0`, respetivamente."
   ]
  },
  {
   "cell_type": "code",
   "metadata": {
    "id": "pBaxkQ7fSx9f",
    "executionInfo": {
     "status": "ok",
     "timestamp": 1604196300084,
     "user_tz": 0,
     "elapsed": 8723,
     "user": {
      "displayName": "Diogo Silva",
      "photoUrl": "",
      "userId": "15659208670800302245"
     }
    }
   },
   "source": [
    "dataset[\"Survived\"] = dataset['Survived'].map({'Yes': 1, 'No': 0})"
   ],
   "execution_count": 33,
   "outputs": []
  },
  {
   "cell_type": "markdown",
   "metadata": {
    "id": "e5vLD52VS6pS"
   },
   "source": [
    "## 2.3 Criar novos 'features' a partir de existentes\n",
    "No dataset existe a coluna `SibSp` que indica o número de irmãos/cônjuges, do passageiro, a bordo. Existe também a coluna `Parch` que indica o número de pais/filhos, do passageiro, a bordo.\n",
    "Como estas 2 colunas estão intrinsecamente relacionadas, decidimos uni-las numa só coluna, a que chamamos de `Family_Members`, que indica o número total de familiares a bordo do navio."
   ]
  },
  {
   "cell_type": "code",
   "metadata": {
    "id": "xzV6pHzVUInl",
    "executionInfo": {
     "status": "ok",
     "timestamp": 1604196300085,
     "user_tz": 0,
     "elapsed": 8718,
     "user": {
      "displayName": "Diogo Silva",
      "photoUrl": "",
      "userId": "15659208670800302245"
     }
    }
   },
   "source": [
    "# União das colunas\n",
    "dataset[\"Family_Members\"] = dataset[\"SibSp\"] + dataset[\"Parch\"]\n",
    "# Apagar colunas que já não são necessárias\n",
    "dataset.drop(columns=[\"SibSp\", \"Parch\"], inplace=True)"
   ],
   "execution_count": 34,
   "outputs": []
  },
  {
   "cell_type": "markdown",
   "metadata": {
    "id": "2urssVSjVwz4"
   },
   "source": [
    "## 2.4 Separação da coluna 'Survived'\n",
    "É também importante separar a coluna `Survived` do resto do dataset. Iremos criar 2 variáveis,  `X`  (irá conter os dados), e `y` (irá conter a coluna `Survived`)"
   ]
  },
  {
   "cell_type": "code",
   "metadata": {
    "id": "IY6MQEkkY-6c",
    "executionInfo": {
     "status": "ok",
     "timestamp": 1604196300087,
     "user_tz": 0,
     "elapsed": 8712,
     "user": {
      "displayName": "Diogo Silva",
      "photoUrl": "",
      "userId": "15659208670800302245"
     }
    }
   },
   "source": [
    "X = dataset[dataset.columns.difference([\"Survived\"])]\n",
    "y = dataset[[\"Survived\"]]"
   ],
   "execution_count": 35,
   "outputs": []
  },
  {
   "cell_type": "markdown",
   "metadata": {
    "id": "77LhuUhvUlwK"
   },
   "source": [
    "## 2.5 Normalização de dados"
   ]
  },
  {
   "cell_type": "code",
   "metadata": {
    "id": "SMAsivYlUzXE",
    "executionInfo": {
     "status": "ok",
     "timestamp": 1604196300088,
     "user_tz": 0,
     "elapsed": 8706,
     "user": {
      "displayName": "Diogo Silva",
      "photoUrl": "",
      "userId": "15659208670800302245"
     }
    }
   },
   "source": [
    "from sklearn.preprocessing import StandardScaler\n",
    "\n",
    "# Definir colunas a normalizar\n",
    "cols = [\"Pclass\", \"Age\", \"Family_Members\", \"Fare\"]\n",
    "# Normalizar os dados\n",
    "scaled_columns = StandardScaler().fit_transform(X[cols].values)\n",
    "# Juntar os dados normalizados com os outros\n",
    "X = np.concatenate([X[X.columns.difference(cols)], scaled_columns], axis=1)\n"
   ],
   "execution_count": 36,
   "outputs": []
  },
  {
   "cell_type": "markdown",
   "metadata": {
    "id": "9T3r7hkhcU-B"
   },
   "source": [
    "## 2.6 Divisão dos dados"
   ]
  },
  {
   "cell_type": "code",
   "metadata": {
    "id": "zH3aiLe0YiLZ",
    "executionInfo": {
     "status": "ok",
     "timestamp": 1604196300088,
     "user_tz": 0,
     "elapsed": 8699,
     "user": {
      "displayName": "Diogo Silva",
      "photoUrl": "",
      "userId": "15659208670800302245"
     }
    }
   },
   "source": [
    "from sklearn.model_selection import train_test_split\n",
    "# Dividir dados em treino e teste. \n",
    "# 20% dos dados são usados para teste\n",
    "# random_state = 42, para resultados reproduzíveis\n",
    "X_train, X_test, y_train, y_test = train_test_split(X, y, test_size=0.2, random_state = 42)"
   ],
   "execution_count": 37,
   "outputs": []
  },
  {
   "cell_type": "markdown",
   "metadata": {
    "id": "gvOs8ZyydOP1"
   },
   "source": [
    "# 3. Construir e treinar a Rede Neuronal"
   ]
  },
  {
   "cell_type": "code",
   "metadata": {
    "id": "RpHBT9YTdWaq",
    "outputId": "aa15b3b3-ddb9-4619-8038-69e975d10e26",
    "colab": {
     "base_uri": "https://localhost:8080/"
    }
   },
   "source": [
    "from keras.wrappers.scikit_learn import KerasClassifier\n",
    "from keras.callbacks import EarlyStopping\n",
    "from keras.models import Sequential\n",
    "from keras.layers import Dense\n",
    "from keras import metrics\n",
    "\n",
    "es_cb = EarlyStopping(monitor = \"val_auc\", patience = 10, mode = \"max\")\n",
    "\n",
    "class KerasModel:\n",
    "    def __init__(self, n_features):\n",
    "      self.n_features = n_features\n",
    "  \n",
    "    def build_model(self):\n",
    "      # Criar modelo sequencial\n",
    "      model = Sequential()\n",
    "      # Criar camadas 'Dense'\n",
    "      model.add(Dense(12, input_dim = self.n_features, activation = 'relu'))\n",
    "      model.add(Dense(8, activation = 'relu'))\n",
    "      # Ativação = 'sigmoid' para os valores de saída serem 0 ou 1\n",
    "      model.add(Dense(1, activation = 'sigmoid'))\n",
    "      # Compilar modelo\n",
    "      # Optimizar métrica 'AUC' para melhores resultados em classificação binária \n",
    "      model.compile(loss = 'binary_crossentropy', optimizer = 'adam', metrics = [metrics.AUC()])\n",
    "      return model\n",
    "\n",
    "model = KerasClassifier(KerasModel(X_train.shape[1]).build_model, callbacks = [es_cb], epochs = 1000, validation_split = 0.2)\n",
    "# Treinar modelo\n",
    "model.fit(X_train, y_train)"
   ],
   "execution_count": null,
   "outputs": [
    {
     "output_type": "stream",
     "text": [
      "Epoch 1/1000\n",
      " 1/18 [>.............................] - ETA: 0s - loss: 0.7736 - auc_1: 0.3563WARNING:tensorflow:Early stopping conditioned on metric `val_auc` which is not available. Available metrics are: loss,auc_1,val_loss,val_auc_1\n",
      "18/18 [==============================] - 0s 15ms/step - loss: 0.7479 - auc_1: 0.4030 - val_loss: 0.7367 - val_auc_1: 0.4196\n",
      "Epoch 2/1000\n",
      " 1/18 [>.............................] - ETA: 0s - loss: 0.8469 - auc_1: 0.2667WARNING:tensorflow:Early stopping conditioned on metric `val_auc` which is not available. Available metrics are: loss,auc_1,val_loss,val_auc_1\n",
      "18/18 [==============================] - 0s 2ms/step - loss: 0.7033 - auc_1: 0.4643 - val_loss: 0.6955 - val_auc_1: 0.4904\n",
      "Epoch 3/1000\n",
      " 1/18 [>.............................] - ETA: 0s - loss: 0.6687 - auc_1: 0.4682WARNING:tensorflow:Early stopping conditioned on metric `val_auc` which is not available. Available metrics are: loss,auc_1,val_loss,val_auc_1\n",
      "18/18 [==============================] - 0s 2ms/step - loss: 0.6707 - auc_1: 0.5382 - val_loss: 0.6640 - val_auc_1: 0.5796\n",
      "Epoch 4/1000\n",
      " 1/18 [>.............................] - ETA: 0s - loss: 0.6343 - auc_1: 0.5477WARNING:tensorflow:Early stopping conditioned on metric `val_auc` which is not available. Available metrics are: loss,auc_1,val_loss,val_auc_1\n",
      "18/18 [==============================] - 0s 3ms/step - loss: 0.6447 - auc_1: 0.6244 - val_loss: 0.6359 - val_auc_1: 0.6629\n",
      "Epoch 5/1000\n",
      " 1/18 [>.............................] - ETA: 0s - loss: 0.7011 - auc_1: 0.4960WARNING:tensorflow:Early stopping conditioned on metric `val_auc` which is not available. Available metrics are: loss,auc_1,val_loss,val_auc_1\n",
      "18/18 [==============================] - 0s 3ms/step - loss: 0.6216 - auc_1: 0.7037 - val_loss: 0.6101 - val_auc_1: 0.7277\n",
      "Epoch 6/1000\n",
      " 1/18 [>.............................] - ETA: 0s - loss: 0.6443 - auc_1: 0.8472WARNING:tensorflow:Early stopping conditioned on metric `val_auc` which is not available. Available metrics are: loss,auc_1,val_loss,val_auc_1\n",
      "18/18 [==============================] - 0s 3ms/step - loss: 0.5988 - auc_1: 0.7509 - val_loss: 0.5856 - val_auc_1: 0.7686\n",
      "Epoch 7/1000\n",
      " 1/18 [>.............................] - ETA: 0s - loss: 0.5364 - auc_1: 0.8205WARNING:tensorflow:Early stopping conditioned on metric `val_auc` which is not available. Available metrics are: loss,auc_1,val_loss,val_auc_1\n",
      "18/18 [==============================] - 0s 2ms/step - loss: 0.5770 - auc_1: 0.7829 - val_loss: 0.5613 - val_auc_1: 0.7919\n",
      "Epoch 8/1000\n",
      " 1/18 [>.............................] - ETA: 0s - loss: 0.5380 - auc_1: 0.7464WARNING:tensorflow:Early stopping conditioned on metric `val_auc` which is not available. Available metrics are: loss,auc_1,val_loss,val_auc_1\n",
      "18/18 [==============================] - 0s 2ms/step - loss: 0.5589 - auc_1: 0.7956 - val_loss: 0.5417 - val_auc_1: 0.8133\n",
      "Epoch 9/1000\n",
      " 1/18 [>.............................] - ETA: 0s - loss: 0.5301 - auc_1: 0.8401WARNING:tensorflow:Early stopping conditioned on metric `val_auc` which is not available. Available metrics are: loss,auc_1,val_loss,val_auc_1\n",
      "18/18 [==============================] - 0s 2ms/step - loss: 0.5444 - auc_1: 0.8060 - val_loss: 0.5242 - val_auc_1: 0.8275\n",
      "Epoch 10/1000\n",
      " 1/18 [>.............................] - ETA: 0s - loss: 0.5116 - auc_1: 0.8929WARNING:tensorflow:Early stopping conditioned on metric `val_auc` which is not available. Available metrics are: loss,auc_1,val_loss,val_auc_1\n",
      "18/18 [==============================] - 0s 2ms/step - loss: 0.5317 - auc_1: 0.8159 - val_loss: 0.5086 - val_auc_1: 0.8437\n",
      "Epoch 11/1000\n",
      " 1/18 [>.............................] - ETA: 0s - loss: 0.4649 - auc_1: 0.8826WARNING:tensorflow:Early stopping conditioned on metric `val_auc` which is not available. Available metrics are: loss,auc_1,val_loss,val_auc_1\n",
      "18/18 [==============================] - 0s 2ms/step - loss: 0.5203 - auc_1: 0.8234 - val_loss: 0.4931 - val_auc_1: 0.8512\n",
      "Epoch 12/1000\n",
      " 1/18 [>.............................] - ETA: 0s - loss: 0.5156 - auc_1: 0.8502WARNING:tensorflow:Early stopping conditioned on metric `val_auc` which is not available. Available metrics are: loss,auc_1,val_loss,val_auc_1\n",
      "18/18 [==============================] - 0s 2ms/step - loss: 0.5083 - auc_1: 0.8329 - val_loss: 0.4775 - val_auc_1: 0.8575\n",
      "Epoch 13/1000\n",
      " 1/18 [>.............................] - ETA: 0s - loss: 0.4528 - auc_1: 0.9251WARNING:tensorflow:Early stopping conditioned on metric `val_auc` which is not available. Available metrics are: loss,auc_1,val_loss,val_auc_1\n",
      "18/18 [==============================] - 0s 3ms/step - loss: 0.4979 - auc_1: 0.8396 - val_loss: 0.4607 - val_auc_1: 0.8659\n",
      "Epoch 14/1000\n",
      " 1/18 [>.............................] - ETA: 0s - loss: 0.4437 - auc_1: 0.9333WARNING:tensorflow:Early stopping conditioned on metric `val_auc` which is not available. Available metrics are: loss,auc_1,val_loss,val_auc_1\n",
      "18/18 [==============================] - 0s 3ms/step - loss: 0.4868 - auc_1: 0.8460 - val_loss: 0.4468 - val_auc_1: 0.8738\n",
      "Epoch 15/1000\n",
      " 1/18 [>.............................] - ETA: 0s - loss: 0.6703 - auc_1: 0.7148WARNING:tensorflow:Early stopping conditioned on metric `val_auc` which is not available. Available metrics are: loss,auc_1,val_loss,val_auc_1\n",
      "18/18 [==============================] - 0s 3ms/step - loss: 0.4769 - auc_1: 0.8495 - val_loss: 0.4339 - val_auc_1: 0.8798\n",
      "Epoch 16/1000\n",
      " 1/18 [>.............................] - ETA: 0s - loss: 0.4730 - auc_1: 0.9524WARNING:tensorflow:Early stopping conditioned on metric `val_auc` which is not available. Available metrics are: loss,auc_1,val_loss,val_auc_1\n",
      "18/18 [==============================] - 0s 2ms/step - loss: 0.4686 - auc_1: 0.8507 - val_loss: 0.4209 - val_auc_1: 0.8859\n",
      "Epoch 17/1000\n",
      " 1/18 [>.............................] - ETA: 0s - loss: 0.6373 - auc_1: 0.6822WARNING:tensorflow:Early stopping conditioned on metric `val_auc` which is not available. Available metrics are: loss,auc_1,val_loss,val_auc_1\n",
      "18/18 [==============================] - 0s 3ms/step - loss: 0.4607 - auc_1: 0.8530 - val_loss: 0.4116 - val_auc_1: 0.8930\n",
      "Epoch 18/1000\n",
      " 1/18 [>.............................] - ETA: 0s - loss: 0.3855 - auc_1: 0.9386WARNING:tensorflow:Early stopping conditioned on metric `val_auc` which is not available. Available metrics are: loss,auc_1,val_loss,val_auc_1\n",
      "18/18 [==============================] - 0s 3ms/step - loss: 0.4537 - auc_1: 0.8567 - val_loss: 0.4040 - val_auc_1: 0.8927\n",
      "Epoch 19/1000\n",
      " 1/18 [>.............................] - ETA: 0s - loss: 0.3879 - auc_1: 0.8073WARNING:tensorflow:Early stopping conditioned on metric `val_auc` which is not available. Available metrics are: loss,auc_1,val_loss,val_auc_1\n",
      "18/18 [==============================] - 0s 3ms/step - loss: 0.4485 - auc_1: 0.8570 - val_loss: 0.3992 - val_auc_1: 0.8932\n",
      "Epoch 20/1000\n",
      " 1/18 [>.............................] - ETA: 0s - loss: 0.3652 - auc_1: 0.9048WARNING:tensorflow:Early stopping conditioned on metric `val_auc` which is not available. Available metrics are: loss,auc_1,val_loss,val_auc_1\n",
      "18/18 [==============================] - 0s 3ms/step - loss: 0.4433 - auc_1: 0.8596 - val_loss: 0.3956 - val_auc_1: 0.8959\n",
      "Epoch 21/1000\n",
      " 1/18 [>.............................] - ETA: 0s - loss: 0.3730 - auc_1: 0.8932WARNING:tensorflow:Early stopping conditioned on metric `val_auc` which is not available. Available metrics are: loss,auc_1,val_loss,val_auc_1\n",
      "18/18 [==============================] - 0s 3ms/step - loss: 0.4388 - auc_1: 0.8620 - val_loss: 0.3926 - val_auc_1: 0.8977\n",
      "Epoch 22/1000\n",
      " 1/18 [>.............................] - ETA: 0s - loss: 0.5231 - auc_1: 0.8175WARNING:tensorflow:Early stopping conditioned on metric `val_auc` which is not available. Available metrics are: loss,auc_1,val_loss,val_auc_1\n",
      "18/18 [==============================] - 0s 3ms/step - loss: 0.4357 - auc_1: 0.8625 - val_loss: 0.3911 - val_auc_1: 0.8952\n",
      "Epoch 23/1000\n",
      " 1/18 [>.............................] - ETA: 0s - loss: 0.6157 - auc_1: 0.7227WARNING:tensorflow:Early stopping conditioned on metric `val_auc` which is not available. Available metrics are: loss,auc_1,val_loss,val_auc_1\n",
      "18/18 [==============================] - 0s 3ms/step - loss: 0.4319 - auc_1: 0.8642 - val_loss: 0.3902 - val_auc_1: 0.8966\n",
      "Epoch 24/1000\n",
      " 1/18 [>.............................] - ETA: 0s - loss: 0.2281 - auc_1: 0.9758WARNING:tensorflow:Early stopping conditioned on metric `val_auc` which is not available. Available metrics are: loss,auc_1,val_loss,val_auc_1\n",
      "18/18 [==============================] - 0s 3ms/step - loss: 0.4298 - auc_1: 0.8658 - val_loss: 0.3890 - val_auc_1: 0.8964\n",
      "Epoch 25/1000\n",
      " 1/18 [>.............................] - ETA: 0s - loss: 0.5425 - auc_1: 0.8235WARNING:tensorflow:Early stopping conditioned on metric `val_auc` which is not available. Available metrics are: loss,auc_1,val_loss,val_auc_1\n",
      "18/18 [==============================] - 0s 3ms/step - loss: 0.4273 - auc_1: 0.8668 - val_loss: 0.3881 - val_auc_1: 0.8953\n",
      "Epoch 26/1000\n",
      " 1/18 [>.............................] - ETA: 0s - loss: 0.4930 - auc_1: 0.9127WARNING:tensorflow:Early stopping conditioned on metric `val_auc` which is not available. Available metrics are: loss,auc_1,val_loss,val_auc_1\n",
      "18/18 [==============================] - 0s 3ms/step - loss: 0.4257 - auc_1: 0.8660 - val_loss: 0.3866 - val_auc_1: 0.8956\n",
      "Epoch 27/1000\n",
      " 1/18 [>.............................] - ETA: 0s - loss: 0.3590 - auc_1: 0.9432WARNING:tensorflow:Early stopping conditioned on metric `val_auc` which is not available. Available metrics are: loss,auc_1,val_loss,val_auc_1\n",
      "18/18 [==============================] - 0s 3ms/step - loss: 0.4227 - auc_1: 0.8683 - val_loss: 0.3869 - val_auc_1: 0.8962\n",
      "Epoch 28/1000\n",
      " 1/18 [>.............................] - ETA: 0s - loss: 0.3446 - auc_1: 0.9372WARNING:tensorflow:Early stopping conditioned on metric `val_auc` which is not available. Available metrics are: loss,auc_1,val_loss,val_auc_1\n",
      "18/18 [==============================] - 0s 3ms/step - loss: 0.4211 - auc_1: 0.8699 - val_loss: 0.3869 - val_auc_1: 0.8944\n",
      "Epoch 29/1000\n",
      " 1/18 [>.............................] - ETA: 0s - loss: 0.3889 - auc_1: 0.9251WARNING:tensorflow:Early stopping conditioned on metric `val_auc` which is not available. Available metrics are: loss,auc_1,val_loss,val_auc_1\n",
      "18/18 [==============================] - 0s 3ms/step - loss: 0.4195 - auc_1: 0.8702 - val_loss: 0.3870 - val_auc_1: 0.8940\n",
      "Epoch 30/1000\n",
      " 1/18 [>.............................] - ETA: 0s - loss: 0.6188 - auc_1: 0.7619WARNING:tensorflow:Early stopping conditioned on metric `val_auc` which is not available. Available metrics are: loss,auc_1,val_loss,val_auc_1\n",
      "18/18 [==============================] - 0s 3ms/step - loss: 0.4179 - auc_1: 0.8718 - val_loss: 0.3868 - val_auc_1: 0.8954\n",
      "Epoch 31/1000\n",
      " 1/18 [>.............................] - ETA: 0s - loss: 0.4580 - auc_1: 0.7971WARNING:tensorflow:Early stopping conditioned on metric `val_auc` which is not available. Available metrics are: loss,auc_1,val_loss,val_auc_1\n",
      "18/18 [==============================] - 0s 3ms/step - loss: 0.4164 - auc_1: 0.8719 - val_loss: 0.3866 - val_auc_1: 0.8931\n",
      "Epoch 32/1000\n",
      " 1/18 [>.............................] - ETA: 0s - loss: 0.3304 - auc_1: 0.9114WARNING:tensorflow:Early stopping conditioned on metric `val_auc` which is not available. Available metrics are: loss,auc_1,val_loss,val_auc_1\n",
      "18/18 [==============================] - 0s 3ms/step - loss: 0.4153 - auc_1: 0.8725 - val_loss: 0.3853 - val_auc_1: 0.8958\n",
      "Epoch 33/1000\n",
      " 1/18 [>.............................] - ETA: 0s - loss: 0.4164 - auc_1: 0.8750WARNING:tensorflow:Early stopping conditioned on metric `val_auc` which is not available. Available metrics are: loss,auc_1,val_loss,val_auc_1\n",
      "18/18 [==============================] - 0s 3ms/step - loss: 0.4144 - auc_1: 0.8733 - val_loss: 0.3862 - val_auc_1: 0.8958\n",
      "Epoch 34/1000\n",
      " 1/18 [>.............................] - ETA: 0s - loss: 0.4586 - auc_1: 0.8300WARNING:tensorflow:Early stopping conditioned on metric `val_auc` which is not available. Available metrics are: loss,auc_1,val_loss,val_auc_1\n",
      "18/18 [==============================] - 0s 3ms/step - loss: 0.4127 - auc_1: 0.8750 - val_loss: 0.3861 - val_auc_1: 0.8949\n",
      "Epoch 35/1000\n",
      " 1/18 [>.............................] - ETA: 0s - loss: 0.2549 - auc_1: 0.9864WARNING:tensorflow:Early stopping conditioned on metric `val_auc` which is not available. Available metrics are: loss,auc_1,val_loss,val_auc_1\n",
      "18/18 [==============================] - 0s 2ms/step - loss: 0.4118 - auc_1: 0.8756 - val_loss: 0.3852 - val_auc_1: 0.8952\n",
      "Epoch 36/1000\n",
      " 1/18 [>.............................] - ETA: 0s - loss: 0.2738 - auc_1: 0.9386WARNING:tensorflow:Early stopping conditioned on metric `val_auc` which is not available. Available metrics are: loss,auc_1,val_loss,val_auc_1\n",
      "18/18 [==============================] - 0s 2ms/step - loss: 0.4111 - auc_1: 0.8759 - val_loss: 0.3856 - val_auc_1: 0.8948\n",
      "Epoch 37/1000\n",
      " 1/18 [>.............................] - ETA: 0s - loss: 0.3683 - auc_1: 0.8828WARNING:tensorflow:Early stopping conditioned on metric `val_auc` which is not available. Available metrics are: loss,auc_1,val_loss,val_auc_1\n",
      "18/18 [==============================] - 0s 2ms/step - loss: 0.4092 - auc_1: 0.8771 - val_loss: 0.3860 - val_auc_1: 0.8947\n",
      "Epoch 38/1000\n",
      " 1/18 [>.............................] - ETA: 0s - loss: 0.3722 - auc_1: 0.8886WARNING:tensorflow:Early stopping conditioned on metric `val_auc` which is not available. Available metrics are: loss,auc_1,val_loss,val_auc_1\n",
      "18/18 [==============================] - 0s 3ms/step - loss: 0.4086 - auc_1: 0.8777 - val_loss: 0.3867 - val_auc_1: 0.8947\n",
      "Epoch 39/1000\n",
      " 1/18 [>.............................] - ETA: 0s - loss: 0.3104 - auc_1: 0.9545WARNING:tensorflow:Early stopping conditioned on metric `val_auc` which is not available. Available metrics are: loss,auc_1,val_loss,val_auc_1\n",
      "18/18 [==============================] - 0s 3ms/step - loss: 0.4074 - auc_1: 0.8790 - val_loss: 0.3860 - val_auc_1: 0.8949\n",
      "Epoch 40/1000\n",
      " 1/18 [>.............................] - ETA: 0s - loss: 0.4086 - auc_1: 0.8615WARNING:tensorflow:Early stopping conditioned on metric `val_auc` which is not available. Available metrics are: loss,auc_1,val_loss,val_auc_1\n",
      "18/18 [==============================] - 0s 3ms/step - loss: 0.4060 - auc_1: 0.8803 - val_loss: 0.3857 - val_auc_1: 0.8943\n",
      "Epoch 41/1000\n",
      " 1/18 [>.............................] - ETA: 0s - loss: 0.5230 - auc_1: 0.7489WARNING:tensorflow:Early stopping conditioned on metric `val_auc` which is not available. Available metrics are: loss,auc_1,val_loss,val_auc_1\n",
      "18/18 [==============================] - 0s 2ms/step - loss: 0.4046 - auc_1: 0.8808 - val_loss: 0.3872 - val_auc_1: 0.8925\n",
      "Epoch 42/1000\n",
      " 1/18 [>.............................] - ETA: 0s - loss: 0.4966 - auc_1: 0.7923WARNING:tensorflow:Early stopping conditioned on metric `val_auc` which is not available. Available metrics are: loss,auc_1,val_loss,val_auc_1\n",
      "18/18 [==============================] - 0s 3ms/step - loss: 0.4033 - auc_1: 0.8818 - val_loss: 0.3874 - val_auc_1: 0.8923\n",
      "Epoch 43/1000\n",
      " 1/18 [>.............................] - ETA: 0s - loss: 0.3514 - auc_1: 0.8743WARNING:tensorflow:Early stopping conditioned on metric `val_auc` which is not available. Available metrics are: loss,auc_1,val_loss,val_auc_1\n",
      "18/18 [==============================] - 0s 2ms/step - loss: 0.4028 - auc_1: 0.8821 - val_loss: 0.3874 - val_auc_1: 0.8921\n",
      "Epoch 44/1000\n",
      " 1/18 [>.............................] - ETA: 0s - loss: 0.3528 - auc_1: 0.9251WARNING:tensorflow:Early stopping conditioned on metric `val_auc` which is not available. Available metrics are: loss,auc_1,val_loss,val_auc_1\n",
      "18/18 [==============================] - 0s 2ms/step - loss: 0.4007 - auc_1: 0.8840 - val_loss: 0.3869 - val_auc_1: 0.8912\n",
      "Epoch 45/1000\n",
      " 1/18 [>.............................] - ETA: 0s - loss: 0.4464 - auc_1: 0.8396WARNING:tensorflow:Early stopping conditioned on metric `val_auc` which is not available. Available metrics are: loss,auc_1,val_loss,val_auc_1\n",
      "18/18 [==============================] - 0s 3ms/step - loss: 0.3991 - auc_1: 0.8845 - val_loss: 0.3868 - val_auc_1: 0.8919\n",
      "Epoch 46/1000\n",
      " 1/18 [>.............................] - ETA: 0s - loss: 0.3284 - auc_1: 0.8724WARNING:tensorflow:Early stopping conditioned on metric `val_auc` which is not available. Available metrics are: loss,auc_1,val_loss,val_auc_1\n",
      "18/18 [==============================] - 0s 3ms/step - loss: 0.3976 - auc_1: 0.8860 - val_loss: 0.3879 - val_auc_1: 0.8915\n",
      "Epoch 47/1000\n",
      " 1/18 [>.............................] - ETA: 0s - loss: 0.3762 - auc_1: 0.9235WARNING:tensorflow:Early stopping conditioned on metric `val_auc` which is not available. Available metrics are: loss,auc_1,val_loss,val_auc_1\n",
      "18/18 [==============================] - 0s 2ms/step - loss: 0.3962 - auc_1: 0.8854 - val_loss: 0.3877 - val_auc_1: 0.8910\n",
      "Epoch 48/1000\n",
      " 1/18 [>.............................] - ETA: 0s - loss: 0.3818 - auc_1: 0.8979WARNING:tensorflow:Early stopping conditioned on metric `val_auc` which is not available. Available metrics are: loss,auc_1,val_loss,val_auc_1\n",
      "18/18 [==============================] - 0s 3ms/step - loss: 0.3945 - auc_1: 0.8869 - val_loss: 0.3901 - val_auc_1: 0.8901\n",
      "Epoch 49/1000\n",
      " 1/18 [>.............................] - ETA: 0s - loss: 0.2993 - auc_1: 0.9200WARNING:tensorflow:Early stopping conditioned on metric `val_auc` which is not available. Available metrics are: loss,auc_1,val_loss,val_auc_1\n",
      "18/18 [==============================] - 0s 2ms/step - loss: 0.3932 - auc_1: 0.8879 - val_loss: 0.3905 - val_auc_1: 0.8913\n",
      "Epoch 50/1000\n",
      " 1/18 [>.............................] - ETA: 0s - loss: 0.4031 - auc_1: 0.8442WARNING:tensorflow:Early stopping conditioned on metric `val_auc` which is not available. Available metrics are: loss,auc_1,val_loss,val_auc_1\n",
      "18/18 [==============================] - 0s 3ms/step - loss: 0.3912 - auc_1: 0.8888 - val_loss: 0.3908 - val_auc_1: 0.8900\n",
      "Epoch 51/1000\n",
      " 1/18 [>.............................] - ETA: 0s - loss: 0.4097 - auc_1: 0.8909WARNING:tensorflow:Early stopping conditioned on metric `val_auc` which is not available. Available metrics are: loss,auc_1,val_loss,val_auc_1\n",
      "18/18 [==============================] - 0s 3ms/step - loss: 0.3904 - auc_1: 0.8892 - val_loss: 0.3924 - val_auc_1: 0.8897\n",
      "Epoch 52/1000\n",
      " 1/18 [>.............................] - ETA: 0s - loss: 0.2563 - auc_1: 0.9583WARNING:tensorflow:Early stopping conditioned on metric `val_auc` which is not available. Available metrics are: loss,auc_1,val_loss,val_auc_1\n",
      "18/18 [==============================] - 0s 3ms/step - loss: 0.3896 - auc_1: 0.8901 - val_loss: 0.3937 - val_auc_1: 0.8882\n",
      "Epoch 53/1000\n",
      " 1/18 [>.............................] - ETA: 0s - loss: 0.5095 - auc_1: 0.7013WARNING:tensorflow:Early stopping conditioned on metric `val_auc` which is not available. Available metrics are: loss,auc_1,val_loss,val_auc_1\n",
      "18/18 [==============================] - 0s 3ms/step - loss: 0.3883 - auc_1: 0.8910 - val_loss: 0.3947 - val_auc_1: 0.8876\n",
      "Epoch 54/1000\n",
      " 1/18 [>.............................] - ETA: 0s - loss: 0.4965 - auc_1: 0.8510WARNING:tensorflow:Early stopping conditioned on metric `val_auc` which is not available. Available metrics are: loss,auc_1,val_loss,val_auc_1\n",
      "18/18 [==============================] - 0s 3ms/step - loss: 0.3868 - auc_1: 0.8925 - val_loss: 0.3944 - val_auc_1: 0.8870\n",
      "Epoch 55/1000\n",
      " 1/18 [>.............................] - ETA: 0s - loss: 0.5305 - auc_1: 0.8770WARNING:tensorflow:Early stopping conditioned on metric `val_auc` which is not available. Available metrics are: loss,auc_1,val_loss,val_auc_1\n",
      "18/18 [==============================] - 0s 3ms/step - loss: 0.3855 - auc_1: 0.8931 - val_loss: 0.3948 - val_auc_1: 0.8868\n",
      "Epoch 56/1000\n",
      " 1/18 [>.............................] - ETA: 0s - loss: 0.2296 - auc_1: 1.0000WARNING:tensorflow:Early stopping conditioned on metric `val_auc` which is not available. Available metrics are: loss,auc_1,val_loss,val_auc_1\n",
      "18/18 [==============================] - 0s 3ms/step - loss: 0.3855 - auc_1: 0.8925 - val_loss: 0.3955 - val_auc_1: 0.8879\n",
      "Epoch 57/1000\n",
      " 1/18 [>.............................] - ETA: 0s - loss: 0.2816 - auc_1: 0.9458WARNING:tensorflow:Early stopping conditioned on metric `val_auc` which is not available. Available metrics are: loss,auc_1,val_loss,val_auc_1\n",
      "18/18 [==============================] - 0s 2ms/step - loss: 0.3845 - auc_1: 0.8934 - val_loss: 0.3972 - val_auc_1: 0.8865\n",
      "Epoch 58/1000\n",
      " 1/18 [>.............................] - ETA: 0s - loss: 0.4681 - auc_1: 0.8433WARNING:tensorflow:Early stopping conditioned on metric `val_auc` which is not available. Available metrics are: loss,auc_1,val_loss,val_auc_1\n",
      "18/18 [==============================] - 0s 3ms/step - loss: 0.3843 - auc_1: 0.8939 - val_loss: 0.3977 - val_auc_1: 0.8845\n",
      "Epoch 59/1000\n",
      " 1/18 [>.............................] - ETA: 0s - loss: 0.5320 - auc_1: 0.8698WARNING:tensorflow:Early stopping conditioned on metric `val_auc` which is not available. Available metrics are: loss,auc_1,val_loss,val_auc_1\n",
      "18/18 [==============================] - 0s 3ms/step - loss: 0.3851 - auc_1: 0.8929 - val_loss: 0.3971 - val_auc_1: 0.8849\n",
      "Epoch 60/1000\n",
      " 1/18 [>.............................] - ETA: 0s - loss: 0.3983 - auc_1: 0.9028WARNING:tensorflow:Early stopping conditioned on metric `val_auc` which is not available. Available metrics are: loss,auc_1,val_loss,val_auc_1\n",
      "18/18 [==============================] - 0s 3ms/step - loss: 0.3819 - auc_1: 0.8949 - val_loss: 0.3996 - val_auc_1: 0.8832\n",
      "Epoch 61/1000\n",
      " 1/18 [>.............................] - ETA: 0s - loss: 0.4757 - auc_1: 0.8333WARNING:tensorflow:Early stopping conditioned on metric `val_auc` which is not available. Available metrics are: loss,auc_1,val_loss,val_auc_1\n",
      "18/18 [==============================] - 0s 3ms/step - loss: 0.3819 - auc_1: 0.8956 - val_loss: 0.3997 - val_auc_1: 0.8836\n",
      "Epoch 62/1000\n",
      " 1/18 [>.............................] - ETA: 0s - loss: 0.3350 - auc_1: 0.9332WARNING:tensorflow:Early stopping conditioned on metric `val_auc` which is not available. Available metrics are: loss,auc_1,val_loss,val_auc_1\n",
      "18/18 [==============================] - 0s 3ms/step - loss: 0.3804 - auc_1: 0.8957 - val_loss: 0.4000 - val_auc_1: 0.8835\n",
      "Epoch 63/1000\n",
      " 1/18 [>.............................] - ETA: 0s - loss: 0.3375 - auc_1: 0.9306WARNING:tensorflow:Early stopping conditioned on metric `val_auc` which is not available. Available metrics are: loss,auc_1,val_loss,val_auc_1\n",
      "18/18 [==============================] - 0s 3ms/step - loss: 0.3801 - auc_1: 0.8950 - val_loss: 0.4001 - val_auc_1: 0.8840\n",
      "Epoch 64/1000\n",
      " 1/18 [>.............................] - ETA: 0s - loss: 0.4745 - auc_1: 0.8234WARNING:tensorflow:Early stopping conditioned on metric `val_auc` which is not available. Available metrics are: loss,auc_1,val_loss,val_auc_1\n",
      "18/18 [==============================] - 0s 3ms/step - loss: 0.3793 - auc_1: 0.8962 - val_loss: 0.4006 - val_auc_1: 0.8828\n",
      "Epoch 65/1000\n",
      " 1/18 [>.............................] - ETA: 0s - loss: 0.3618 - auc_1: 0.9127WARNING:tensorflow:Early stopping conditioned on metric `val_auc` which is not available. Available metrics are: loss,auc_1,val_loss,val_auc_1\n",
      "18/18 [==============================] - 0s 2ms/step - loss: 0.3790 - auc_1: 0.8962 - val_loss: 0.4016 - val_auc_1: 0.8817\n",
      "Epoch 66/1000\n",
      " 1/18 [>.............................] - ETA: 0s - loss: 0.4085 - auc_1: 0.8968WARNING:tensorflow:Early stopping conditioned on metric `val_auc` which is not available. Available metrics are: loss,auc_1,val_loss,val_auc_1\n",
      "18/18 [==============================] - 0s 2ms/step - loss: 0.3782 - auc_1: 0.8965 - val_loss: 0.4030 - val_auc_1: 0.8796\n",
      "Epoch 67/1000\n",
      " 1/18 [>.............................] - ETA: 0s - loss: 0.3499 - auc_1: 0.9125WARNING:tensorflow:Early stopping conditioned on metric `val_auc` which is not available. Available metrics are: loss,auc_1,val_loss,val_auc_1\n",
      "18/18 [==============================] - 0s 2ms/step - loss: 0.3782 - auc_1: 0.8961 - val_loss: 0.4034 - val_auc_1: 0.8816\n",
      "Epoch 68/1000\n",
      " 1/18 [>.............................] - ETA: 0s - loss: 0.2943 - auc_1: 0.9156WARNING:tensorflow:Early stopping conditioned on metric `val_auc` which is not available. Available metrics are: loss,auc_1,val_loss,val_auc_1\n",
      "18/18 [==============================] - 0s 3ms/step - loss: 0.3771 - auc_1: 0.8973 - val_loss: 0.4026 - val_auc_1: 0.8808\n",
      "Epoch 69/1000\n",
      " 1/18 [>.............................] - ETA: 0s - loss: 0.2066 - auc_1: 0.9932WARNING:tensorflow:Early stopping conditioned on metric `val_auc` which is not available. Available metrics are: loss,auc_1,val_loss,val_auc_1\n",
      "18/18 [==============================] - 0s 2ms/step - loss: 0.3777 - auc_1: 0.8959 - val_loss: 0.4038 - val_auc_1: 0.8789\n",
      "Epoch 70/1000\n",
      " 1/18 [>.............................] - ETA: 0s - loss: 0.5483 - auc_1: 0.8157WARNING:tensorflow:Early stopping conditioned on metric `val_auc` which is not available. Available metrics are: loss,auc_1,val_loss,val_auc_1\n",
      "18/18 [==============================] - 0s 3ms/step - loss: 0.3762 - auc_1: 0.8969 - val_loss: 0.4037 - val_auc_1: 0.8786\n",
      "Epoch 71/1000\n",
      " 1/18 [>.............................] - ETA: 0s - loss: 0.2435 - auc_1: 0.9807WARNING:tensorflow:Early stopping conditioned on metric `val_auc` which is not available. Available metrics are: loss,auc_1,val_loss,val_auc_1\n",
      "18/18 [==============================] - 0s 2ms/step - loss: 0.3765 - auc_1: 0.8969 - val_loss: 0.4050 - val_auc_1: 0.8793\n",
      "Epoch 72/1000\n",
      " 1/18 [>.............................] - ETA: 0s - loss: 0.2882 - auc_1: 0.9494WARNING:tensorflow:Early stopping conditioned on metric `val_auc` which is not available. Available metrics are: loss,auc_1,val_loss,val_auc_1\n",
      "18/18 [==============================] - 0s 3ms/step - loss: 0.3756 - auc_1: 0.8979 - val_loss: 0.4052 - val_auc_1: 0.8790\n",
      "Epoch 73/1000\n",
      " 1/18 [>.............................] - ETA: 0s - loss: 0.3144 - auc_1: 0.9113WARNING:tensorflow:Early stopping conditioned on metric `val_auc` which is not available. Available metrics are: loss,auc_1,val_loss,val_auc_1\n",
      "18/18 [==============================] - 0s 3ms/step - loss: 0.3750 - auc_1: 0.8979 - val_loss: 0.4045 - val_auc_1: 0.8794\n",
      "Epoch 74/1000\n",
      " 1/18 [>.............................] - ETA: 0s - loss: 0.3634 - auc_1: 0.9137WARNING:tensorflow:Early stopping conditioned on metric `val_auc` which is not available. Available metrics are: loss,auc_1,val_loss,val_auc_1\n",
      "18/18 [==============================] - 0s 3ms/step - loss: 0.3757 - auc_1: 0.8967 - val_loss: 0.4063 - val_auc_1: 0.8774\n",
      "Epoch 75/1000\n",
      " 1/18 [>.............................] - ETA: 0s - loss: 0.2627 - auc_1: 0.9807WARNING:tensorflow:Early stopping conditioned on metric `val_auc` which is not available. Available metrics are: loss,auc_1,val_loss,val_auc_1\n",
      "18/18 [==============================] - 0s 2ms/step - loss: 0.3739 - auc_1: 0.8983 - val_loss: 0.4047 - val_auc_1: 0.8787\n",
      "Epoch 76/1000\n",
      " 1/18 [>.............................] - ETA: 0s - loss: 0.5133 - auc_1: 0.8095WARNING:tensorflow:Early stopping conditioned on metric `val_auc` which is not available. Available metrics are: loss,auc_1,val_loss,val_auc_1\n",
      "18/18 [==============================] - 0s 3ms/step - loss: 0.3735 - auc_1: 0.8990 - val_loss: 0.4079 - val_auc_1: 0.8771\n",
      "Epoch 77/1000\n",
      " 1/18 [>.............................] - ETA: 0s - loss: 0.4139 - auc_1: 0.8907WARNING:tensorflow:Early stopping conditioned on metric `val_auc` which is not available. Available metrics are: loss,auc_1,val_loss,val_auc_1\n",
      "18/18 [==============================] - 0s 3ms/step - loss: 0.3733 - auc_1: 0.8986 - val_loss: 0.4073 - val_auc_1: 0.8778\n",
      "Epoch 78/1000\n",
      " 1/18 [>.............................] - ETA: 0s - loss: 0.2942 - auc_1: 0.9432WARNING:tensorflow:Early stopping conditioned on metric `val_auc` which is not available. Available metrics are: loss,auc_1,val_loss,val_auc_1\n",
      "18/18 [==============================] - 0s 3ms/step - loss: 0.3727 - auc_1: 0.8990 - val_loss: 0.4076 - val_auc_1: 0.8762\n",
      "Epoch 79/1000\n",
      " 1/18 [>.............................] - ETA: 0s - loss: 0.2173 - auc_1: 0.9870WARNING:tensorflow:Early stopping conditioned on metric `val_auc` which is not available. Available metrics are: loss,auc_1,val_loss,val_auc_1\n",
      "18/18 [==============================] - 0s 3ms/step - loss: 0.3722 - auc_1: 0.8992 - val_loss: 0.4067 - val_auc_1: 0.8777\n",
      "Epoch 80/1000\n",
      " 1/18 [>.............................] - ETA: 0s - loss: 0.3747 - auc_1: 0.9416WARNING:tensorflow:Early stopping conditioned on metric `val_auc` which is not available. Available metrics are: loss,auc_1,val_loss,val_auc_1\n",
      "18/18 [==============================] - 0s 3ms/step - loss: 0.3713 - auc_1: 0.8996 - val_loss: 0.4065 - val_auc_1: 0.8777\n",
      "Epoch 81/1000\n",
      " 1/18 [>.............................] - ETA: 0s - loss: 0.4608 - auc_1: 0.8792WARNING:tensorflow:Early stopping conditioned on metric `val_auc` which is not available. Available metrics are: loss,auc_1,val_loss,val_auc_1\n",
      "18/18 [==============================] - 0s 3ms/step - loss: 0.3712 - auc_1: 0.9001 - val_loss: 0.4093 - val_auc_1: 0.8767\n",
      "Epoch 82/1000\n",
      " 1/18 [>.............................] - ETA: 0s - loss: 0.3916 - auc_1: 0.8333WARNING:tensorflow:Early stopping conditioned on metric `val_auc` which is not available. Available metrics are: loss,auc_1,val_loss,val_auc_1\n",
      "18/18 [==============================] - 0s 2ms/step - loss: 0.3714 - auc_1: 0.8991 - val_loss: 0.4088 - val_auc_1: 0.8767\n",
      "Epoch 83/1000\n",
      " 1/18 [>.............................] - ETA: 0s - loss: 0.3876 - auc_1: 0.9199WARNING:tensorflow:Early stopping conditioned on metric `val_auc` which is not available. Available metrics are: loss,auc_1,val_loss,val_auc_1\n",
      "18/18 [==============================] - 0s 3ms/step - loss: 0.3703 - auc_1: 0.9007 - val_loss: 0.4080 - val_auc_1: 0.8781\n",
      "Epoch 84/1000\n",
      " 1/18 [>.............................] - ETA: 0s - loss: 0.3265 - auc_1: 0.8714WARNING:tensorflow:Early stopping conditioned on metric `val_auc` which is not available. Available metrics are: loss,auc_1,val_loss,val_auc_1\n",
      "18/18 [==============================] - 0s 3ms/step - loss: 0.3696 - auc_1: 0.8999 - val_loss: 0.4088 - val_auc_1: 0.8766\n",
      "Epoch 85/1000\n",
      " 1/18 [>.............................] - ETA: 0s - loss: 0.4643 - auc_1: 0.7917WARNING:tensorflow:Early stopping conditioned on metric `val_auc` which is not available. Available metrics are: loss,auc_1,val_loss,val_auc_1\n",
      "18/18 [==============================] - 0s 3ms/step - loss: 0.3702 - auc_1: 0.9000 - val_loss: 0.4106 - val_auc_1: 0.8764\n",
      "Epoch 86/1000\n",
      " 1/18 [>.............................] - ETA: 0s - loss: 0.2639 - auc_1: 0.9795WARNING:tensorflow:Early stopping conditioned on metric `val_auc` which is not available. Available metrics are: loss,auc_1,val_loss,val_auc_1\n",
      "18/18 [==============================] - 0s 3ms/step - loss: 0.3686 - auc_1: 0.9004 - val_loss: 0.4091 - val_auc_1: 0.8776\n",
      "Epoch 87/1000\n",
      " 1/18 [>.............................] - ETA: 0s - loss: 0.3010 - auc_1: 0.9686WARNING:tensorflow:Early stopping conditioned on metric `val_auc` which is not available. Available metrics are: loss,auc_1,val_loss,val_auc_1\n",
      "18/18 [==============================] - 0s 3ms/step - loss: 0.3690 - auc_1: 0.8998 - val_loss: 0.4084 - val_auc_1: 0.8766\n",
      "Epoch 88/1000\n",
      " 1/18 [>.............................] - ETA: 0s - loss: 0.4404 - auc_1: 0.8364WARNING:tensorflow:Early stopping conditioned on metric `val_auc` which is not available. Available metrics are: loss,auc_1,val_loss,val_auc_1\n",
      "18/18 [==============================] - 0s 3ms/step - loss: 0.3677 - auc_1: 0.9010 - val_loss: 0.4095 - val_auc_1: 0.8772\n",
      "Epoch 89/1000\n",
      " 1/18 [>.............................] - ETA: 0s - loss: 0.2093 - auc_1: 0.9875WARNING:tensorflow:Early stopping conditioned on metric `val_auc` which is not available. Available metrics are: loss,auc_1,val_loss,val_auc_1\n",
      "18/18 [==============================] - 0s 3ms/step - loss: 0.3672 - auc_1: 0.9015 - val_loss: 0.4098 - val_auc_1: 0.8764\n",
      "Epoch 90/1000\n",
      " 1/18 [>.............................] - ETA: 0s - loss: 0.3235 - auc_1: 0.9118WARNING:tensorflow:Early stopping conditioned on metric `val_auc` which is not available. Available metrics are: loss,auc_1,val_loss,val_auc_1\n",
      "18/18 [==============================] - 0s 3ms/step - loss: 0.3666 - auc_1: 0.9012 - val_loss: 0.4109 - val_auc_1: 0.8767\n",
      "Epoch 91/1000\n",
      " 1/18 [>.............................] - ETA: 0s - loss: 0.3513 - auc_1: 0.8918WARNING:tensorflow:Early stopping conditioned on metric `val_auc` which is not available. Available metrics are: loss,auc_1,val_loss,val_auc_1\n",
      "18/18 [==============================] - 0s 3ms/step - loss: 0.3672 - auc_1: 0.9012 - val_loss: 0.4116 - val_auc_1: 0.8755\n",
      "Epoch 92/1000\n",
      " 1/18 [>.............................] - ETA: 0s - loss: 0.3450 - auc_1: 0.8875WARNING:tensorflow:Early stopping conditioned on metric `val_auc` which is not available. Available metrics are: loss,auc_1,val_loss,val_auc_1\n",
      "18/18 [==============================] - 0s 3ms/step - loss: 0.3665 - auc_1: 0.9015 - val_loss: 0.4104 - val_auc_1: 0.8752\n",
      "Epoch 93/1000\n",
      " 1/18 [>.............................] - ETA: 0s - loss: 0.2907 - auc_1: 0.9647WARNING:tensorflow:Early stopping conditioned on metric `val_auc` which is not available. Available metrics are: loss,auc_1,val_loss,val_auc_1\n",
      "18/18 [==============================] - 0s 3ms/step - loss: 0.3662 - auc_1: 0.9007 - val_loss: 0.4098 - val_auc_1: 0.8774\n",
      "Epoch 94/1000\n",
      " 1/18 [>.............................] - ETA: 0s - loss: 0.3969 - auc_1: 0.8846WARNING:tensorflow:Early stopping conditioned on metric `val_auc` which is not available. Available metrics are: loss,auc_1,val_loss,val_auc_1\n",
      "18/18 [==============================] - 0s 3ms/step - loss: 0.3650 - auc_1: 0.9020 - val_loss: 0.4115 - val_auc_1: 0.8765\n",
      "Epoch 95/1000\n",
      " 1/18 [>.............................] - ETA: 0s - loss: 0.2788 - auc_1: 0.9034WARNING:tensorflow:Early stopping conditioned on metric `val_auc` which is not available. Available metrics are: loss,auc_1,val_loss,val_auc_1\n",
      "18/18 [==============================] - 0s 3ms/step - loss: 0.3650 - auc_1: 0.9028 - val_loss: 0.4122 - val_auc_1: 0.8754\n",
      "Epoch 96/1000\n",
      " 1/18 [>.............................] - ETA: 0s - loss: 0.3863 - auc_1: 0.8398WARNING:tensorflow:Early stopping conditioned on metric `val_auc` which is not available. Available metrics are: loss,auc_1,val_loss,val_auc_1\n",
      "18/18 [==============================] - 0s 3ms/step - loss: 0.3642 - auc_1: 0.9031 - val_loss: 0.4105 - val_auc_1: 0.8753\n",
      "Epoch 97/1000\n",
      " 1/18 [>.............................] - ETA: 0s - loss: 0.3165 - auc_1: 0.9420WARNING:tensorflow:Early stopping conditioned on metric `val_auc` which is not available. Available metrics are: loss,auc_1,val_loss,val_auc_1\n",
      "18/18 [==============================] - 0s 3ms/step - loss: 0.3643 - auc_1: 0.9022 - val_loss: 0.4137 - val_auc_1: 0.8744\n",
      "Epoch 98/1000\n",
      " 1/18 [>.............................] - ETA: 0s - loss: 0.4388 - auc_1: 0.8750WARNING:tensorflow:Early stopping conditioned on metric `val_auc` which is not available. Available metrics are: loss,auc_1,val_loss,val_auc_1\n",
      "18/18 [==============================] - 0s 3ms/step - loss: 0.3632 - auc_1: 0.9035 - val_loss: 0.4121 - val_auc_1: 0.8746\n",
      "Epoch 99/1000\n",
      " 1/18 [>.............................] - ETA: 0s - loss: 0.4159 - auc_1: 0.9146WARNING:tensorflow:Early stopping conditioned on metric `val_auc` which is not available. Available metrics are: loss,auc_1,val_loss,val_auc_1\n",
      "18/18 [==============================] - 0s 3ms/step - loss: 0.3625 - auc_1: 0.9043 - val_loss: 0.4129 - val_auc_1: 0.8739\n",
      "Epoch 100/1000\n",
      " 1/18 [>.............................] - ETA: 0s - loss: 0.2958 - auc_1: 0.9524WARNING:tensorflow:Early stopping conditioned on metric `val_auc` which is not available. Available metrics are: loss,auc_1,val_loss,val_auc_1\n",
      "18/18 [==============================] - 0s 3ms/step - loss: 0.3630 - auc_1: 0.9036 - val_loss: 0.4135 - val_auc_1: 0.8733\n",
      "Epoch 101/1000\n",
      " 1/18 [>.............................] - ETA: 0s - loss: 0.2802 - auc_1: 0.9717WARNING:tensorflow:Early stopping conditioned on metric `val_auc` which is not available. Available metrics are: loss,auc_1,val_loss,val_auc_1\n",
      "18/18 [==============================] - 0s 3ms/step - loss: 0.3618 - auc_1: 0.9035 - val_loss: 0.4127 - val_auc_1: 0.8756\n",
      "Epoch 102/1000\n",
      " 1/18 [>.............................] - ETA: 0s - loss: 0.3343 - auc_1: 0.9136WARNING:tensorflow:Early stopping conditioned on metric `val_auc` which is not available. Available metrics are: loss,auc_1,val_loss,val_auc_1\n",
      "18/18 [==============================] - 0s 3ms/step - loss: 0.3619 - auc_1: 0.9029 - val_loss: 0.4148 - val_auc_1: 0.8735\n",
      "Epoch 103/1000\n",
      " 1/18 [>.............................] - ETA: 0s - loss: 0.3827 - auc_1: 0.9221WARNING:tensorflow:Early stopping conditioned on metric `val_auc` which is not available. Available metrics are: loss,auc_1,val_loss,val_auc_1\n",
      "18/18 [==============================] - 0s 3ms/step - loss: 0.3608 - auc_1: 0.9046 - val_loss: 0.4148 - val_auc_1: 0.8748\n",
      "Epoch 104/1000\n",
      " 1/18 [>.............................] - ETA: 0s - loss: 0.2682 - auc_1: 0.9500WARNING:tensorflow:Early stopping conditioned on metric `val_auc` which is not available. Available metrics are: loss,auc_1,val_loss,val_auc_1\n",
      "18/18 [==============================] - 0s 3ms/step - loss: 0.3611 - auc_1: 0.9048 - val_loss: 0.4150 - val_auc_1: 0.8741\n",
      "Epoch 105/1000\n",
      " 1/18 [>.............................] - ETA: 0s - loss: 0.2099 - auc_1: 0.9758WARNING:tensorflow:Early stopping conditioned on metric `val_auc` which is not available. Available metrics are: loss,auc_1,val_loss,val_auc_1\n",
      "18/18 [==============================] - 0s 3ms/step - loss: 0.3612 - auc_1: 0.9033 - val_loss: 0.4152 - val_auc_1: 0.8724\n",
      "Epoch 106/1000\n",
      " 1/18 [>.............................] - ETA: 0s - loss: 0.2019 - auc_1: 0.9855WARNING:tensorflow:Early stopping conditioned on metric `val_auc` which is not available. Available metrics are: loss,auc_1,val_loss,val_auc_1\n",
      "18/18 [==============================] - 0s 3ms/step - loss: 0.3593 - auc_1: 0.9053 - val_loss: 0.4148 - val_auc_1: 0.8749\n",
      "Epoch 107/1000\n",
      " 1/18 [>.............................] - ETA: 0s - loss: 0.4903 - auc_1: 0.8188WARNING:tensorflow:Early stopping conditioned on metric `val_auc` which is not available. Available metrics are: loss,auc_1,val_loss,val_auc_1\n",
      "18/18 [==============================] - 0s 3ms/step - loss: 0.3598 - auc_1: 0.9052 - val_loss: 0.4160 - val_auc_1: 0.8736\n",
      "Epoch 108/1000\n",
      " 1/18 [>.............................] - ETA: 0s - loss: 0.3603 - auc_1: 0.9109WARNING:tensorflow:Early stopping conditioned on metric `val_auc` which is not available. Available metrics are: loss,auc_1,val_loss,val_auc_1\n",
      "18/18 [==============================] - 0s 3ms/step - loss: 0.3590 - auc_1: 0.9050 - val_loss: 0.4151 - val_auc_1: 0.8738\n",
      "Epoch 109/1000\n",
      " 1/18 [>.............................] - ETA: 0s - loss: 0.4601 - auc_1: 0.8516WARNING:tensorflow:Early stopping conditioned on metric `val_auc` which is not available. Available metrics are: loss,auc_1,val_loss,val_auc_1\n",
      "18/18 [==============================] - 0s 3ms/step - loss: 0.3594 - auc_1: 0.9054 - val_loss: 0.4161 - val_auc_1: 0.8734\n",
      "Epoch 110/1000\n",
      " 1/18 [>.............................] - ETA: 0s - loss: 0.4530 - auc_1: 0.8750WARNING:tensorflow:Early stopping conditioned on metric `val_auc` which is not available. Available metrics are: loss,auc_1,val_loss,val_auc_1\n",
      "18/18 [==============================] - 0s 3ms/step - loss: 0.3575 - auc_1: 0.9061 - val_loss: 0.4150 - val_auc_1: 0.8743\n",
      "Epoch 111/1000\n",
      " 1/18 [>.............................] - ETA: 0s - loss: 0.2659 - auc_1: 0.9697WARNING:tensorflow:Early stopping conditioned on metric `val_auc` which is not available. Available metrics are: loss,auc_1,val_loss,val_auc_1\n",
      "18/18 [==============================] - 0s 3ms/step - loss: 0.3574 - auc_1: 0.9068 - val_loss: 0.4155 - val_auc_1: 0.8741\n",
      "Epoch 112/1000\n",
      " 1/18 [>.............................] - ETA: 0s - loss: 0.5238 - auc_1: 0.7545WARNING:tensorflow:Early stopping conditioned on metric `val_auc` which is not available. Available metrics are: loss,auc_1,val_loss,val_auc_1\n",
      "18/18 [==============================] - 0s 3ms/step - loss: 0.3568 - auc_1: 0.9074 - val_loss: 0.4155 - val_auc_1: 0.8747\n",
      "Epoch 113/1000\n",
      " 1/18 [>.............................] - ETA: 0s - loss: 0.3219 - auc_1: 0.9062WARNING:tensorflow:Early stopping conditioned on metric `val_auc` which is not available. Available metrics are: loss,auc_1,val_loss,val_auc_1\n",
      "18/18 [==============================] - 0s 3ms/step - loss: 0.3569 - auc_1: 0.9068 - val_loss: 0.4158 - val_auc_1: 0.8735\n",
      "Epoch 114/1000\n",
      " 1/18 [>.............................] - ETA: 0s - loss: 0.3147 - auc_1: 0.9292WARNING:tensorflow:Early stopping conditioned on metric `val_auc` which is not available. Available metrics are: loss,auc_1,val_loss,val_auc_1\n",
      "18/18 [==============================] - 0s 3ms/step - loss: 0.3559 - auc_1: 0.9073 - val_loss: 0.4151 - val_auc_1: 0.8746\n",
      "Epoch 115/1000\n",
      " 1/18 [>.............................] - ETA: 0s - loss: 0.4572 - auc_1: 0.8563WARNING:tensorflow:Early stopping conditioned on metric `val_auc` which is not available. Available metrics are: loss,auc_1,val_loss,val_auc_1\n",
      "18/18 [==============================] - 0s 3ms/step - loss: 0.3562 - auc_1: 0.9069 - val_loss: 0.4162 - val_auc_1: 0.8722\n",
      "Epoch 116/1000\n",
      " 1/18 [>.............................] - ETA: 0s - loss: 0.5185 - auc_1: 0.8353WARNING:tensorflow:Early stopping conditioned on metric `val_auc` which is not available. Available metrics are: loss,auc_1,val_loss,val_auc_1\n",
      "18/18 [==============================] - 0s 3ms/step - loss: 0.3564 - auc_1: 0.9063 - val_loss: 0.4166 - val_auc_1: 0.8737\n",
      "Epoch 117/1000\n",
      " 1/18 [>.............................] - ETA: 0s - loss: 0.2334 - auc_1: 0.9773WARNING:tensorflow:Early stopping conditioned on metric `val_auc` which is not available. Available metrics are: loss,auc_1,val_loss,val_auc_1\n",
      "18/18 [==============================] - 0s 3ms/step - loss: 0.3543 - auc_1: 0.9076 - val_loss: 0.4163 - val_auc_1: 0.8742\n",
      "Epoch 118/1000\n",
      " 1/18 [>.............................] - ETA: 0s - loss: 0.2025 - auc_1: 0.9348WARNING:tensorflow:Early stopping conditioned on metric `val_auc` which is not available. Available metrics are: loss,auc_1,val_loss,val_auc_1\n",
      "18/18 [==============================] - 0s 3ms/step - loss: 0.3550 - auc_1: 0.9078 - val_loss: 0.4176 - val_auc_1: 0.8740\n",
      "Epoch 119/1000\n",
      " 1/18 [>.............................] - ETA: 0s - loss: 0.3034 - auc_1: 0.8841WARNING:tensorflow:Early stopping conditioned on metric `val_auc` which is not available. Available metrics are: loss,auc_1,val_loss,val_auc_1\n",
      "18/18 [==============================] - 0s 3ms/step - loss: 0.3543 - auc_1: 0.9082 - val_loss: 0.4158 - val_auc_1: 0.8734\n",
      "Epoch 120/1000\n",
      " 1/18 [>.............................] - ETA: 0s - loss: 0.3791 - auc_1: 0.8926WARNING:tensorflow:Early stopping conditioned on metric `val_auc` which is not available. Available metrics are: loss,auc_1,val_loss,val_auc_1\n",
      "18/18 [==============================] - 0s 3ms/step - loss: 0.3538 - auc_1: 0.9086 - val_loss: 0.4181 - val_auc_1: 0.8733\n",
      "Epoch 121/1000\n",
      " 1/18 [>.............................] - ETA: 0s - loss: 0.3736 - auc_1: 0.9141WARNING:tensorflow:Early stopping conditioned on metric `val_auc` which is not available. Available metrics are: loss,auc_1,val_loss,val_auc_1\n",
      "18/18 [==============================] - 0s 3ms/step - loss: 0.3536 - auc_1: 0.9085 - val_loss: 0.4171 - val_auc_1: 0.8741\n",
      "Epoch 122/1000\n",
      " 1/18 [>.............................] - ETA: 0s - loss: 0.2932 - auc_1: 0.9045WARNING:tensorflow:Early stopping conditioned on metric `val_auc` which is not available. Available metrics are: loss,auc_1,val_loss,val_auc_1\n",
      "18/18 [==============================] - 0s 3ms/step - loss: 0.3539 - auc_1: 0.9081 - val_loss: 0.4169 - val_auc_1: 0.8753\n",
      "Epoch 123/1000\n",
      " 1/18 [>.............................] - ETA: 0s - loss: 0.2026 - auc_1: 0.9833WARNING:tensorflow:Early stopping conditioned on metric `val_auc` which is not available. Available metrics are: loss,auc_1,val_loss,val_auc_1\n",
      "18/18 [==============================] - 0s 3ms/step - loss: 0.3527 - auc_1: 0.9081 - val_loss: 0.4186 - val_auc_1: 0.8718\n",
      "Epoch 124/1000\n",
      " 1/18 [>.............................] - ETA: 0s - loss: 0.4573 - auc_1: 0.9067WARNING:tensorflow:Early stopping conditioned on metric `val_auc` which is not available. Available metrics are: loss,auc_1,val_loss,val_auc_1\n",
      "18/18 [==============================] - 0s 3ms/step - loss: 0.3531 - auc_1: 0.9087 - val_loss: 0.4203 - val_auc_1: 0.8715\n",
      "Epoch 125/1000\n",
      " 1/18 [>.............................] - ETA: 0s - loss: 0.2570 - auc_1: 0.9614WARNING:tensorflow:Early stopping conditioned on metric `val_auc` which is not available. Available metrics are: loss,auc_1,val_loss,val_auc_1\n",
      "18/18 [==============================] - 0s 3ms/step - loss: 0.3523 - auc_1: 0.9086 - val_loss: 0.4182 - val_auc_1: 0.8738\n",
      "Epoch 126/1000\n",
      " 1/18 [>.............................] - ETA: 0s - loss: 0.1499 - auc_1: 1.0000WARNING:tensorflow:Early stopping conditioned on metric `val_auc` which is not available. Available metrics are: loss,auc_1,val_loss,val_auc_1\n",
      "18/18 [==============================] - 0s 3ms/step - loss: 0.3518 - auc_1: 0.9088 - val_loss: 0.4184 - val_auc_1: 0.8727\n",
      "Epoch 127/1000\n",
      " 1/18 [>.............................] - ETA: 0s - loss: 0.5820 - auc_1: 0.7328WARNING:tensorflow:Early stopping conditioned on metric `val_auc` which is not available. Available metrics are: loss,auc_1,val_loss,val_auc_1\n",
      "18/18 [==============================] - 0s 3ms/step - loss: 0.3522 - auc_1: 0.9095 - val_loss: 0.4188 - val_auc_1: 0.8735\n",
      "Epoch 128/1000\n",
      " 1/18 [>.............................] - ETA: 0s - loss: 0.2797 - auc_1: 0.9625WARNING:tensorflow:Early stopping conditioned on metric `val_auc` which is not available. Available metrics are: loss,auc_1,val_loss,val_auc_1\n",
      "18/18 [==============================] - 0s 3ms/step - loss: 0.3511 - auc_1: 0.9109 - val_loss: 0.4188 - val_auc_1: 0.8739\n",
      "Epoch 129/1000\n",
      " 1/18 [>.............................] - ETA: 0s - loss: 0.3802 - auc_1: 0.9113WARNING:tensorflow:Early stopping conditioned on metric `val_auc` which is not available. Available metrics are: loss,auc_1,val_loss,val_auc_1\n",
      "18/18 [==============================] - 0s 3ms/step - loss: 0.3511 - auc_1: 0.9105 - val_loss: 0.4195 - val_auc_1: 0.8723\n",
      "Epoch 130/1000\n",
      " 1/18 [>.............................] - ETA: 0s - loss: 0.3635 - auc_1: 0.9059WARNING:tensorflow:Early stopping conditioned on metric `val_auc` which is not available. Available metrics are: loss,auc_1,val_loss,val_auc_1\n",
      "18/18 [==============================] - 0s 3ms/step - loss: 0.3511 - auc_1: 0.9100 - val_loss: 0.4218 - val_auc_1: 0.8718\n",
      "Epoch 131/1000\n",
      " 1/18 [>.............................] - ETA: 0s - loss: 0.3196 - auc_1: 0.9354WARNING:tensorflow:Early stopping conditioned on metric `val_auc` which is not available. Available metrics are: loss,auc_1,val_loss,val_auc_1\n",
      "18/18 [==============================] - 0s 3ms/step - loss: 0.3515 - auc_1: 0.9097 - val_loss: 0.4216 - val_auc_1: 0.8715\n",
      "Epoch 132/1000\n",
      " 1/18 [>.............................] - ETA: 0s - loss: 0.2531 - auc_1: 1.0000WARNING:tensorflow:Early stopping conditioned on metric `val_auc` which is not available. Available metrics are: loss,auc_1,val_loss,val_auc_1\n",
      "18/18 [==============================] - 0s 3ms/step - loss: 0.3501 - auc_1: 0.9105 - val_loss: 0.4211 - val_auc_1: 0.8727\n",
      "Epoch 133/1000\n",
      " 1/18 [>.............................] - ETA: 0s - loss: 0.3692 - auc_1: 0.8705WARNING:tensorflow:Early stopping conditioned on metric `val_auc` which is not available. Available metrics are: loss,auc_1,val_loss,val_auc_1\n",
      "18/18 [==============================] - 0s 3ms/step - loss: 0.3500 - auc_1: 0.9110 - val_loss: 0.4217 - val_auc_1: 0.8722\n",
      "Epoch 134/1000\n",
      " 1/18 [>.............................] - ETA: 0s - loss: 0.2586 - auc_1: 0.9656WARNING:tensorflow:Early stopping conditioned on metric `val_auc` which is not available. Available metrics are: loss,auc_1,val_loss,val_auc_1\n",
      "18/18 [==============================] - 0s 3ms/step - loss: 0.3503 - auc_1: 0.9105 - val_loss: 0.4207 - val_auc_1: 0.8722\n",
      "Epoch 135/1000\n",
      " 1/18 [>.............................] - ETA: 0s - loss: 0.3811 - auc_1: 0.8889WARNING:tensorflow:Early stopping conditioned on metric `val_auc` which is not available. Available metrics are: loss,auc_1,val_loss,val_auc_1\n",
      "18/18 [==============================] - 0s 3ms/step - loss: 0.3498 - auc_1: 0.9112 - val_loss: 0.4232 - val_auc_1: 0.8709\n",
      "Epoch 136/1000\n",
      " 1/18 [>.............................] - ETA: 0s - loss: 0.3303 - auc_1: 0.9373WARNING:tensorflow:Early stopping conditioned on metric `val_auc` which is not available. Available metrics are: loss,auc_1,val_loss,val_auc_1\n",
      "18/18 [==============================] - 0s 3ms/step - loss: 0.3495 - auc_1: 0.9115 - val_loss: 0.4223 - val_auc_1: 0.8715\n",
      "Epoch 137/1000\n",
      " 1/18 [>.............................] - ETA: 0s - loss: 0.4210 - auc_1: 0.8765WARNING:tensorflow:Early stopping conditioned on metric `val_auc` which is not available. Available metrics are: loss,auc_1,val_loss,val_auc_1\n",
      "18/18 [==============================] - 0s 3ms/step - loss: 0.3495 - auc_1: 0.9111 - val_loss: 0.4219 - val_auc_1: 0.8719\n",
      "Epoch 138/1000\n",
      " 1/18 [>.............................] - ETA: 0s - loss: 0.1929 - auc_1: 0.9815WARNING:tensorflow:Early stopping conditioned on metric `val_auc` which is not available. Available metrics are: loss,auc_1,val_loss,val_auc_1\n",
      "18/18 [==============================] - 0s 3ms/step - loss: 0.3489 - auc_1: 0.9122 - val_loss: 0.4226 - val_auc_1: 0.8709\n",
      "Epoch 139/1000\n",
      " 1/18 [>.............................] - ETA: 0s - loss: 0.3296 - auc_1: 0.9264WARNING:tensorflow:Early stopping conditioned on metric `val_auc` which is not available. Available metrics are: loss,auc_1,val_loss,val_auc_1\n",
      "18/18 [==============================] - 0s 3ms/step - loss: 0.3490 - auc_1: 0.9110 - val_loss: 0.4209 - val_auc_1: 0.8725\n",
      "Epoch 140/1000\n",
      " 1/18 [>.............................] - ETA: 0s - loss: 0.3860 - auc_1: 0.8516WARNING:tensorflow:Early stopping conditioned on metric `val_auc` which is not available. Available metrics are: loss,auc_1,val_loss,val_auc_1\n",
      "18/18 [==============================] - 0s 3ms/step - loss: 0.3489 - auc_1: 0.9113 - val_loss: 0.4226 - val_auc_1: 0.8724\n",
      "Epoch 141/1000\n",
      " 1/18 [>.............................] - ETA: 0s - loss: 0.5669 - auc_1: 0.7854WARNING:tensorflow:Early stopping conditioned on metric `val_auc` which is not available. Available metrics are: loss,auc_1,val_loss,val_auc_1\n",
      "18/18 [==============================] - 0s 3ms/step - loss: 0.3476 - auc_1: 0.9125 - val_loss: 0.4240 - val_auc_1: 0.8714\n",
      "Epoch 142/1000\n",
      " 1/18 [>.............................] - ETA: 0s - loss: 0.3465 - auc_1: 0.9286WARNING:tensorflow:Early stopping conditioned on metric `val_auc` which is not available. Available metrics are: loss,auc_1,val_loss,val_auc_1\n",
      "18/18 [==============================] - 0s 4ms/step - loss: 0.3479 - auc_1: 0.9130 - val_loss: 0.4252 - val_auc_1: 0.8715\n",
      "Epoch 143/1000\n",
      " 1/18 [>.............................] - ETA: 0s - loss: 0.2937 - auc_1: 0.9324WARNING:tensorflow:Early stopping conditioned on metric `val_auc` which is not available. Available metrics are: loss,auc_1,val_loss,val_auc_1\n",
      "18/18 [==============================] - 0s 3ms/step - loss: 0.3487 - auc_1: 0.9111 - val_loss: 0.4235 - val_auc_1: 0.8725\n",
      "Epoch 144/1000\n",
      " 1/18 [>.............................] - ETA: 0s - loss: 0.5379 - auc_1: 0.8320WARNING:tensorflow:Early stopping conditioned on metric `val_auc` which is not available. Available metrics are: loss,auc_1,val_loss,val_auc_1\n",
      "18/18 [==============================] - 0s 3ms/step - loss: 0.3491 - auc_1: 0.9119 - val_loss: 0.4268 - val_auc_1: 0.8703\n",
      "Epoch 145/1000\n",
      " 1/18 [>.............................] - ETA: 0s - loss: 0.3896 - auc_1: 0.9078WARNING:tensorflow:Early stopping conditioned on metric `val_auc` which is not available. Available metrics are: loss,auc_1,val_loss,val_auc_1\n",
      "18/18 [==============================] - 0s 3ms/step - loss: 0.3473 - auc_1: 0.9133 - val_loss: 0.4255 - val_auc_1: 0.8704\n",
      "Epoch 146/1000\n",
      " 1/18 [>.............................] - ETA: 0s - loss: 0.3229 - auc_1: 0.9484WARNING:tensorflow:Early stopping conditioned on metric `val_auc` which is not available. Available metrics are: loss,auc_1,val_loss,val_auc_1\n",
      "18/18 [==============================] - 0s 3ms/step - loss: 0.3471 - auc_1: 0.9133 - val_loss: 0.4248 - val_auc_1: 0.8715\n",
      "Epoch 147/1000\n",
      " 1/18 [>.............................] - ETA: 0s - loss: 0.3966 - auc_1: 0.9048WARNING:tensorflow:Early stopping conditioned on metric `val_auc` which is not available. Available metrics are: loss,auc_1,val_loss,val_auc_1\n",
      "18/18 [==============================] - 0s 3ms/step - loss: 0.3472 - auc_1: 0.9137 - val_loss: 0.4237 - val_auc_1: 0.8720\n",
      "Epoch 148/1000\n",
      " 1/18 [>.............................] - ETA: 0s - loss: 0.4347 - auc_1: 0.8522WARNING:tensorflow:Early stopping conditioned on metric `val_auc` which is not available. Available metrics are: loss,auc_1,val_loss,val_auc_1\n",
      "18/18 [==============================] - 0s 3ms/step - loss: 0.3470 - auc_1: 0.9125 - val_loss: 0.4258 - val_auc_1: 0.8721\n",
      "Epoch 149/1000\n",
      " 1/18 [>.............................] - ETA: 0s - loss: 0.2355 - auc_1: 0.9484WARNING:tensorflow:Early stopping conditioned on metric `val_auc` which is not available. Available metrics are: loss,auc_1,val_loss,val_auc_1\n",
      "18/18 [==============================] - 0s 3ms/step - loss: 0.3461 - auc_1: 0.9134 - val_loss: 0.4268 - val_auc_1: 0.8700\n",
      "Epoch 150/1000\n",
      " 1/18 [>.............................] - ETA: 0s - loss: 0.2301 - auc_1: 0.9727WARNING:tensorflow:Early stopping conditioned on metric `val_auc` which is not available. Available metrics are: loss,auc_1,val_loss,val_auc_1\n",
      "18/18 [==============================] - 0s 3ms/step - loss: 0.3463 - auc_1: 0.9129 - val_loss: 0.4266 - val_auc_1: 0.8679\n",
      "Epoch 151/1000\n",
      " 1/18 [>.............................] - ETA: 0s - loss: 0.2440 - auc_1: 0.9349WARNING:tensorflow:Early stopping conditioned on metric `val_auc` which is not available. Available metrics are: loss,auc_1,val_loss,val_auc_1\n",
      "18/18 [==============================] - 0s 3ms/step - loss: 0.3464 - auc_1: 0.9138 - val_loss: 0.4259 - val_auc_1: 0.8717\n",
      "Epoch 152/1000\n",
      " 1/18 [>.............................] - ETA: 0s - loss: 0.2755 - auc_1: 0.9696WARNING:tensorflow:Early stopping conditioned on metric `val_auc` which is not available. Available metrics are: loss,auc_1,val_loss,val_auc_1\n",
      "18/18 [==============================] - 0s 3ms/step - loss: 0.3464 - auc_1: 0.9140 - val_loss: 0.4277 - val_auc_1: 0.8707\n",
      "Epoch 153/1000\n",
      " 1/18 [>.............................] - ETA: 0s - loss: 0.3834 - auc_1: 0.9146WARNING:tensorflow:Early stopping conditioned on metric `val_auc` which is not available. Available metrics are: loss,auc_1,val_loss,val_auc_1\n",
      "18/18 [==============================] - 0s 3ms/step - loss: 0.3454 - auc_1: 0.9140 - val_loss: 0.4261 - val_auc_1: 0.8724\n",
      "Epoch 154/1000\n",
      " 1/18 [>.............................] - ETA: 0s - loss: 0.4900 - auc_1: 0.8398WARNING:tensorflow:Early stopping conditioned on metric `val_auc` which is not available. Available metrics are: loss,auc_1,val_loss,val_auc_1\n",
      "18/18 [==============================] - 0s 3ms/step - loss: 0.3454 - auc_1: 0.9141 - val_loss: 0.4259 - val_auc_1: 0.8679\n",
      "Epoch 155/1000\n",
      " 1/18 [>.............................] - ETA: 0s - loss: 0.3231 - auc_1: 0.9333WARNING:tensorflow:Early stopping conditioned on metric `val_auc` which is not available. Available metrics are: loss,auc_1,val_loss,val_auc_1\n",
      "18/18 [==============================] - 0s 3ms/step - loss: 0.3462 - auc_1: 0.9134 - val_loss: 0.4274 - val_auc_1: 0.8696\n",
      "Epoch 156/1000\n",
      " 1/18 [>.............................] - ETA: 0s - loss: 0.4618 - auc_1: 0.8030WARNING:tensorflow:Early stopping conditioned on metric `val_auc` which is not available. Available metrics are: loss,auc_1,val_loss,val_auc_1\n",
      "18/18 [==============================] - 0s 3ms/step - loss: 0.3451 - auc_1: 0.9135 - val_loss: 0.4275 - val_auc_1: 0.8701\n",
      "Epoch 157/1000\n",
      " 1/18 [>.............................] - ETA: 0s - loss: 0.2595 - auc_1: 0.9531WARNING:tensorflow:Early stopping conditioned on metric `val_auc` which is not available. Available metrics are: loss,auc_1,val_loss,val_auc_1\n",
      "18/18 [==============================] - 0s 3ms/step - loss: 0.3452 - auc_1: 0.9141 - val_loss: 0.4271 - val_auc_1: 0.8707\n",
      "Epoch 158/1000\n",
      " 1/18 [>.............................] - ETA: 0s - loss: 0.3591 - auc_1: 0.8853WARNING:tensorflow:Early stopping conditioned on metric `val_auc` which is not available. Available metrics are: loss,auc_1,val_loss,val_auc_1\n",
      "18/18 [==============================] - 0s 3ms/step - loss: 0.3448 - auc_1: 0.9137 - val_loss: 0.4288 - val_auc_1: 0.8697\n",
      "Epoch 159/1000\n",
      " 1/18 [>.............................] - ETA: 0s - loss: 0.3863 - auc_1: 0.9255WARNING:tensorflow:Early stopping conditioned on metric `val_auc` which is not available. Available metrics are: loss,auc_1,val_loss,val_auc_1\n",
      "18/18 [==============================] - 0s 3ms/step - loss: 0.3448 - auc_1: 0.9132 - val_loss: 0.4277 - val_auc_1: 0.8705\n",
      "Epoch 160/1000\n",
      " 1/18 [>.............................] - ETA: 0s - loss: 0.3394 - auc_1: 0.9187WARNING:tensorflow:Early stopping conditioned on metric `val_auc` which is not available. Available metrics are: loss,auc_1,val_loss,val_auc_1\n",
      "18/18 [==============================] - 0s 3ms/step - loss: 0.3452 - auc_1: 0.9134 - val_loss: 0.4297 - val_auc_1: 0.8686\n",
      "Epoch 161/1000\n",
      " 1/18 [>.............................] - ETA: 0s - loss: 0.2461 - auc_1: 0.9662WARNING:tensorflow:Early stopping conditioned on metric `val_auc` which is not available. Available metrics are: loss,auc_1,val_loss,val_auc_1\n",
      "18/18 [==============================] - 0s 3ms/step - loss: 0.3458 - auc_1: 0.9119 - val_loss: 0.4290 - val_auc_1: 0.8723\n",
      "Epoch 162/1000\n",
      " 1/18 [>.............................] - ETA: 0s - loss: 0.5785 - auc_1: 0.7969WARNING:tensorflow:Early stopping conditioned on metric `val_auc` which is not available. Available metrics are: loss,auc_1,val_loss,val_auc_1\n",
      "18/18 [==============================] - 0s 3ms/step - loss: 0.3454 - auc_1: 0.9131 - val_loss: 0.4284 - val_auc_1: 0.8671\n",
      "Epoch 163/1000\n",
      " 1/18 [>.............................] - ETA: 0s - loss: 0.3137 - auc_1: 0.9106WARNING:tensorflow:Early stopping conditioned on metric `val_auc` which is not available. Available metrics are: loss,auc_1,val_loss,val_auc_1\n",
      "18/18 [==============================] - 0s 3ms/step - loss: 0.3436 - auc_1: 0.9147 - val_loss: 0.4285 - val_auc_1: 0.8710\n",
      "Epoch 164/1000\n",
      " 1/18 [>.............................] - ETA: 0s - loss: 0.3627 - auc_1: 0.8658WARNING:tensorflow:Early stopping conditioned on metric `val_auc` which is not available. Available metrics are: loss,auc_1,val_loss,val_auc_1\n",
      "18/18 [==============================] - 0s 3ms/step - loss: 0.3439 - auc_1: 0.9150 - val_loss: 0.4293 - val_auc_1: 0.8677\n",
      "Epoch 165/1000\n",
      " 1/18 [>.............................] - ETA: 0s - loss: 0.2051 - auc_1: 0.9881WARNING:tensorflow:Early stopping conditioned on metric `val_auc` which is not available. Available metrics are: loss,auc_1,val_loss,val_auc_1\n",
      "18/18 [==============================] - 0s 3ms/step - loss: 0.3449 - auc_1: 0.9138 - val_loss: 0.4301 - val_auc_1: 0.8681\n",
      "Epoch 166/1000\n",
      " 1/18 [>.............................] - ETA: 0s - loss: 0.4467 - auc_1: 0.8588WARNING:tensorflow:Early stopping conditioned on metric `val_auc` which is not available. Available metrics are: loss,auc_1,val_loss,val_auc_1\n",
      "18/18 [==============================] - 0s 4ms/step - loss: 0.3441 - auc_1: 0.9139 - val_loss: 0.4283 - val_auc_1: 0.8735\n",
      "Epoch 167/1000\n",
      " 1/18 [>.............................] - ETA: 0s - loss: 0.4082 - auc_1: 0.9121WARNING:tensorflow:Early stopping conditioned on metric `val_auc` which is not available. Available metrics are: loss,auc_1,val_loss,val_auc_1\n",
      "18/18 [==============================] - 0s 4ms/step - loss: 0.3443 - auc_1: 0.9141 - val_loss: 0.4272 - val_auc_1: 0.8700\n",
      "Epoch 168/1000\n",
      " 1/18 [>.............................] - ETA: 0s - loss: 0.3505 - auc_1: 0.9333WARNING:tensorflow:Early stopping conditioned on metric `val_auc` which is not available. Available metrics are: loss,auc_1,val_loss,val_auc_1\n",
      "18/18 [==============================] - 0s 3ms/step - loss: 0.3438 - auc_1: 0.9148 - val_loss: 0.4286 - val_auc_1: 0.8705\n",
      "Epoch 169/1000\n",
      " 1/18 [>.............................] - ETA: 0s - loss: 0.2964 - auc_1: 0.9648WARNING:tensorflow:Early stopping conditioned on metric `val_auc` which is not available. Available metrics are: loss,auc_1,val_loss,val_auc_1\n",
      "18/18 [==============================] - 0s 3ms/step - loss: 0.3432 - auc_1: 0.9145 - val_loss: 0.4313 - val_auc_1: 0.8693\n",
      "Epoch 170/1000\n",
      " 1/18 [>.............................] - ETA: 0s - loss: 0.4746 - auc_1: 0.8804WARNING:tensorflow:Early stopping conditioned on metric `val_auc` which is not available. Available metrics are: loss,auc_1,val_loss,val_auc_1\n",
      "18/18 [==============================] - 0s 4ms/step - loss: 0.3429 - auc_1: 0.9149 - val_loss: 0.4290 - val_auc_1: 0.8688\n",
      "Epoch 171/1000\n",
      " 1/18 [>.............................] - ETA: 0s - loss: 0.3962 - auc_1: 0.9286WARNING:tensorflow:Early stopping conditioned on metric `val_auc` which is not available. Available metrics are: loss,auc_1,val_loss,val_auc_1\n",
      "18/18 [==============================] - 0s 3ms/step - loss: 0.3423 - auc_1: 0.9155 - val_loss: 0.4292 - val_auc_1: 0.8695\n",
      "Epoch 172/1000\n",
      " 1/18 [>.............................] - ETA: 0s - loss: 0.2678 - auc_1: 0.9833WARNING:tensorflow:Early stopping conditioned on metric `val_auc` which is not available. Available metrics are: loss,auc_1,val_loss,val_auc_1\n",
      "18/18 [==============================] - 0s 3ms/step - loss: 0.3424 - auc_1: 0.9155 - val_loss: 0.4298 - val_auc_1: 0.8705\n",
      "Epoch 173/1000\n",
      " 1/18 [>.............................] - ETA: 0s - loss: 0.2782 - auc_1: 0.9708WARNING:tensorflow:Early stopping conditioned on metric `val_auc` which is not available. Available metrics are: loss,auc_1,val_loss,val_auc_1\n",
      "18/18 [==============================] - 0s 3ms/step - loss: 0.3440 - auc_1: 0.9147 - val_loss: 0.4289 - val_auc_1: 0.8705\n",
      "Epoch 174/1000\n",
      " 1/18 [>.............................] - ETA: 0s - loss: 0.3473 - auc_1: 0.9020WARNING:tensorflow:Early stopping conditioned on metric `val_auc` which is not available. Available metrics are: loss,auc_1,val_loss,val_auc_1\n",
      "18/18 [==============================] - 0s 3ms/step - loss: 0.3430 - auc_1: 0.9154 - val_loss: 0.4291 - val_auc_1: 0.8731\n",
      "Epoch 175/1000\n",
      " 1/18 [>.............................] - ETA: 0s - loss: 0.3345 - auc_1: 0.8841WARNING:tensorflow:Early stopping conditioned on metric `val_auc` which is not available. Available metrics are: loss,auc_1,val_loss,val_auc_1\n",
      "18/18 [==============================] - 0s 3ms/step - loss: 0.3436 - auc_1: 0.9142 - val_loss: 0.4306 - val_auc_1: 0.8692\n",
      "Epoch 176/1000\n",
      " 1/18 [>.............................] - ETA: 0s - loss: 0.2969 - auc_1: 0.9307WARNING:tensorflow:Early stopping conditioned on metric `val_auc` which is not available. Available metrics are: loss,auc_1,val_loss,val_auc_1\n",
      "18/18 [==============================] - 0s 3ms/step - loss: 0.3414 - auc_1: 0.9165 - val_loss: 0.4297 - val_auc_1: 0.8684\n",
      "Epoch 177/1000\n",
      " 1/18 [>.............................] - ETA: 0s - loss: 0.4411 - auc_1: 0.9306WARNING:tensorflow:Early stopping conditioned on metric `val_auc` which is not available. Available metrics are: loss,auc_1,val_loss,val_auc_1\n",
      "18/18 [==============================] - 0s 3ms/step - loss: 0.3417 - auc_1: 0.9156 - val_loss: 0.4297 - val_auc_1: 0.8701\n",
      "Epoch 178/1000\n",
      " 1/18 [>.............................] - ETA: 0s - loss: 0.2450 - auc_1: 0.9591WARNING:tensorflow:Early stopping conditioned on metric `val_auc` which is not available. Available metrics are: loss,auc_1,val_loss,val_auc_1\n",
      "18/18 [==============================] - 0s 3ms/step - loss: 0.3413 - auc_1: 0.9154 - val_loss: 0.4298 - val_auc_1: 0.8703\n",
      "Epoch 179/1000\n",
      " 1/18 [>.............................] - ETA: 0s - loss: 0.3888 - auc_1: 0.8724WARNING:tensorflow:Early stopping conditioned on metric `val_auc` which is not available. Available metrics are: loss,auc_1,val_loss,val_auc_1\n",
      "18/18 [==============================] - 0s 3ms/step - loss: 0.3419 - auc_1: 0.9146 - val_loss: 0.4297 - val_auc_1: 0.8686\n",
      "Epoch 180/1000\n",
      " 1/18 [>.............................] - ETA: 0s - loss: 0.3995 - auc_1: 0.9078WARNING:tensorflow:Early stopping conditioned on metric `val_auc` which is not available. Available metrics are: loss,auc_1,val_loss,val_auc_1\n",
      "18/18 [==============================] - 0s 3ms/step - loss: 0.3425 - auc_1: 0.9149 - val_loss: 0.4312 - val_auc_1: 0.8683\n",
      "Epoch 181/1000\n",
      " 1/18 [>.............................] - ETA: 0s - loss: 0.2467 - auc_1: 0.9545WARNING:tensorflow:Early stopping conditioned on metric `val_auc` which is not available. Available metrics are: loss,auc_1,val_loss,val_auc_1\n",
      "18/18 [==============================] - 0s 3ms/step - loss: 0.3411 - auc_1: 0.9158 - val_loss: 0.4300 - val_auc_1: 0.8695\n",
      "Epoch 182/1000\n",
      " 1/18 [>.............................] - ETA: 0s - loss: 0.2941 - auc_1: 0.9171WARNING:tensorflow:Early stopping conditioned on metric `val_auc` which is not available. Available metrics are: loss,auc_1,val_loss,val_auc_1\n",
      "18/18 [==============================] - 0s 3ms/step - loss: 0.3416 - auc_1: 0.9157 - val_loss: 0.4295 - val_auc_1: 0.8705\n",
      "Epoch 183/1000\n",
      " 1/18 [>.............................] - ETA: 0s - loss: 0.4120 - auc_1: 0.8667WARNING:tensorflow:Early stopping conditioned on metric `val_auc` which is not available. Available metrics are: loss,auc_1,val_loss,val_auc_1\n",
      "18/18 [==============================] - 0s 3ms/step - loss: 0.3407 - auc_1: 0.9164 - val_loss: 0.4299 - val_auc_1: 0.8703\n",
      "Epoch 184/1000\n",
      " 1/18 [>.............................] - ETA: 0s - loss: 0.3482 - auc_1: 0.9271WARNING:tensorflow:Early stopping conditioned on metric `val_auc` which is not available. Available metrics are: loss,auc_1,val_loss,val_auc_1\n",
      "18/18 [==============================] - 0s 3ms/step - loss: 0.3411 - auc_1: 0.9155 - val_loss: 0.4297 - val_auc_1: 0.8695\n",
      "Epoch 185/1000\n",
      " 1/18 [>.............................] - ETA: 0s - loss: 0.5218 - auc_1: 0.8413WARNING:tensorflow:Early stopping conditioned on metric `val_auc` which is not available. Available metrics are: loss,auc_1,val_loss,val_auc_1\n",
      "18/18 [==============================] - 0s 3ms/step - loss: 0.3406 - auc_1: 0.9169 - val_loss: 0.4310 - val_auc_1: 0.8692\n",
      "Epoch 186/1000\n",
      " 1/18 [>.............................] - ETA: 0s - loss: 0.2215 - auc_1: 0.9750WARNING:tensorflow:Early stopping conditioned on metric `val_auc` which is not available. Available metrics are: loss,auc_1,val_loss,val_auc_1\n",
      "18/18 [==============================] - 0s 3ms/step - loss: 0.3404 - auc_1: 0.9161 - val_loss: 0.4315 - val_auc_1: 0.8700\n",
      "Epoch 187/1000\n",
      " 1/18 [>.............................] - ETA: 0s - loss: 0.2360 - auc_1: 0.9829WARNING:tensorflow:Early stopping conditioned on metric `val_auc` which is not available. Available metrics are: loss,auc_1,val_loss,val_auc_1\n",
      "18/18 [==============================] - 0s 3ms/step - loss: 0.3405 - auc_1: 0.9164 - val_loss: 0.4314 - val_auc_1: 0.8709\n",
      "Epoch 188/1000\n",
      " 1/18 [>.............................] - ETA: 0s - loss: 0.6558 - auc_1: 0.7490WARNING:tensorflow:Early stopping conditioned on metric `val_auc` which is not available. Available metrics are: loss,auc_1,val_loss,val_auc_1\n",
      "18/18 [==============================] - 0s 3ms/step - loss: 0.3412 - auc_1: 0.9142 - val_loss: 0.4299 - val_auc_1: 0.8699\n",
      "Epoch 189/1000\n",
      " 1/18 [>.............................] - ETA: 0s - loss: 0.2396 - auc_1: 0.9757WARNING:tensorflow:Early stopping conditioned on metric `val_auc` which is not available. Available metrics are: loss,auc_1,val_loss,val_auc_1\n",
      "18/18 [==============================] - 0s 3ms/step - loss: 0.3418 - auc_1: 0.9148 - val_loss: 0.4323 - val_auc_1: 0.8699\n",
      "Epoch 190/1000\n",
      " 1/18 [>.............................] - ETA: 0s - loss: 0.4368 - auc_1: 0.8300WARNING:tensorflow:Early stopping conditioned on metric `val_auc` which is not available. Available metrics are: loss,auc_1,val_loss,val_auc_1\n",
      "18/18 [==============================] - 0s 4ms/step - loss: 0.3408 - auc_1: 0.9163 - val_loss: 0.4302 - val_auc_1: 0.8720\n",
      "Epoch 191/1000\n",
      " 1/18 [>.............................] - ETA: 0s - loss: 0.3591 - auc_1: 0.9417WARNING:tensorflow:Early stopping conditioned on metric `val_auc` which is not available. Available metrics are: loss,auc_1,val_loss,val_auc_1\n",
      "18/18 [==============================] - 0s 4ms/step - loss: 0.3400 - auc_1: 0.9169 - val_loss: 0.4307 - val_auc_1: 0.8706\n",
      "Epoch 192/1000\n",
      " 1/18 [>.............................] - ETA: 0s - loss: 0.4660 - auc_1: 0.8684WARNING:tensorflow:Early stopping conditioned on metric `val_auc` which is not available. Available metrics are: loss,auc_1,val_loss,val_auc_1\n",
      "18/18 [==============================] - 0s 3ms/step - loss: 0.3401 - auc_1: 0.9164 - val_loss: 0.4312 - val_auc_1: 0.8696\n",
      "Epoch 193/1000\n",
      " 1/18 [>.............................] - ETA: 0s - loss: 0.4343 - auc_1: 0.8398WARNING:tensorflow:Early stopping conditioned on metric `val_auc` which is not available. Available metrics are: loss,auc_1,val_loss,val_auc_1\n",
      "18/18 [==============================] - 0s 3ms/step - loss: 0.3402 - auc_1: 0.9162 - val_loss: 0.4307 - val_auc_1: 0.8703\n",
      "Epoch 194/1000\n",
      " 1/18 [>.............................] - ETA: 0s - loss: 0.2463 - auc_1: 0.9542WARNING:tensorflow:Early stopping conditioned on metric `val_auc` which is not available. Available metrics are: loss,auc_1,val_loss,val_auc_1\n",
      "18/18 [==============================] - 0s 3ms/step - loss: 0.3409 - auc_1: 0.9153 - val_loss: 0.4338 - val_auc_1: 0.8700\n",
      "Epoch 195/1000\n",
      " 1/18 [>.............................] - ETA: 0s - loss: 0.1632 - auc_1: 0.9844WARNING:tensorflow:Early stopping conditioned on metric `val_auc` which is not available. Available metrics are: loss,auc_1,val_loss,val_auc_1\n",
      "18/18 [==============================] - 0s 3ms/step - loss: 0.3396 - auc_1: 0.9172 - val_loss: 0.4330 - val_auc_1: 0.8701\n",
      "Epoch 196/1000\n",
      " 1/18 [>.............................] - ETA: 0s - loss: 0.2488 - auc_1: 0.9662WARNING:tensorflow:Early stopping conditioned on metric `val_auc` which is not available. Available metrics are: loss,auc_1,val_loss,val_auc_1\n",
      "18/18 [==============================] - 0s 3ms/step - loss: 0.3391 - auc_1: 0.9168 - val_loss: 0.4320 - val_auc_1: 0.8714\n",
      "Epoch 197/1000\n",
      " 1/18 [>.............................] - ETA: 0s - loss: 0.3966 - auc_1: 0.9008WARNING:tensorflow:Early stopping conditioned on metric `val_auc` which is not available. Available metrics are: loss,auc_1,val_loss,val_auc_1\n",
      "18/18 [==============================] - 0s 4ms/step - loss: 0.3390 - auc_1: 0.9169 - val_loss: 0.4307 - val_auc_1: 0.8704\n",
      "Epoch 198/1000\n",
      " 1/18 [>.............................] - ETA: 0s - loss: 0.2907 - auc_1: 0.9409WARNING:tensorflow:Early stopping conditioned on metric `val_auc` which is not available. Available metrics are: loss,auc_1,val_loss,val_auc_1\n",
      "18/18 [==============================] - 0s 3ms/step - loss: 0.3395 - auc_1: 0.9165 - val_loss: 0.4306 - val_auc_1: 0.8708\n",
      "Epoch 199/1000\n",
      " 1/18 [>.............................] - ETA: 0s - loss: 0.3903 - auc_1: 0.9182WARNING:tensorflow:Early stopping conditioned on metric `val_auc` which is not available. Available metrics are: loss,auc_1,val_loss,val_auc_1\n",
      "18/18 [==============================] - 0s 3ms/step - loss: 0.3385 - auc_1: 0.9172 - val_loss: 0.4323 - val_auc_1: 0.8698\n",
      "Epoch 200/1000\n",
      " 1/18 [>.............................] - ETA: 0s - loss: 0.5426 - auc_1: 0.7915WARNING:tensorflow:Early stopping conditioned on metric `val_auc` which is not available. Available metrics are: loss,auc_1,val_loss,val_auc_1\n",
      "18/18 [==============================] - 0s 3ms/step - loss: 0.3388 - auc_1: 0.9168 - val_loss: 0.4324 - val_auc_1: 0.8699\n",
      "Epoch 201/1000\n",
      " 1/18 [>.............................] - ETA: 0s - loss: 0.3354 - auc_1: 0.9069WARNING:tensorflow:Early stopping conditioned on metric `val_auc` which is not available. Available metrics are: loss,auc_1,val_loss,val_auc_1\n",
      "18/18 [==============================] - 0s 4ms/step - loss: 0.3388 - auc_1: 0.9166 - val_loss: 0.4329 - val_auc_1: 0.8694\n",
      "Epoch 202/1000\n",
      " 1/18 [>.............................] - ETA: 0s - loss: 0.4429 - auc_1: 0.8843WARNING:tensorflow:Early stopping conditioned on metric `val_auc` which is not available. Available metrics are: loss,auc_1,val_loss,val_auc_1\n",
      "18/18 [==============================] - 0s 3ms/step - loss: 0.3386 - auc_1: 0.9166 - val_loss: 0.4326 - val_auc_1: 0.8703\n",
      "Epoch 203/1000\n",
      " 1/18 [>.............................] - ETA: 0s - loss: 0.4679 - auc_1: 0.8574WARNING:tensorflow:Early stopping conditioned on metric `val_auc` which is not available. Available metrics are: loss,auc_1,val_loss,val_auc_1\n",
      "18/18 [==============================] - 0s 4ms/step - loss: 0.3386 - auc_1: 0.9172 - val_loss: 0.4317 - val_auc_1: 0.8711\n",
      "Epoch 204/1000\n",
      " 1/18 [>.............................] - ETA: 0s - loss: 0.1991 - auc_1: 0.9879WARNING:tensorflow:Early stopping conditioned on metric `val_auc` which is not available. Available metrics are: loss,auc_1,val_loss,val_auc_1\n",
      "18/18 [==============================] - 0s 3ms/step - loss: 0.3380 - auc_1: 0.9174 - val_loss: 0.4318 - val_auc_1: 0.8740\n",
      "Epoch 205/1000\n",
      " 1/18 [>.............................] - ETA: 0s - loss: 0.3038 - auc_1: 0.9438WARNING:tensorflow:Early stopping conditioned on metric `val_auc` which is not available. Available metrics are: loss,auc_1,val_loss,val_auc_1\n",
      "18/18 [==============================] - 0s 3ms/step - loss: 0.3380 - auc_1: 0.9172 - val_loss: 0.4308 - val_auc_1: 0.8744\n",
      "Epoch 206/1000\n",
      " 1/18 [>.............................] - ETA: 0s - loss: 0.2254 - auc_1: 0.9818WARNING:tensorflow:Early stopping conditioned on metric `val_auc` which is not available. Available metrics are: loss,auc_1,val_loss,val_auc_1\n",
      "18/18 [==============================] - 0s 3ms/step - loss: 0.3380 - auc_1: 0.9164 - val_loss: 0.4316 - val_auc_1: 0.8702\n",
      "Epoch 207/1000\n",
      " 1/18 [>.............................] - ETA: 0s - loss: 0.2601 - auc_1: 0.9275WARNING:tensorflow:Early stopping conditioned on metric `val_auc` which is not available. Available metrics are: loss,auc_1,val_loss,val_auc_1\n",
      "18/18 [==============================] - 0s 3ms/step - loss: 0.3380 - auc_1: 0.9174 - val_loss: 0.4311 - val_auc_1: 0.8706\n",
      "Epoch 208/1000\n",
      " 1/18 [>.............................] - ETA: 0s - loss: 0.3705 - auc_1: 0.9199WARNING:tensorflow:Early stopping conditioned on metric `val_auc` which is not available. Available metrics are: loss,auc_1,val_loss,val_auc_1\n",
      "18/18 [==============================] - 0s 3ms/step - loss: 0.3382 - auc_1: 0.9179 - val_loss: 0.4321 - val_auc_1: 0.8701\n",
      "Epoch 209/1000\n",
      " 1/18 [>.............................] - ETA: 0s - loss: 0.2680 - auc_1: 0.9291WARNING:tensorflow:Early stopping conditioned on metric `val_auc` which is not available. Available metrics are: loss,auc_1,val_loss,val_auc_1\n",
      "18/18 [==============================] - 0s 3ms/step - loss: 0.3388 - auc_1: 0.9179 - val_loss: 0.4348 - val_auc_1: 0.8715\n",
      "Epoch 210/1000\n",
      " 1/18 [>.............................] - ETA: 0s - loss: 0.3987 - auc_1: 0.9000WARNING:tensorflow:Early stopping conditioned on metric `val_auc` which is not available. Available metrics are: loss,auc_1,val_loss,val_auc_1\n",
      "18/18 [==============================] - 0s 4ms/step - loss: 0.3387 - auc_1: 0.9164 - val_loss: 0.4353 - val_auc_1: 0.8711\n",
      "Epoch 211/1000\n",
      " 1/18 [>.............................] - ETA: 0s - loss: 0.2158 - auc_1: 0.9881WARNING:tensorflow:Early stopping conditioned on metric `val_auc` which is not available. Available metrics are: loss,auc_1,val_loss,val_auc_1\n",
      "18/18 [==============================] - 0s 3ms/step - loss: 0.3382 - auc_1: 0.9172 - val_loss: 0.4289 - val_auc_1: 0.8721\n",
      "Epoch 212/1000\n",
      " 1/18 [>.............................] - ETA: 0s - loss: 0.5526 - auc_1: 0.8275WARNING:tensorflow:Early stopping conditioned on metric `val_auc` which is not available. Available metrics are: loss,auc_1,val_loss,val_auc_1\n",
      "18/18 [==============================] - 0s 3ms/step - loss: 0.3370 - auc_1: 0.9190 - val_loss: 0.4306 - val_auc_1: 0.8750\n",
      "Epoch 213/1000\n",
      " 1/18 [>.............................] - ETA: 0s - loss: 0.3486 - auc_1: 0.8818WARNING:tensorflow:Early stopping conditioned on metric `val_auc` which is not available. Available metrics are: loss,auc_1,val_loss,val_auc_1\n",
      "18/18 [==============================] - 0s 3ms/step - loss: 0.3369 - auc_1: 0.9176 - val_loss: 0.4334 - val_auc_1: 0.8748\n",
      "Epoch 214/1000\n",
      " 1/18 [>.............................] - ETA: 0s - loss: 0.3415 - auc_1: 0.9115WARNING:tensorflow:Early stopping conditioned on metric `val_auc` which is not available. Available metrics are: loss,auc_1,val_loss,val_auc_1\n",
      "18/18 [==============================] - 0s 3ms/step - loss: 0.3370 - auc_1: 0.9175 - val_loss: 0.4318 - val_auc_1: 0.8750\n",
      "Epoch 215/1000\n",
      " 1/18 [>.............................] - ETA: 0s - loss: 0.3766 - auc_1: 0.8988WARNING:tensorflow:Early stopping conditioned on metric `val_auc` which is not available. Available metrics are: loss,auc_1,val_loss,val_auc_1\n",
      "18/18 [==============================] - 0s 3ms/step - loss: 0.3377 - auc_1: 0.9178 - val_loss: 0.4289 - val_auc_1: 0.8753\n",
      "Epoch 216/1000\n",
      " 1/18 [>.............................] - ETA: 0s - loss: 0.4782 - auc_1: 0.8432WARNING:tensorflow:Early stopping conditioned on metric `val_auc` which is not available. Available metrics are: loss,auc_1,val_loss,val_auc_1\n",
      "18/18 [==============================] - 0s 3ms/step - loss: 0.3363 - auc_1: 0.9193 - val_loss: 0.4315 - val_auc_1: 0.8738\n",
      "Epoch 217/1000\n",
      " 1/18 [>.............................] - ETA: 0s - loss: 0.3237 - auc_1: 0.9231WARNING:tensorflow:Early stopping conditioned on metric `val_auc` which is not available. Available metrics are: loss,auc_1,val_loss,val_auc_1\n",
      "18/18 [==============================] - 0s 3ms/step - loss: 0.3366 - auc_1: 0.9178 - val_loss: 0.4332 - val_auc_1: 0.8744\n",
      "Epoch 218/1000\n",
      " 1/18 [>.............................] - ETA: 0s - loss: 0.3891 - auc_1: 0.8790WARNING:tensorflow:Early stopping conditioned on metric `val_auc` which is not available. Available metrics are: loss,auc_1,val_loss,val_auc_1\n",
      "18/18 [==============================] - 0s 3ms/step - loss: 0.3367 - auc_1: 0.9184 - val_loss: 0.4341 - val_auc_1: 0.8707\n",
      "Epoch 219/1000\n",
      " 1/18 [>.............................] - ETA: 0s - loss: 0.2743 - auc_1: 0.9417WARNING:tensorflow:Early stopping conditioned on metric `val_auc` which is not available. Available metrics are: loss,auc_1,val_loss,val_auc_1\n",
      "18/18 [==============================] - 0s 3ms/step - loss: 0.3366 - auc_1: 0.9182 - val_loss: 0.4311 - val_auc_1: 0.8732\n",
      "Epoch 220/1000\n",
      " 1/18 [>.............................] - ETA: 0s - loss: 0.4304 - auc_1: 0.8563WARNING:tensorflow:Early stopping conditioned on metric `val_auc` which is not available. Available metrics are: loss,auc_1,val_loss,val_auc_1\n",
      "18/18 [==============================] - 0s 3ms/step - loss: 0.3366 - auc_1: 0.9184 - val_loss: 0.4327 - val_auc_1: 0.8729\n",
      "Epoch 221/1000\n",
      " 1/18 [>.............................] - ETA: 0s - loss: 0.2650 - auc_1: 0.9614WARNING:tensorflow:Early stopping conditioned on metric `val_auc` which is not available. Available metrics are: loss,auc_1,val_loss,val_auc_1\n",
      "18/18 [==============================] - 0s 3ms/step - loss: 0.3368 - auc_1: 0.9174 - val_loss: 0.4353 - val_auc_1: 0.8736\n",
      "Epoch 222/1000\n",
      " 1/18 [>.............................] - ETA: 0s - loss: 0.3059 - auc_1: 0.9275WARNING:tensorflow:Early stopping conditioned on metric `val_auc` which is not available. Available metrics are: loss,auc_1,val_loss,val_auc_1\n",
      "18/18 [==============================] - 0s 3ms/step - loss: 0.3360 - auc_1: 0.9181 - val_loss: 0.4349 - val_auc_1: 0.8727\n",
      "Epoch 223/1000\n",
      " 1/18 [>.............................] - ETA: 0s - loss: 0.3616 - auc_1: 0.9106WARNING:tensorflow:Early stopping conditioned on metric `val_auc` which is not available. Available metrics are: loss,auc_1,val_loss,val_auc_1\n",
      "18/18 [==============================] - 0s 3ms/step - loss: 0.3365 - auc_1: 0.9180 - val_loss: 0.4320 - val_auc_1: 0.8749\n",
      "Epoch 224/1000\n",
      " 1/18 [>.............................] - ETA: 0s - loss: 0.3249 - auc_1: 0.9393WARNING:tensorflow:Early stopping conditioned on metric `val_auc` which is not available. Available metrics are: loss,auc_1,val_loss,val_auc_1\n",
      "18/18 [==============================] - 0s 3ms/step - loss: 0.3364 - auc_1: 0.9178 - val_loss: 0.4328 - val_auc_1: 0.8740\n",
      "Epoch 225/1000\n",
      " 1/18 [>.............................] - ETA: 0s - loss: 0.3429 - auc_1: 0.8886WARNING:tensorflow:Early stopping conditioned on metric `val_auc` which is not available. Available metrics are: loss,auc_1,val_loss,val_auc_1\n",
      "18/18 [==============================] - 0s 3ms/step - loss: 0.3367 - auc_1: 0.9186 - val_loss: 0.4316 - val_auc_1: 0.8762\n",
      "Epoch 226/1000\n",
      " 1/18 [>.............................] - ETA: 0s - loss: 0.3692 - auc_1: 0.9155WARNING:tensorflow:Early stopping conditioned on metric `val_auc` which is not available. Available metrics are: loss,auc_1,val_loss,val_auc_1\n",
      "18/18 [==============================] - 0s 3ms/step - loss: 0.3366 - auc_1: 0.9171 - val_loss: 0.4325 - val_auc_1: 0.8755\n",
      "Epoch 227/1000\n",
      " 1/18 [>.............................] - ETA: 0s - loss: 0.2991 - auc_1: 0.9500WARNING:tensorflow:Early stopping conditioned on metric `val_auc` which is not available. Available metrics are: loss,auc_1,val_loss,val_auc_1\n",
      "18/18 [==============================] - 0s 3ms/step - loss: 0.3359 - auc_1: 0.9189 - val_loss: 0.4313 - val_auc_1: 0.8763\n",
      "Epoch 228/1000\n",
      " 1/18 [>.............................] - ETA: 0s - loss: 0.2413 - auc_1: 0.9784WARNING:tensorflow:Early stopping conditioned on metric `val_auc` which is not available. Available metrics are: loss,auc_1,val_loss,val_auc_1\n",
      "18/18 [==============================] - 0s 3ms/step - loss: 0.3363 - auc_1: 0.9184 - val_loss: 0.4351 - val_auc_1: 0.8720\n",
      "Epoch 229/1000\n",
      " 1/18 [>.............................] - ETA: 0s - loss: 0.3301 - auc_1: 0.9372WARNING:tensorflow:Early stopping conditioned on metric `val_auc` which is not available. Available metrics are: loss,auc_1,val_loss,val_auc_1\n",
      "18/18 [==============================] - 0s 3ms/step - loss: 0.3348 - auc_1: 0.9195 - val_loss: 0.4331 - val_auc_1: 0.8744\n",
      "Epoch 230/1000\n",
      " 1/18 [>.............................] - ETA: 0s - loss: 0.2279 - auc_1: 0.9729WARNING:tensorflow:Early stopping conditioned on metric `val_auc` which is not available. Available metrics are: loss,auc_1,val_loss,val_auc_1\n",
      "18/18 [==============================] - 0s 3ms/step - loss: 0.3351 - auc_1: 0.9196 - val_loss: 0.4320 - val_auc_1: 0.8747\n",
      "Epoch 231/1000\n",
      " 1/18 [>.............................] - ETA: 0s - loss: 0.2268 - auc_1: 0.9725WARNING:tensorflow:Early stopping conditioned on metric `val_auc` which is not available. Available metrics are: loss,auc_1,val_loss,val_auc_1\n",
      "18/18 [==============================] - 0s 3ms/step - loss: 0.3350 - auc_1: 0.9182 - val_loss: 0.4336 - val_auc_1: 0.8767\n",
      "Epoch 232/1000\n",
      " 1/18 [>.............................] - ETA: 0s - loss: 0.6790 - auc_1: 0.7383WARNING:tensorflow:Early stopping conditioned on metric `val_auc` which is not available. Available metrics are: loss,auc_1,val_loss,val_auc_1\n",
      "18/18 [==============================] - 0s 3ms/step - loss: 0.3357 - auc_1: 0.9174 - val_loss: 0.4316 - val_auc_1: 0.8774\n",
      "Epoch 233/1000\n",
      " 1/18 [>.............................] - ETA: 0s - loss: 0.5599 - auc_1: 0.7935WARNING:tensorflow:Early stopping conditioned on metric `val_auc` which is not available. Available metrics are: loss,auc_1,val_loss,val_auc_1\n",
      "18/18 [==============================] - 0s 3ms/step - loss: 0.3349 - auc_1: 0.9198 - val_loss: 0.4327 - val_auc_1: 0.8766\n",
      "Epoch 234/1000\n",
      " 1/18 [>.............................] - ETA: 0s - loss: 0.4230 - auc_1: 0.8463WARNING:tensorflow:Early stopping conditioned on metric `val_auc` which is not available. Available metrics are: loss,auc_1,val_loss,val_auc_1\n",
      "18/18 [==============================] - 0s 3ms/step - loss: 0.3361 - auc_1: 0.9178 - val_loss: 0.4340 - val_auc_1: 0.8739\n",
      "Epoch 235/1000\n",
      " 1/18 [>.............................] - ETA: 0s - loss: 0.3628 - auc_1: 0.9395WARNING:tensorflow:Early stopping conditioned on metric `val_auc` which is not available. Available metrics are: loss,auc_1,val_loss,val_auc_1\n",
      "18/18 [==============================] - 0s 3ms/step - loss: 0.3346 - auc_1: 0.9193 - val_loss: 0.4319 - val_auc_1: 0.8777\n",
      "Epoch 236/1000\n",
      " 1/18 [>.............................] - ETA: 0s - loss: 0.3634 - auc_1: 0.9157WARNING:tensorflow:Early stopping conditioned on metric `val_auc` which is not available. Available metrics are: loss,auc_1,val_loss,val_auc_1\n",
      "18/18 [==============================] - 0s 3ms/step - loss: 0.3349 - auc_1: 0.9183 - val_loss: 0.4322 - val_auc_1: 0.8776\n",
      "Epoch 237/1000\n",
      " 1/18 [>.............................] - ETA: 0s - loss: 0.3198 - auc_1: 0.9264WARNING:tensorflow:Early stopping conditioned on metric `val_auc` which is not available. Available metrics are: loss,auc_1,val_loss,val_auc_1\n",
      "18/18 [==============================] - 0s 3ms/step - loss: 0.3358 - auc_1: 0.9184 - val_loss: 0.4361 - val_auc_1: 0.8734\n",
      "Epoch 238/1000\n",
      " 1/18 [>.............................] - ETA: 0s - loss: 0.2889 - auc_1: 0.9555WARNING:tensorflow:Early stopping conditioned on metric `val_auc` which is not available. Available metrics are: loss,auc_1,val_loss,val_auc_1\n",
      "18/18 [==============================] - 0s 3ms/step - loss: 0.3342 - auc_1: 0.9198 - val_loss: 0.4337 - val_auc_1: 0.8752\n",
      "Epoch 239/1000\n",
      " 1/18 [>.............................] - ETA: 0s - loss: 0.3219 - auc_1: 0.9091WARNING:tensorflow:Early stopping conditioned on metric `val_auc` which is not available. Available metrics are: loss,auc_1,val_loss,val_auc_1\n",
      "18/18 [==============================] - 0s 3ms/step - loss: 0.3341 - auc_1: 0.9201 - val_loss: 0.4341 - val_auc_1: 0.8748\n",
      "Epoch 240/1000\n",
      " 1/18 [>.............................] - ETA: 0s - loss: 0.5889 - auc_1: 0.8552WARNING:tensorflow:Early stopping conditioned on metric `val_auc` which is not available. Available metrics are: loss,auc_1,val_loss,val_auc_1\n",
      "18/18 [==============================] - 0s 4ms/step - loss: 0.3346 - auc_1: 0.9188 - val_loss: 0.4335 - val_auc_1: 0.8761\n",
      "Epoch 241/1000\n",
      " 1/18 [>.............................] - ETA: 0s - loss: 0.2973 - auc_1: 0.9412WARNING:tensorflow:Early stopping conditioned on metric `val_auc` which is not available. Available metrics are: loss,auc_1,val_loss,val_auc_1\n",
      "18/18 [==============================] - 0s 3ms/step - loss: 0.3343 - auc_1: 0.9190 - val_loss: 0.4357 - val_auc_1: 0.8755\n",
      "Epoch 242/1000\n",
      " 1/18 [>.............................] - ETA: 0s - loss: 0.3171 - auc_1: 0.9264WARNING:tensorflow:Early stopping conditioned on metric `val_auc` which is not available. Available metrics are: loss,auc_1,val_loss,val_auc_1\n",
      "18/18 [==============================] - 0s 3ms/step - loss: 0.3347 - auc_1: 0.9178 - val_loss: 0.4317 - val_auc_1: 0.8775\n",
      "Epoch 243/1000\n",
      " 1/18 [>.............................] - ETA: 0s - loss: 0.1270 - auc_1: 1.0000WARNING:tensorflow:Early stopping conditioned on metric `val_auc` which is not available. Available metrics are: loss,auc_1,val_loss,val_auc_1\n",
      "18/18 [==============================] - 0s 3ms/step - loss: 0.3344 - auc_1: 0.9191 - val_loss: 0.4351 - val_auc_1: 0.8745\n",
      "Epoch 244/1000\n",
      " 1/18 [>.............................] - ETA: 0s - loss: 0.2825 - auc_1: 0.9200WARNING:tensorflow:Early stopping conditioned on metric `val_auc` which is not available. Available metrics are: loss,auc_1,val_loss,val_auc_1\n",
      "18/18 [==============================] - 0s 3ms/step - loss: 0.3337 - auc_1: 0.9191 - val_loss: 0.4338 - val_auc_1: 0.8750\n",
      "Epoch 245/1000\n",
      " 1/18 [>.............................] - ETA: 0s - loss: 0.2730 - auc_1: 0.9292WARNING:tensorflow:Early stopping conditioned on metric `val_auc` which is not available. Available metrics are: loss,auc_1,val_loss,val_auc_1\n",
      "18/18 [==============================] - 0s 3ms/step - loss: 0.3347 - auc_1: 0.9186 - val_loss: 0.4359 - val_auc_1: 0.8758\n",
      "Epoch 246/1000\n",
      " 1/18 [>.............................] - ETA: 0s - loss: 0.3511 - auc_1: 0.9329WARNING:tensorflow:Early stopping conditioned on metric `val_auc` which is not available. Available metrics are: loss,auc_1,val_loss,val_auc_1\n",
      "18/18 [==============================] - 0s 3ms/step - loss: 0.3337 - auc_1: 0.9188 - val_loss: 0.4314 - val_auc_1: 0.8785\n",
      "Epoch 247/1000\n",
      " 1/18 [>.............................] - ETA: 0s - loss: 0.3125 - auc_1: 0.9433WARNING:tensorflow:Early stopping conditioned on metric `val_auc` which is not available. Available metrics are: loss,auc_1,val_loss,val_auc_1\n",
      "18/18 [==============================] - 0s 3ms/step - loss: 0.3343 - auc_1: 0.9199 - val_loss: 0.4340 - val_auc_1: 0.8763\n",
      "Epoch 248/1000\n",
      " 1/18 [>.............................] - ETA: 0s - loss: 0.4566 - auc_1: 0.8750WARNING:tensorflow:Early stopping conditioned on metric `val_auc` which is not available. Available metrics are: loss,auc_1,val_loss,val_auc_1\n",
      "18/18 [==============================] - 0s 3ms/step - loss: 0.3341 - auc_1: 0.9186 - val_loss: 0.4324 - val_auc_1: 0.8762\n",
      "Epoch 249/1000\n",
      " 1/18 [>.............................] - ETA: 0s - loss: 0.4611 - auc_1: 0.8727WARNING:tensorflow:Early stopping conditioned on metric `val_auc` which is not available. Available metrics are: loss,auc_1,val_loss,val_auc_1\n",
      "18/18 [==============================] - 0s 3ms/step - loss: 0.3349 - auc_1: 0.9182 - val_loss: 0.4334 - val_auc_1: 0.8773\n",
      "Epoch 250/1000\n",
      " 1/18 [>.............................] - ETA: 0s - loss: 0.2929 - auc_1: 0.9544WARNING:tensorflow:Early stopping conditioned on metric `val_auc` which is not available. Available metrics are: loss,auc_1,val_loss,val_auc_1\n",
      "18/18 [==============================] - 0s 3ms/step - loss: 0.3349 - auc_1: 0.9186 - val_loss: 0.4323 - val_auc_1: 0.8753\n",
      "Epoch 251/1000\n",
      " 1/18 [>.............................] - ETA: 0s - loss: 0.3076 - auc_1: 0.9273WARNING:tensorflow:Early stopping conditioned on metric `val_auc` which is not available. Available metrics are: loss,auc_1,val_loss,val_auc_1\n",
      "18/18 [==============================] - 0s 3ms/step - loss: 0.3330 - auc_1: 0.9202 - val_loss: 0.4339 - val_auc_1: 0.8769\n",
      "Epoch 252/1000\n",
      " 1/18 [>.............................] - ETA: 0s - loss: 0.4586 - auc_1: 0.8644WARNING:tensorflow:Early stopping conditioned on metric `val_auc` which is not available. Available metrics are: loss,auc_1,val_loss,val_auc_1\n",
      "18/18 [==============================] - 0s 3ms/step - loss: 0.3329 - auc_1: 0.9196 - val_loss: 0.4329 - val_auc_1: 0.8784\n",
      "Epoch 253/1000\n",
      " 1/18 [>.............................] - ETA: 0s - loss: 0.1929 - auc_1: 0.9500WARNING:tensorflow:Early stopping conditioned on metric `val_auc` which is not available. Available metrics are: loss,auc_1,val_loss,val_auc_1\n",
      "18/18 [==============================] - 0s 3ms/step - loss: 0.3329 - auc_1: 0.9201 - val_loss: 0.4361 - val_auc_1: 0.8746\n",
      "Epoch 254/1000\n",
      " 1/18 [>.............................] - ETA: 0s - loss: 0.3438 - auc_1: 0.9211WARNING:tensorflow:Early stopping conditioned on metric `val_auc` which is not available. Available metrics are: loss,auc_1,val_loss,val_auc_1\n",
      "18/18 [==============================] - 0s 3ms/step - loss: 0.3328 - auc_1: 0.9205 - val_loss: 0.4327 - val_auc_1: 0.8784\n",
      "Epoch 255/1000\n",
      " 1/18 [>.............................] - ETA: 0s - loss: 0.4472 - auc_1: 0.8667WARNING:tensorflow:Early stopping conditioned on metric `val_auc` which is not available. Available metrics are: loss,auc_1,val_loss,val_auc_1\n",
      "18/18 [==============================] - 0s 3ms/step - loss: 0.3328 - auc_1: 0.9204 - val_loss: 0.4357 - val_auc_1: 0.8758\n",
      "Epoch 256/1000\n",
      " 1/18 [>.............................] - ETA: 0s - loss: 0.3509 - auc_1: 0.9177WARNING:tensorflow:Early stopping conditioned on metric `val_auc` which is not available. Available metrics are: loss,auc_1,val_loss,val_auc_1\n",
      "18/18 [==============================] - 0s 3ms/step - loss: 0.3344 - auc_1: 0.9180 - val_loss: 0.4357 - val_auc_1: 0.8765\n",
      "Epoch 257/1000\n",
      " 1/18 [>.............................] - ETA: 0s - loss: 0.3428 - auc_1: 0.8909WARNING:tensorflow:Early stopping conditioned on metric `val_auc` which is not available. Available metrics are: loss,auc_1,val_loss,val_auc_1\n",
      "18/18 [==============================] - 0s 3ms/step - loss: 0.3345 - auc_1: 0.9192 - val_loss: 0.4347 - val_auc_1: 0.8745\n",
      "Epoch 258/1000\n",
      " 1/18 [>.............................] - ETA: 0s - loss: 0.1288 - auc_1: 1.0000WARNING:tensorflow:Early stopping conditioned on metric `val_auc` which is not available. Available metrics are: loss,auc_1,val_loss,val_auc_1\n",
      "18/18 [==============================] - 0s 3ms/step - loss: 0.3322 - auc_1: 0.9194 - val_loss: 0.4351 - val_auc_1: 0.8764\n",
      "Epoch 259/1000\n",
      " 1/18 [>.............................] - ETA: 0s - loss: 0.2257 - auc_1: 1.0000WARNING:tensorflow:Early stopping conditioned on metric `val_auc` which is not available. Available metrics are: loss,auc_1,val_loss,val_auc_1\n",
      "18/18 [==============================] - 0s 3ms/step - loss: 0.3328 - auc_1: 0.9202 - val_loss: 0.4365 - val_auc_1: 0.8755\n",
      "Epoch 260/1000\n",
      " 1/18 [>.............................] - ETA: 0s - loss: 0.1951 - auc_1: 0.9762WARNING:tensorflow:Early stopping conditioned on metric `val_auc` which is not available. Available metrics are: loss,auc_1,val_loss,val_auc_1\n",
      "18/18 [==============================] - 0s 3ms/step - loss: 0.3325 - auc_1: 0.9193 - val_loss: 0.4338 - val_auc_1: 0.8796\n",
      "Epoch 261/1000\n",
      " 1/18 [>.............................] - ETA: 0s - loss: 0.2592 - auc_1: 0.9364WARNING:tensorflow:Early stopping conditioned on metric `val_auc` which is not available. Available metrics are: loss,auc_1,val_loss,val_auc_1\n",
      "18/18 [==============================] - 0s 3ms/step - loss: 0.3323 - auc_1: 0.9204 - val_loss: 0.4370 - val_auc_1: 0.8763\n",
      "Epoch 262/1000\n",
      " 1/18 [>.............................] - ETA: 0s - loss: 0.2466 - auc_1: 0.9762WARNING:tensorflow:Early stopping conditioned on metric `val_auc` which is not available. Available metrics are: loss,auc_1,val_loss,val_auc_1\n",
      "18/18 [==============================] - 0s 3ms/step - loss: 0.3329 - auc_1: 0.9199 - val_loss: 0.4351 - val_auc_1: 0.8786\n",
      "Epoch 263/1000\n",
      " 1/18 [>.............................] - ETA: 0s - loss: 0.3390 - auc_1: 0.9271WARNING:tensorflow:Early stopping conditioned on metric `val_auc` which is not available. Available metrics are: loss,auc_1,val_loss,val_auc_1\n",
      "18/18 [==============================] - 0s 3ms/step - loss: 0.3317 - auc_1: 0.9208 - val_loss: 0.4348 - val_auc_1: 0.8769\n",
      "Epoch 264/1000\n",
      " 1/18 [>.............................] - ETA: 0s - loss: 0.3476 - auc_1: 0.8457WARNING:tensorflow:Early stopping conditioned on metric `val_auc` which is not available. Available metrics are: loss,auc_1,val_loss,val_auc_1\n",
      "18/18 [==============================] - 0s 3ms/step - loss: 0.3327 - auc_1: 0.9193 - val_loss: 0.4358 - val_auc_1: 0.8777\n",
      "Epoch 265/1000\n",
      " 1/18 [>.............................] - ETA: 0s - loss: 0.4080 - auc_1: 0.7821WARNING:tensorflow:Early stopping conditioned on metric `val_auc` which is not available. Available metrics are: loss,auc_1,val_loss,val_auc_1\n",
      "18/18 [==============================] - 0s 3ms/step - loss: 0.3317 - auc_1: 0.9210 - val_loss: 0.4342 - val_auc_1: 0.8782\n",
      "Epoch 266/1000\n",
      " 1/18 [>.............................] - ETA: 0s - loss: 0.3802 - auc_1: 0.9062WARNING:tensorflow:Early stopping conditioned on metric `val_auc` which is not available. Available metrics are: loss,auc_1,val_loss,val_auc_1\n",
      "18/18 [==============================] - 0s 3ms/step - loss: 0.3319 - auc_1: 0.9208 - val_loss: 0.4350 - val_auc_1: 0.8786\n",
      "Epoch 267/1000\n",
      " 1/18 [>.............................] - ETA: 0s - loss: 0.4132 - auc_1: 0.9000WARNING:tensorflow:Early stopping conditioned on metric `val_auc` which is not available. Available metrics are: loss,auc_1,val_loss,val_auc_1\n",
      "18/18 [==============================] - 0s 3ms/step - loss: 0.3324 - auc_1: 0.9210 - val_loss: 0.4360 - val_auc_1: 0.8765\n",
      "Epoch 268/1000\n",
      " 1/18 [>.............................] - ETA: 0s - loss: 0.3949 - auc_1: 0.9569WARNING:tensorflow:Early stopping conditioned on metric `val_auc` which is not available. Available metrics are: loss,auc_1,val_loss,val_auc_1\n",
      "18/18 [==============================] - 0s 3ms/step - loss: 0.3317 - auc_1: 0.9209 - val_loss: 0.4360 - val_auc_1: 0.8785\n",
      "Epoch 269/1000\n",
      " 1/18 [>.............................] - ETA: 0s - loss: 0.3435 - auc_1: 0.9341WARNING:tensorflow:Early stopping conditioned on metric `val_auc` which is not available. Available metrics are: loss,auc_1,val_loss,val_auc_1\n",
      "18/18 [==============================] - 0s 3ms/step - loss: 0.3312 - auc_1: 0.9216 - val_loss: 0.4364 - val_auc_1: 0.8755\n",
      "Epoch 270/1000\n",
      " 1/18 [>.............................] - ETA: 0s - loss: 0.2964 - auc_1: 0.9524WARNING:tensorflow:Early stopping conditioned on metric `val_auc` which is not available. Available metrics are: loss,auc_1,val_loss,val_auc_1\n",
      "18/18 [==============================] - 0s 4ms/step - loss: 0.3310 - auc_1: 0.9219 - val_loss: 0.4349 - val_auc_1: 0.8778\n",
      "Epoch 271/1000\n",
      " 1/18 [>.............................] - ETA: 0s - loss: 0.2976 - auc_1: 0.9307WARNING:tensorflow:Early stopping conditioned on metric `val_auc` which is not available. Available metrics are: loss,auc_1,val_loss,val_auc_1\n",
      "18/18 [==============================] - 0s 3ms/step - loss: 0.3333 - auc_1: 0.9211 - val_loss: 0.4348 - val_auc_1: 0.8759\n",
      "Epoch 272/1000\n",
      " 1/18 [>.............................] - ETA: 0s - loss: 0.1748 - auc_1: 0.9827WARNING:tensorflow:Early stopping conditioned on metric `val_auc` which is not available. Available metrics are: loss,auc_1,val_loss,val_auc_1\n",
      "18/18 [==============================] - 0s 3ms/step - loss: 0.3334 - auc_1: 0.9190 - val_loss: 0.4356 - val_auc_1: 0.8791\n",
      "Epoch 273/1000\n",
      " 1/18 [>.............................] - ETA: 0s - loss: 0.3134 - auc_1: 0.9208WARNING:tensorflow:Early stopping conditioned on metric `val_auc` which is not available. Available metrics are: loss,auc_1,val_loss,val_auc_1\n",
      "18/18 [==============================] - 0s 3ms/step - loss: 0.3323 - auc_1: 0.9196 - val_loss: 0.4380 - val_auc_1: 0.8763\n",
      "Epoch 274/1000\n",
      " 1/18 [>.............................] - ETA: 0s - loss: 0.2484 - auc_1: 0.9750WARNING:tensorflow:Early stopping conditioned on metric `val_auc` which is not available. Available metrics are: loss,auc_1,val_loss,val_auc_1\n",
      "18/18 [==============================] - 0s 3ms/step - loss: 0.3313 - auc_1: 0.9203 - val_loss: 0.4313 - val_auc_1: 0.8804\n",
      "Epoch 275/1000\n",
      " 1/18 [>.............................] - ETA: 0s - loss: 0.1595 - auc_1: 0.9917WARNING:tensorflow:Early stopping conditioned on metric `val_auc` which is not available. Available metrics are: loss,auc_1,val_loss,val_auc_1\n",
      "18/18 [==============================] - 0s 3ms/step - loss: 0.3308 - auc_1: 0.9218 - val_loss: 0.4355 - val_auc_1: 0.8791\n",
      "Epoch 276/1000\n",
      " 1/18 [>.............................] - ETA: 0s - loss: 0.2220 - auc_1: 0.9879WARNING:tensorflow:Early stopping conditioned on metric `val_auc` which is not available. Available metrics are: loss,auc_1,val_loss,val_auc_1\n",
      "18/18 [==============================] - 0s 3ms/step - loss: 0.3312 - auc_1: 0.9212 - val_loss: 0.4376 - val_auc_1: 0.8759\n",
      "Epoch 277/1000\n",
      " 1/18 [>.............................] - ETA: 0s - loss: 0.3655 - auc_1: 0.8773WARNING:tensorflow:Early stopping conditioned on metric `val_auc` which is not available. Available metrics are: loss,auc_1,val_loss,val_auc_1\n",
      "18/18 [==============================] - 0s 3ms/step - loss: 0.3306 - auc_1: 0.9220 - val_loss: 0.4374 - val_auc_1: 0.8774\n",
      "Epoch 278/1000\n",
      " 1/18 [>.............................] - ETA: 0s - loss: 0.4894 - auc_1: 0.8155WARNING:tensorflow:Early stopping conditioned on metric `val_auc` which is not available. Available metrics are: loss,auc_1,val_loss,val_auc_1\n",
      "18/18 [==============================] - 0s 3ms/step - loss: 0.3311 - auc_1: 0.9213 - val_loss: 0.4353 - val_auc_1: 0.8794\n",
      "Epoch 279/1000\n",
      " 1/18 [>.............................] - ETA: 0s - loss: 0.2576 - auc_1: 0.9458WARNING:tensorflow:Early stopping conditioned on metric `val_auc` which is not available. Available metrics are: loss,auc_1,val_loss,val_auc_1\n",
      "18/18 [==============================] - 0s 3ms/step - loss: 0.3323 - auc_1: 0.9194 - val_loss: 0.4352 - val_auc_1: 0.8801\n",
      "Epoch 280/1000\n",
      " 1/18 [>.............................] - ETA: 0s - loss: 0.1849 - auc_1: 0.9864WARNING:tensorflow:Early stopping conditioned on metric `val_auc` which is not available. Available metrics are: loss,auc_1,val_loss,val_auc_1\n",
      "18/18 [==============================] - 0s 4ms/step - loss: 0.3310 - auc_1: 0.9213 - val_loss: 0.4367 - val_auc_1: 0.8768\n",
      "Epoch 281/1000\n",
      " 1/18 [>.............................] - ETA: 0s - loss: 0.4248 - auc_1: 0.8745WARNING:tensorflow:Early stopping conditioned on metric `val_auc` which is not available. Available metrics are: loss,auc_1,val_loss,val_auc_1\n",
      "18/18 [==============================] - 0s 3ms/step - loss: 0.3304 - auc_1: 0.9221 - val_loss: 0.4348 - val_auc_1: 0.8790\n",
      "Epoch 282/1000\n",
      " 1/18 [>.............................] - ETA: 0s - loss: 0.1958 - auc_1: 0.9417WARNING:tensorflow:Early stopping conditioned on metric `val_auc` which is not available. Available metrics are: loss,auc_1,val_loss,val_auc_1\n",
      "18/18 [==============================] - 0s 3ms/step - loss: 0.3299 - auc_1: 0.9222 - val_loss: 0.4357 - val_auc_1: 0.8787\n",
      "Epoch 283/1000\n",
      " 1/18 [>.............................] - ETA: 0s - loss: 0.4095 - auc_1: 0.8826WARNING:tensorflow:Early stopping conditioned on metric `val_auc` which is not available. Available metrics are: loss,auc_1,val_loss,val_auc_1\n",
      "18/18 [==============================] - 0s 3ms/step - loss: 0.3312 - auc_1: 0.9203 - val_loss: 0.4371 - val_auc_1: 0.8801\n",
      "Epoch 284/1000\n",
      " 1/18 [>.............................] - ETA: 0s - loss: 0.2724 - auc_1: 0.9667WARNING:tensorflow:Early stopping conditioned on metric `val_auc` which is not available. Available metrics are: loss,auc_1,val_loss,val_auc_1\n",
      "18/18 [==============================] - 0s 3ms/step - loss: 0.3319 - auc_1: 0.9199 - val_loss: 0.4378 - val_auc_1: 0.8772\n",
      "Epoch 285/1000\n",
      " 1/18 [>.............................] - ETA: 0s - loss: 0.3124 - auc_1: 0.9636WARNING:tensorflow:Early stopping conditioned on metric `val_auc` which is not available. Available metrics are: loss,auc_1,val_loss,val_auc_1\n",
      "18/18 [==============================] - 0s 4ms/step - loss: 0.3296 - auc_1: 0.9226 - val_loss: 0.4343 - val_auc_1: 0.8801\n",
      "Epoch 286/1000\n",
      " 1/18 [>.............................] - ETA: 0s - loss: 0.3792 - auc_1: 0.9048WARNING:tensorflow:Early stopping conditioned on metric `val_auc` which is not available. Available metrics are: loss,auc_1,val_loss,val_auc_1\n",
      "18/18 [==============================] - 0s 3ms/step - loss: 0.3300 - auc_1: 0.9218 - val_loss: 0.4348 - val_auc_1: 0.8790\n",
      "Epoch 287/1000\n",
      " 1/18 [>.............................] - ETA: 0s - loss: 0.2920 - auc_1: 0.9625WARNING:tensorflow:Early stopping conditioned on metric `val_auc` which is not available. Available metrics are: loss,auc_1,val_loss,val_auc_1\n",
      "18/18 [==============================] - 0s 3ms/step - loss: 0.3307 - auc_1: 0.9213 - val_loss: 0.4372 - val_auc_1: 0.8789\n",
      "Epoch 288/1000\n",
      " 1/18 [>.............................] - ETA: 0s - loss: 0.3087 - auc_1: 0.9294WARNING:tensorflow:Early stopping conditioned on metric `val_auc` which is not available. Available metrics are: loss,auc_1,val_loss,val_auc_1\n",
      "18/18 [==============================] - 0s 3ms/step - loss: 0.3299 - auc_1: 0.9220 - val_loss: 0.4353 - val_auc_1: 0.8783\n",
      "Epoch 289/1000\n",
      " 1/18 [>.............................] - ETA: 0s - loss: 0.1932 - auc_1: 0.9922WARNING:tensorflow:Early stopping conditioned on metric `val_auc` which is not available. Available metrics are: loss,auc_1,val_loss,val_auc_1\n",
      "18/18 [==============================] - 0s 3ms/step - loss: 0.3311 - auc_1: 0.9206 - val_loss: 0.4385 - val_auc_1: 0.8774\n",
      "Epoch 290/1000\n",
      " 1/18 [>.............................] - ETA: 0s - loss: 0.4073 - auc_1: 0.8866WARNING:tensorflow:Early stopping conditioned on metric `val_auc` which is not available. Available metrics are: loss,auc_1,val_loss,val_auc_1\n",
      "18/18 [==============================] - 0s 3ms/step - loss: 0.3297 - auc_1: 0.9223 - val_loss: 0.4343 - val_auc_1: 0.8796\n",
      "Epoch 291/1000\n",
      " 1/18 [>.............................] - ETA: 0s - loss: 0.3318 - auc_1: 0.9160WARNING:tensorflow:Early stopping conditioned on metric `val_auc` which is not available. Available metrics are: loss,auc_1,val_loss,val_auc_1\n",
      "18/18 [==============================] - 0s 3ms/step - loss: 0.3297 - auc_1: 0.9220 - val_loss: 0.4345 - val_auc_1: 0.8791\n",
      "Epoch 292/1000\n",
      " 1/18 [>.............................] - ETA: 0s - loss: 0.4600 - auc_1: 0.8711WARNING:tensorflow:Early stopping conditioned on metric `val_auc` which is not available. Available metrics are: loss,auc_1,val_loss,val_auc_1\n",
      "18/18 [==============================] - 0s 3ms/step - loss: 0.3292 - auc_1: 0.9221 - val_loss: 0.4359 - val_auc_1: 0.8803\n",
      "Epoch 293/1000\n",
      " 1/18 [>.............................] - ETA: 0s - loss: 0.2251 - auc_1: 0.9881WARNING:tensorflow:Early stopping conditioned on metric `val_auc` which is not available. Available metrics are: loss,auc_1,val_loss,val_auc_1\n",
      "18/18 [==============================] - 0s 3ms/step - loss: 0.3297 - auc_1: 0.9217 - val_loss: 0.4349 - val_auc_1: 0.8810\n",
      "Epoch 294/1000\n",
      " 1/18 [>.............................] - ETA: 0s - loss: 0.2927 - auc_1: 0.9010WARNING:tensorflow:Early stopping conditioned on metric `val_auc` which is not available. Available metrics are: loss,auc_1,val_loss,val_auc_1\n",
      "18/18 [==============================] - 0s 3ms/step - loss: 0.3292 - auc_1: 0.9223 - val_loss: 0.4385 - val_auc_1: 0.8777\n",
      "Epoch 295/1000\n",
      " 1/18 [>.............................] - ETA: 0s - loss: 0.3450 - auc_1: 0.9000WARNING:tensorflow:Early stopping conditioned on metric `val_auc` which is not available. Available metrics are: loss,auc_1,val_loss,val_auc_1\n",
      "18/18 [==============================] - 0s 3ms/step - loss: 0.3289 - auc_1: 0.9228 - val_loss: 0.4374 - val_auc_1: 0.8786\n",
      "Epoch 296/1000\n",
      " 1/18 [>.............................] - ETA: 0s - loss: 0.3705 - auc_1: 0.8927WARNING:tensorflow:Early stopping conditioned on metric `val_auc` which is not available. Available metrics are: loss,auc_1,val_loss,val_auc_1\n",
      "18/18 [==============================] - 0s 3ms/step - loss: 0.3290 - auc_1: 0.9222 - val_loss: 0.4372 - val_auc_1: 0.8784\n",
      "Epoch 297/1000\n",
      " 1/18 [>.............................] - ETA: 0s - loss: 0.1885 - auc_1: 0.9882WARNING:tensorflow:Early stopping conditioned on metric `val_auc` which is not available. Available metrics are: loss,auc_1,val_loss,val_auc_1\n",
      "18/18 [==============================] - 0s 3ms/step - loss: 0.3301 - auc_1: 0.9205 - val_loss: 0.4365 - val_auc_1: 0.8806\n",
      "Epoch 298/1000\n",
      " 1/18 [>.............................] - ETA: 0s - loss: 0.2023 - auc_1: 0.9882WARNING:tensorflow:Early stopping conditioned on metric `val_auc` which is not available. Available metrics are: loss,auc_1,val_loss,val_auc_1\n",
      "18/18 [==============================] - 0s 3ms/step - loss: 0.3296 - auc_1: 0.9222 - val_loss: 0.4380 - val_auc_1: 0.8786\n",
      "Epoch 299/1000\n",
      " 1/18 [>.............................] - ETA: 0s - loss: 0.3356 - auc_1: 0.9273WARNING:tensorflow:Early stopping conditioned on metric `val_auc` which is not available. Available metrics are: loss,auc_1,val_loss,val_auc_1\n",
      "18/18 [==============================] - 0s 3ms/step - loss: 0.3309 - auc_1: 0.9211 - val_loss: 0.4368 - val_auc_1: 0.8798\n",
      "Epoch 300/1000\n",
      " 1/18 [>.............................] - ETA: 0s - loss: 0.4506 - auc_1: 0.8312WARNING:tensorflow:Early stopping conditioned on metric `val_auc` which is not available. Available metrics are: loss,auc_1,val_loss,val_auc_1\n",
      "18/18 [==============================] - 0s 3ms/step - loss: 0.3286 - auc_1: 0.9223 - val_loss: 0.4393 - val_auc_1: 0.8787\n",
      "Epoch 301/1000\n",
      " 1/18 [>.............................] - ETA: 0s - loss: 0.3783 - auc_1: 0.9196WARNING:tensorflow:Early stopping conditioned on metric `val_auc` which is not available. Available metrics are: loss,auc_1,val_loss,val_auc_1\n",
      "18/18 [==============================] - 0s 3ms/step - loss: 0.3290 - auc_1: 0.9225 - val_loss: 0.4360 - val_auc_1: 0.8791\n",
      "Epoch 302/1000\n",
      " 1/18 [>.............................] - ETA: 0s - loss: 0.1996 - auc_1: 0.9939WARNING:tensorflow:Early stopping conditioned on metric `val_auc` which is not available. Available metrics are: loss,auc_1,val_loss,val_auc_1\n",
      "18/18 [==============================] - 0s 3ms/step - loss: 0.3288 - auc_1: 0.9218 - val_loss: 0.4362 - val_auc_1: 0.8793\n",
      "Epoch 303/1000\n",
      " 1/18 [>.............................] - ETA: 0s - loss: 0.2370 - auc_1: 0.9717WARNING:tensorflow:Early stopping conditioned on metric `val_auc` which is not available. Available metrics are: loss,auc_1,val_loss,val_auc_1\n",
      "18/18 [==============================] - 0s 3ms/step - loss: 0.3291 - auc_1: 0.9217 - val_loss: 0.4343 - val_auc_1: 0.8803\n",
      "Epoch 304/1000\n",
      " 1/18 [>.............................] - ETA: 0s - loss: 0.2574 - auc_1: 0.9883WARNING:tensorflow:Early stopping conditioned on metric `val_auc` which is not available. Available metrics are: loss,auc_1,val_loss,val_auc_1\n",
      "18/18 [==============================] - 0s 3ms/step - loss: 0.3293 - auc_1: 0.9220 - val_loss: 0.4358 - val_auc_1: 0.8792\n",
      "Epoch 305/1000\n",
      " 1/18 [>.............................] - ETA: 0s - loss: 0.2177 - auc_1: 0.9662WARNING:tensorflow:Early stopping conditioned on metric `val_auc` which is not available. Available metrics are: loss,auc_1,val_loss,val_auc_1\n",
      "18/18 [==============================] - 0s 3ms/step - loss: 0.3295 - auc_1: 0.9225 - val_loss: 0.4383 - val_auc_1: 0.8787\n",
      "Epoch 306/1000\n",
      " 1/18 [>.............................] - ETA: 0s - loss: 0.3292 - auc_1: 0.9264WARNING:tensorflow:Early stopping conditioned on metric `val_auc` which is not available. Available metrics are: loss,auc_1,val_loss,val_auc_1\n",
      "18/18 [==============================] - 0s 4ms/step - loss: 0.3292 - auc_1: 0.9219 - val_loss: 0.4367 - val_auc_1: 0.8800\n",
      "Epoch 307/1000\n",
      " 1/18 [>.............................] - ETA: 0s - loss: 0.4579 - auc_1: 0.8354WARNING:tensorflow:Early stopping conditioned on metric `val_auc` which is not available. Available metrics are: loss,auc_1,val_loss,val_auc_1\n",
      "18/18 [==============================] - 0s 3ms/step - loss: 0.3279 - auc_1: 0.9230 - val_loss: 0.4377 - val_auc_1: 0.8793\n",
      "Epoch 308/1000\n",
      " 1/18 [>.............................] - ETA: 0s - loss: 0.3225 - auc_1: 0.9551WARNING:tensorflow:Early stopping conditioned on metric `val_auc` which is not available. Available metrics are: loss,auc_1,val_loss,val_auc_1\n",
      "18/18 [==============================] - 0s 3ms/step - loss: 0.3285 - auc_1: 0.9219 - val_loss: 0.4338 - val_auc_1: 0.8820\n",
      "Epoch 309/1000\n",
      " 1/18 [>.............................] - ETA: 0s - loss: 0.2534 - auc_1: 0.9500WARNING:tensorflow:Early stopping conditioned on metric `val_auc` which is not available. Available metrics are: loss,auc_1,val_loss,val_auc_1\n",
      "18/18 [==============================] - 0s 3ms/step - loss: 0.3280 - auc_1: 0.9219 - val_loss: 0.4391 - val_auc_1: 0.8785\n",
      "Epoch 310/1000\n",
      " 1/18 [>.............................] - ETA: 0s - loss: 0.3852 - auc_1: 0.8682WARNING:tensorflow:Early stopping conditioned on metric `val_auc` which is not available. Available metrics are: loss,auc_1,val_loss,val_auc_1\n",
      "18/18 [==============================] - 0s 3ms/step - loss: 0.3279 - auc_1: 0.9228 - val_loss: 0.4395 - val_auc_1: 0.8789\n",
      "Epoch 311/1000\n",
      " 1/18 [>.............................] - ETA: 0s - loss: 0.2465 - auc_1: 0.9659WARNING:tensorflow:Early stopping conditioned on metric `val_auc` which is not available. Available metrics are: loss,auc_1,val_loss,val_auc_1\n",
      "18/18 [==============================] - 0s 3ms/step - loss: 0.3283 - auc_1: 0.9224 - val_loss: 0.4355 - val_auc_1: 0.8800\n",
      "Epoch 312/1000\n",
      " 1/18 [>.............................] - ETA: 0s - loss: 0.3096 - auc_1: 0.9115WARNING:tensorflow:Early stopping conditioned on metric `val_auc` which is not available. Available metrics are: loss,auc_1,val_loss,val_auc_1\n",
      "18/18 [==============================] - 0s 3ms/step - loss: 0.3277 - auc_1: 0.9232 - val_loss: 0.4365 - val_auc_1: 0.8800\n",
      "Epoch 313/1000\n",
      " 1/18 [>.............................] - ETA: 0s - loss: 0.2648 - auc_1: 0.9683WARNING:tensorflow:Early stopping conditioned on metric `val_auc` which is not available. Available metrics are: loss,auc_1,val_loss,val_auc_1\n",
      "18/18 [==============================] - 0s 3ms/step - loss: 0.3292 - auc_1: 0.9223 - val_loss: 0.4374 - val_auc_1: 0.8792\n",
      "Epoch 314/1000\n",
      " 1/18 [>.............................] - ETA: 0s - loss: 0.3990 - auc_1: 0.8636WARNING:tensorflow:Early stopping conditioned on metric `val_auc` which is not available. Available metrics are: loss,auc_1,val_loss,val_auc_1\n",
      "18/18 [==============================] - 0s 3ms/step - loss: 0.3279 - auc_1: 0.9221 - val_loss: 0.4368 - val_auc_1: 0.8816\n",
      "Epoch 315/1000\n",
      " 1/18 [>.............................] - ETA: 0s - loss: 0.4602 - auc_1: 0.8651WARNING:tensorflow:Early stopping conditioned on metric `val_auc` which is not available. Available metrics are: loss,auc_1,val_loss,val_auc_1\n",
      "18/18 [==============================] - 0s 3ms/step - loss: 0.3283 - auc_1: 0.9220 - val_loss: 0.4355 - val_auc_1: 0.8796\n",
      "Epoch 316/1000\n",
      " 1/18 [>.............................] - ETA: 0s - loss: 0.2881 - auc_1: 0.9307WARNING:tensorflow:Early stopping conditioned on metric `val_auc` which is not available. Available metrics are: loss,auc_1,val_loss,val_auc_1\n",
      "18/18 [==============================] - 0s 3ms/step - loss: 0.3277 - auc_1: 0.9219 - val_loss: 0.4385 - val_auc_1: 0.8787\n",
      "Epoch 317/1000\n",
      " 1/18 [>.............................] - ETA: 0s - loss: 0.3159 - auc_1: 0.9433WARNING:tensorflow:Early stopping conditioned on metric `val_auc` which is not available. Available metrics are: loss,auc_1,val_loss,val_auc_1\n",
      "18/18 [==============================] - 0s 3ms/step - loss: 0.3275 - auc_1: 0.9233 - val_loss: 0.4386 - val_auc_1: 0.8791\n",
      "Epoch 318/1000\n",
      " 1/18 [>.............................] - ETA: 0s - loss: 0.3502 - auc_1: 0.9453WARNING:tensorflow:Early stopping conditioned on metric `val_auc` which is not available. Available metrics are: loss,auc_1,val_loss,val_auc_1\n",
      "18/18 [==============================] - 0s 3ms/step - loss: 0.3274 - auc_1: 0.9231 - val_loss: 0.4350 - val_auc_1: 0.8812\n",
      "Epoch 319/1000\n",
      " 1/18 [>.............................] - ETA: 0s - loss: 0.5397 - auc_1: 0.7705WARNING:tensorflow:Early stopping conditioned on metric `val_auc` which is not available. Available metrics are: loss,auc_1,val_loss,val_auc_1\n",
      "18/18 [==============================] - 0s 3ms/step - loss: 0.3279 - auc_1: 0.9223 - val_loss: 0.4371 - val_auc_1: 0.8802\n",
      "Epoch 320/1000\n",
      " 1/18 [>.............................] - ETA: 0s - loss: 0.4609 - auc_1: 0.8745WARNING:tensorflow:Early stopping conditioned on metric `val_auc` which is not available. Available metrics are: loss,auc_1,val_loss,val_auc_1\n",
      "18/18 [==============================] - 0s 3ms/step - loss: 0.3274 - auc_1: 0.9231 - val_loss: 0.4375 - val_auc_1: 0.8795\n",
      "Epoch 321/1000\n",
      " 1/18 [>.............................] - ETA: 0s - loss: 0.2976 - auc_1: 0.9182WARNING:tensorflow:Early stopping conditioned on metric `val_auc` which is not available. Available metrics are: loss,auc_1,val_loss,val_auc_1\n",
      "18/18 [==============================] - 0s 3ms/step - loss: 0.3266 - auc_1: 0.9237 - val_loss: 0.4344 - val_auc_1: 0.8812\n",
      "Epoch 322/1000\n",
      " 1/18 [>.............................] - ETA: 0s - loss: 0.4888 - auc_1: 0.7996WARNING:tensorflow:Early stopping conditioned on metric `val_auc` which is not available. Available metrics are: loss,auc_1,val_loss,val_auc_1\n",
      "18/18 [==============================] - 0s 4ms/step - loss: 0.3270 - auc_1: 0.9232 - val_loss: 0.4359 - val_auc_1: 0.8812\n",
      "Epoch 323/1000\n",
      " 1/18 [>.............................] - ETA: 0s - loss: 0.3096 - auc_1: 0.9312WARNING:tensorflow:Early stopping conditioned on metric `val_auc` which is not available. Available metrics are: loss,auc_1,val_loss,val_auc_1\n",
      "18/18 [==============================] - 0s 3ms/step - loss: 0.3281 - auc_1: 0.9224 - val_loss: 0.4385 - val_auc_1: 0.8784\n",
      "Epoch 324/1000\n",
      " 1/18 [>.............................] - ETA: 0s - loss: 0.3146 - auc_1: 0.9771WARNING:tensorflow:Early stopping conditioned on metric `val_auc` which is not available. Available metrics are: loss,auc_1,val_loss,val_auc_1\n",
      "18/18 [==============================] - 0s 3ms/step - loss: 0.3278 - auc_1: 0.9221 - val_loss: 0.4376 - val_auc_1: 0.8799\n",
      "Epoch 325/1000\n",
      " 1/18 [>.............................] - ETA: 0s - loss: 0.2914 - auc_1: 0.9314WARNING:tensorflow:Early stopping conditioned on metric `val_auc` which is not available. Available metrics are: loss,auc_1,val_loss,val_auc_1\n",
      "18/18 [==============================] - 0s 3ms/step - loss: 0.3271 - auc_1: 0.9229 - val_loss: 0.4345 - val_auc_1: 0.8818\n",
      "Epoch 326/1000\n",
      " 1/18 [>.............................] - ETA: 0s - loss: 0.1537 - auc_1: 1.0000WARNING:tensorflow:Early stopping conditioned on metric `val_auc` which is not available. Available metrics are: loss,auc_1,val_loss,val_auc_1\n",
      "18/18 [==============================] - 0s 3ms/step - loss: 0.3263 - auc_1: 0.9240 - val_loss: 0.4356 - val_auc_1: 0.8804\n",
      "Epoch 327/1000\n",
      " 1/18 [>.............................] - ETA: 0s - loss: 0.4824 - auc_1: 0.8730WARNING:tensorflow:Early stopping conditioned on metric `val_auc` which is not available. Available metrics are: loss,auc_1,val_loss,val_auc_1\n",
      "18/18 [==============================] - 0s 3ms/step - loss: 0.3266 - auc_1: 0.9233 - val_loss: 0.4353 - val_auc_1: 0.8820\n",
      "Epoch 328/1000\n",
      " 1/18 [>.............................] - ETA: 0s - loss: 0.3760 - auc_1: 0.9187WARNING:tensorflow:Early stopping conditioned on metric `val_auc` which is not available. Available metrics are: loss,auc_1,val_loss,val_auc_1\n",
      "18/18 [==============================] - 0s 3ms/step - loss: 0.3267 - auc_1: 0.9233 - val_loss: 0.4366 - val_auc_1: 0.8789\n",
      "Epoch 329/1000\n",
      " 1/18 [>.............................] - ETA: 0s - loss: 0.2264 - auc_1: 0.9632WARNING:tensorflow:Early stopping conditioned on metric `val_auc` which is not available. Available metrics are: loss,auc_1,val_loss,val_auc_1\n",
      "18/18 [==============================] - 0s 3ms/step - loss: 0.3276 - auc_1: 0.9222 - val_loss: 0.4375 - val_auc_1: 0.8791\n",
      "Epoch 330/1000\n",
      " 1/18 [>.............................] - ETA: 0s - loss: 0.2709 - auc_1: 0.9500WARNING:tensorflow:Early stopping conditioned on metric `val_auc` which is not available. Available metrics are: loss,auc_1,val_loss,val_auc_1\n",
      "18/18 [==============================] - 0s 3ms/step - loss: 0.3268 - auc_1: 0.9229 - val_loss: 0.4363 - val_auc_1: 0.8817\n",
      "Epoch 331/1000\n",
      " 1/18 [>.............................] - ETA: 0s - loss: 0.2161 - auc_1: 0.9757WARNING:tensorflow:Early stopping conditioned on metric `val_auc` which is not available. Available metrics are: loss,auc_1,val_loss,val_auc_1\n",
      "18/18 [==============================] - 0s 4ms/step - loss: 0.3264 - auc_1: 0.9237 - val_loss: 0.4368 - val_auc_1: 0.8798\n",
      "Epoch 332/1000\n",
      " 1/18 [>.............................] - ETA: 0s - loss: 0.2939 - auc_1: 0.9352WARNING:tensorflow:Early stopping conditioned on metric `val_auc` which is not available. Available metrics are: loss,auc_1,val_loss,val_auc_1\n",
      "18/18 [==============================] - 0s 3ms/step - loss: 0.3270 - auc_1: 0.9232 - val_loss: 0.4369 - val_auc_1: 0.8812\n",
      "Epoch 333/1000\n",
      " 1/18 [>.............................] - ETA: 0s - loss: 0.3466 - auc_1: 0.9238WARNING:tensorflow:Early stopping conditioned on metric `val_auc` which is not available. Available metrics are: loss,auc_1,val_loss,val_auc_1\n",
      "18/18 [==============================] - 0s 3ms/step - loss: 0.3268 - auc_1: 0.9232 - val_loss: 0.4390 - val_auc_1: 0.8802\n",
      "Epoch 334/1000\n",
      " 1/18 [>.............................] - ETA: 0s - loss: 0.2742 - auc_1: 0.9524WARNING:tensorflow:Early stopping conditioned on metric `val_auc` which is not available. Available metrics are: loss,auc_1,val_loss,val_auc_1\n",
      "18/18 [==============================] - 0s 4ms/step - loss: 0.3261 - auc_1: 0.9240 - val_loss: 0.4354 - val_auc_1: 0.8805\n",
      "Epoch 335/1000\n",
      " 1/18 [>.............................] - ETA: 0s - loss: 0.1825 - auc_1: 0.9922WARNING:tensorflow:Early stopping conditioned on metric `val_auc` which is not available. Available metrics are: loss,auc_1,val_loss,val_auc_1\n",
      "18/18 [==============================] - 0s 3ms/step - loss: 0.3257 - auc_1: 0.9244 - val_loss: 0.4382 - val_auc_1: 0.8781\n",
      "Epoch 336/1000\n",
      " 1/18 [>.............................] - ETA: 0s - loss: 0.2949 - auc_1: 0.9663WARNING:tensorflow:Early stopping conditioned on metric `val_auc` which is not available. Available metrics are: loss,auc_1,val_loss,val_auc_1\n",
      "18/18 [==============================] - 0s 3ms/step - loss: 0.3264 - auc_1: 0.9230 - val_loss: 0.4378 - val_auc_1: 0.8799\n",
      "Epoch 337/1000\n",
      " 1/18 [>.............................] - ETA: 0s - loss: 0.3357 - auc_1: 0.9251WARNING:tensorflow:Early stopping conditioned on metric `val_auc` which is not available. Available metrics are: loss,auc_1,val_loss,val_auc_1\n",
      "18/18 [==============================] - 0s 4ms/step - loss: 0.3249 - auc_1: 0.9242 - val_loss: 0.4372 - val_auc_1: 0.8796\n",
      "Epoch 338/1000\n",
      " 1/18 [>.............................] - ETA: 0s - loss: 0.2649 - auc_1: 0.9656WARNING:tensorflow:Early stopping conditioned on metric `val_auc` which is not available. Available metrics are: loss,auc_1,val_loss,val_auc_1\n",
      "18/18 [==============================] - 0s 3ms/step - loss: 0.3261 - auc_1: 0.9236 - val_loss: 0.4371 - val_auc_1: 0.8802\n",
      "Epoch 339/1000\n",
      " 1/18 [>.............................] - ETA: 0s - loss: 0.3476 - auc_1: 0.8828WARNING:tensorflow:Early stopping conditioned on metric `val_auc` which is not available. Available metrics are: loss,auc_1,val_loss,val_auc_1\n",
      "18/18 [==============================] - 0s 3ms/step - loss: 0.3253 - auc_1: 0.9235 - val_loss: 0.4367 - val_auc_1: 0.8805\n",
      "Epoch 340/1000\n",
      " 1/18 [>.............................] - ETA: 0s - loss: 0.4370 - auc_1: 0.8725WARNING:tensorflow:Early stopping conditioned on metric `val_auc` which is not available. Available metrics are: loss,auc_1,val_loss,val_auc_1\n",
      "18/18 [==============================] - 0s 3ms/step - loss: 0.3255 - auc_1: 0.9237 - val_loss: 0.4386 - val_auc_1: 0.8803\n",
      "Epoch 341/1000\n",
      " 1/18 [>.............................] - ETA: 0s - loss: 0.2177 - auc_1: 0.9843WARNING:tensorflow:Early stopping conditioned on metric `val_auc` which is not available. Available metrics are: loss,auc_1,val_loss,val_auc_1\n",
      "18/18 [==============================] - 0s 4ms/step - loss: 0.3254 - auc_1: 0.9237 - val_loss: 0.4363 - val_auc_1: 0.8812\n",
      "Epoch 342/1000\n",
      " 1/18 [>.............................] - ETA: 0s - loss: 0.3215 - auc_1: 0.9000WARNING:tensorflow:Early stopping conditioned on metric `val_auc` which is not available. Available metrics are: loss,auc_1,val_loss,val_auc_1\n",
      "18/18 [==============================] - 0s 4ms/step - loss: 0.3247 - auc_1: 0.9247 - val_loss: 0.4367 - val_auc_1: 0.8815\n",
      "Epoch 343/1000\n",
      " 1/18 [>.............................] - ETA: 0s - loss: 0.2506 - auc_1: 0.9264WARNING:tensorflow:Early stopping conditioned on metric `val_auc` which is not available. Available metrics are: loss,auc_1,val_loss,val_auc_1\n",
      "18/18 [==============================] - 0s 3ms/step - loss: 0.3251 - auc_1: 0.9235 - val_loss: 0.4366 - val_auc_1: 0.8808\n",
      "Epoch 344/1000\n",
      " 1/18 [>.............................] - ETA: 0s - loss: 0.1677 - auc_1: 0.9870WARNING:tensorflow:Early stopping conditioned on metric `val_auc` which is not available. Available metrics are: loss,auc_1,val_loss,val_auc_1\n",
      "18/18 [==============================] - 0s 4ms/step - loss: 0.3249 - auc_1: 0.9242 - val_loss: 0.4376 - val_auc_1: 0.8802\n",
      "Epoch 345/1000\n",
      " 1/18 [>.............................] - ETA: 0s - loss: 0.3212 - auc_1: 0.9706WARNING:tensorflow:Early stopping conditioned on metric `val_auc` which is not available. Available metrics are: loss,auc_1,val_loss,val_auc_1\n",
      "18/18 [==============================] - 0s 3ms/step - loss: 0.3260 - auc_1: 0.9228 - val_loss: 0.4395 - val_auc_1: 0.8802\n"
     ],
     "name": "stdout"
    }
   ]
  }
 ]
}